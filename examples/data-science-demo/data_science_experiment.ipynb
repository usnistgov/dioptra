{
 "cells": [
  {
   "cell_type": "markdown",
   "metadata": {},
   "source": [
    "## Data Science Demo\n",
    "This notebook contains an end-to-end demostration of Dioptra that can be run on any modern laptop. Please see the example README for instructions on how to prepare your environment for running this example.\n",
    "\n",
    "Setup\n",
    "Below we import the necessary Python modules and ensure the proper environment variables are set so that all the code blocks will work as expected,"
   ]
  },
  {
   "cell_type": "code",
   "execution_count": 529,
   "metadata": {},
   "outputs": [],
   "source": [
    "# Default address for accessing the RESTful API service\n",
    "RESTAPI_ADDRESS = \"http://localhost:80\"\n",
    "\n",
    "# Default address for accessing the MLFlow Tracking server\n",
    "MLFLOW_TRACKING_URI = \"http://localhost:35000\""
   ]
  },
  {
   "cell_type": "markdown",
   "metadata": {},
   "source": [
    "---\n",
    "\n",
    "# Set KEY experiment parameters"
   ]
  },
  {
   "cell_type": "code",
   "execution_count": 530,
   "metadata": {},
   "outputs": [],
   "source": [
    "# KEY EXPERIMENT PARAMETERS\n",
    "POLY_DEGREE = 7\n",
    "SAMPLE_SIZE = 1000\n",
    "ESTIMATOR_DEGREE = 1"
   ]
  },
  {
   "cell_type": "code",
   "execution_count": 531,
   "metadata": {},
   "outputs": [],
   "source": [
    "EXPERIMENT_NAME = \"Overfitting vs Underfitting\"\n",
    "EXPERIMENT_DESC = \"Create a polynomial function then simulate data from it with gaussian noise, then fit linear estimator and measure MSE in and out of training subsets\"\n",
    "QUEUE_NAME = 'tensorflow_cpu'\n",
    "QUEUE_DESC = 'Tensorflow CPU Queue'\n",
    "PLUGIN_FILES = '../task-plugins/dioptra_custom/data_science_example/'"
   ]
  },
  {
   "cell_type": "code",
   "execution_count": 532,
   "metadata": {},
   "outputs": [],
   "source": [
    "delete_past_jobs = False"
   ]
  },
  {
   "cell_type": "code",
   "execution_count": 533,
   "metadata": {},
   "outputs": [
    {
     "name": "stdout",
     "output_type": "stream",
     "text": [
      "The Dioptra Rest API Address is: http://localhost:80\n",
      "The MLFLOW Tracking URI is: http://localhost:35000\n"
     ]
    }
   ],
   "source": [
    "# Import packages from the Python standard library\n",
    "import importlib.util\n",
    "import json\n",
    "import os\n",
    "import sys\n",
    "import pprint\n",
    "import time\n",
    "import warnings\n",
    "from IPython.display import display, clear_output\n",
    "import logging\n",
    "import structlog\n",
    "from pathlib import Path\n",
    "\n",
    "import time \n",
    "import matplotlib.pyplot as plt\n",
    "from datetime import datetime\n",
    "\n",
    "# Filter out warning messages\n",
    "warnings.filterwarnings(\"ignore\")\n",
    "structlog.configure(\n",
    "    wrapper_class=structlog.make_filtering_bound_logger(logging.ERROR),\n",
    ")\n",
    "\n",
    "def register_python_source_file(module_name: str, filepath: Path) -> None:\n",
    "    \"\"\"Import a source file directly.\n",
    "\n",
    "    Args:\n",
    "        module_name: The module name to associate with the imported source file.\n",
    "        filepath: The path to the source file.\n",
    "\n",
    "    Notes:\n",
    "        Adapted from the following implementation in the Python documentation:\n",
    "        https://docs.python.org/3/library/importlib.html#importing-a-source-file-directly\n",
    "    \"\"\"\n",
    "    spec = importlib.util.spec_from_file_location(module_name, str(filepath))\n",
    "    module = importlib.util.module_from_spec(spec)\n",
    "    sys.modules[module_name] = module\n",
    "    spec.loader.exec_module(module)\n",
    "register_python_source_file(\"scripts\", Path(\"..\", \"scripts\", \"__init__.py\"))\n",
    "\n",
    "# Register the examples/scripts directory as a Python module\n",
    "from scripts.utils import make_tar\n",
    "from scripts.setup import upload_experiment, run_experiment, delete_all\n",
    "from dioptra.client import connect_json_dioptra_client\n",
    "# Set DIOPTRA_RESTAPI_URI variable if not defined, used to connect to RESTful API service\n",
    "if os.getenv(\"DIOPTRA_API\") is None:\n",
    "    os.environ[\"DIOPTRA_API\"] = RESTAPI_ADDRESS\n",
    "\n",
    "# Set MLFLOW_TRACKING_URI variable, used to connect to MLFlow Tracking service\n",
    "if os.getenv(\"MLFLOW_TRACKING_URI\") is None:\n",
    "    os.environ[\"MLFLOW_TRACKING_URI\"] = MLFLOW_TRACKING_URI\n",
    "\n",
    "print(f\"The Dioptra Rest API Address is: {RESTAPI_ADDRESS}\")\n",
    "print(f\"The MLFLOW Tracking URI is: {MLFLOW_TRACKING_URI}\")"
   ]
  },
  {
   "cell_type": "markdown",
   "metadata": {},
   "source": [
    "# Set up Client"
   ]
  },
  {
   "cell_type": "code",
   "execution_count": 534,
   "metadata": {},
   "outputs": [
    {
     "data": {
      "text/plain": [
       "<dioptra.client.client.DioptraClient at 0x7feb2c6df5f0>"
      ]
     },
     "execution_count": 534,
     "metadata": {},
     "output_type": "execute_result"
    }
   ],
   "source": [
    "client = connect_json_dioptra_client()\n",
    "client"
   ]
  },
  {
   "cell_type": "code",
   "execution_count": 535,
   "metadata": {},
   "outputs": [
    {
     "data": {
      "text/plain": [
       "{'username': 'dioptra-worker', 'status': 'Login successful'}"
      ]
     },
     "execution_count": 535,
     "metadata": {},
     "output_type": "execute_result"
    }
   ],
   "source": [
    "client.auth.login(\n",
    "    username='dioptra-worker',\n",
    "    password='Kjksa-Dbomaqqs-Uuiq-9'\n",
    ")"
   ]
  },
  {
   "cell_type": "markdown",
   "metadata": {},
   "source": [
    "## Delete old jobs, experiments, entrypoints"
   ]
  },
  {
   "cell_type": "code",
   "execution_count": 536,
   "metadata": {},
   "outputs": [],
   "source": [
    "# Delete Dioptra jobs\n",
    "if delete_past_jobs:\n",
    "\n",
    "    job_ids = client.jobs.get(page_length=100)['data']\n",
    "    for job_id in job_ids:\n",
    "        client.jobs.delete_by_id(job_id['id'])"
   ]
  },
  {
   "cell_type": "markdown",
   "metadata": {},
   "source": [
    "### Delete MLFlow experiments (except experiment 0)"
   ]
  },
  {
   "cell_type": "code",
   "execution_count": 537,
   "metadata": {},
   "outputs": [
    {
     "name": "stdout",
     "output_type": "stream",
     "text": [
      "\n",
      "Current MLFlow Experiments:\n"
     ]
    },
    {
     "data": {
      "text/plain": [
       "[<Experiment: artifact_location='s3://mlflow-tracking/artifacts/2', creation_time=1737129087721, experiment_id='2', last_update_time=1737133695096, lifecycle_stage='deleted', name='Deleted on 2025-01-17 12:08:15.054776', tags={}>,\n",
       " <Experiment: artifact_location='s3://mlflow-tracking/artifacts/1', creation_time=1737128848788, experiment_id='1', last_update_time=1737133695155, lifecycle_stage='deleted', name='Deleted on 2025-01-17 12:08:15.133612', tags={}>,\n",
       " <Experiment: artifact_location='s3://mlflow-tracking/artifacts/0', creation_time=1736963553439, experiment_id='0', last_update_time=1737133695178, lifecycle_stage='active', name='Overfitting vs Underfitting', tags={}>]"
      ]
     },
     "execution_count": 537,
     "metadata": {},
     "output_type": "execute_result"
    }
   ],
   "source": [
    "# Delete MLFlow experiments and runs\n",
    "import mlflow\n",
    "mlflow_client = mlflow.tracking.MlflowClient()\n",
    "\n",
    "if delete_past_jobs:\n",
    "    experiments = mlflow_client.search_experiments(view_type=3)\n",
    "    if len(experiments)!=0:\n",
    "        for experiment in experiments:\n",
    "            exp_id = experiment.experiment_id\n",
    "            run_ids = mlflow_client.search_runs(exp_id)\n",
    "            for run_id in run_ids:\n",
    "                r_id = run_ids[0].info.run_id\n",
    "                mlflow_client.delete_run(r_id)\n",
    "            if str(exp_id) != str(0):\n",
    "                if experiment.lifecycle_stage == 'deleted':\n",
    "                    mlflow_client.restore_experiment(exp_id)\n",
    "                mlflow_client.rename_experiment(experiment_id=exp_id, new_name=f\"Deleted on {datetime.now()}\")\n",
    "                mlflow_client.delete_experiment(exp_id)\n",
    "                print(f\"Deleted MLFLOW experiment {exp_id}\")\n",
    "            else:\n",
    "                mlflow_client.rename_experiment(experiment_id=exp_id, new_name=EXPERIMENT_NAME)\n",
    "                runs = mlflow_client.search_runs(exp_id)\n",
    "                runs = mlflow_client.search_runs(exp_id)\n",
    "                run_counter = 0\n",
    "                for r in runs:\n",
    "                    r_uuid = r.info.run_uuid\n",
    "                    mlflow_client.delete_run(r_uuid)\n",
    "                    run_counter +=1\n",
    "                print(f\"Deleted {run_counter} runs form default experiment {exp_id}\")\n",
    "\n",
    "            #run_ids    \n",
    "            #mlflow_client.list_artifacts()\n",
    "\n",
    "    active_experiments = mlflow_client.search_experiments(view_type=1)\n",
    "    print(f\"\\nCurrently there is (are) {len(active_experiments)} active experiment(s)\")\n",
    "    if len(active_experiments)==0:\n",
    "        exp_id = mlflow_client.create_experiment(EXPERIMENT_NAME)\n",
    "\n",
    "print(\"\\nCurrent MLFlow Experiments:\")\n",
    "mlflow_client.search_experiments(view_type=3)\n"
   ]
  },
  {
   "cell_type": "markdown",
   "metadata": {},
   "source": [
    "# Upload 2 entrypoints"
   ]
  },
  {
   "cell_type": "code",
   "execution_count": 538,
   "metadata": {},
   "outputs": [
    {
     "name": "stdout",
     "output_type": "stream",
     "text": [
      "\n",
      "Dioptra Experiment ID: 158\n",
      "Dioptra Entrypoint IDS: 157 for EP1 (simulation), 159 for EP2 (fitting estimator)\n",
      "Dipotra Queue ID: 9\n",
      "\n"
     ]
    }
   ],
   "source": [
    "experiment_id, gen_data_ep, queue_id = upload_experiment(client,\n",
    "                                                    'src/generate_sim_data.yml',\n",
    "                                                    'gen_data', \n",
    "                                                    f'Create polynomialdata points with gaussian noise',\n",
    "                                                    PLUGIN_FILES,\n",
    "                                                    QUEUE_NAME,\n",
    "                                                    QUEUE_DESC,\n",
    "                                                    EXPERIMENT_NAME,\n",
    "                                                    EXPERIMENT_DESC)\n",
    "\n",
    "experiment_id, fit_estimator_ep, queue_id = upload_experiment(client,\n",
    "                                                    'src/fit_estimator.yml',\n",
    "                                                    'fit_estimator',\n",
    "                                                    'Fit a linear estimator and estimate MSE after splitting in trian/test/Out of Distribution',\n",
    "                                                    PLUGIN_FILES,\n",
    "                                                    QUEUE_NAME,\n",
    "                                                    QUEUE_DESC,\n",
    "                                                    EXPERIMENT_NAME,\n",
    "                                                    EXPERIMENT_DESC)\n",
    "\n",
    "print(f\"\"\"\n",
    "Dioptra Experiment ID: {experiment_id}\n",
    "Dioptra Entrypoint IDS: {gen_data_ep} for EP1 (simulation), {fit_estimator_ep} for EP2 (fitting estimator)\n",
    "Dipotra Queue ID: {queue_id}\n",
    "\"\"\")"
   ]
  },
  {
   "cell_type": "markdown",
   "metadata": {},
   "source": [
    "# Submit Jobs \n",
    "- First job: generate polynomial and simulate datapoints\n",
    "- Second job: Split dataset, train model, evaluate model"
   ]
  },
  {
   "cell_type": "code",
   "execution_count": 539,
   "metadata": {},
   "outputs": [],
   "source": [
    "job_time_limit = '1h'\n",
    "\n",
    "\n",
    "timestamp = datetime.now().strftime(\"%d/%m %H:%M\")\n",
    "\n",
    "gen_data_job =  client.experiments.jobs.create(\n",
    "    experiment_id=experiment_id, \n",
    "    description=f\"{timestamp} - Generating {SAMPLE_SIZE} data points of simulated data from polynomial of degree {POLY_DEGREE}\", \n",
    "    queue_id=queue_id,\n",
    "    entrypoint_id=gen_data_ep,\n",
    "    values = {'poly_degree':str(POLY_DEGREE), 'sample_size':str(SAMPLE_SIZE)},\n",
    "    timeout=job_time_limit\n",
    ")"
   ]
  },
  {
   "cell_type": "code",
   "execution_count": 540,
   "metadata": {},
   "outputs": [],
   "source": [
    "fit_estimator_job =  client.experiments.jobs.create(\n",
    "    experiment_id=experiment_id, \n",
    "    description=f\"{timestamp} - Fitting a Linear Estimator of degree {ESTIMATOR_DEGREE} and Gathering MSE Metrics\", \n",
    "    queue_id=queue_id,\n",
    "    entrypoint_id=fit_estimator_ep,\n",
    "    values =  {'estimator_degree': str(ESTIMATOR_DEGREE), \n",
    "               'experiment_id':str(experiment_id), 'job_id': str(gen_data_job['id']) },\n",
    "    #values = { 'job_id':str(gen_data_job['id'])},\n",
    "    timeout=job_time_limit\n",
    ")\n"
   ]
  },
  {
   "cell_type": "markdown",
   "metadata": {},
   "source": [
    "# Retrieve Metrics"
   ]
  },
  {
   "cell_type": "code",
   "execution_count": 541,
   "metadata": {},
   "outputs": [
    {
     "name": "stdout",
     "output_type": "stream",
     "text": [
      "Waiting max of 20 seconds for job to finish...\n",
      "Job 172 finished in 8 seconds!\n"
     ]
    }
   ],
   "source": [
    "# Wait for job to finish\n",
    "max_wait = 20; counter=0\n",
    "job_finished = False\n",
    "print(f\"Waiting max of {max_wait} seconds for job to finish...\")\n",
    "while not job_finished:\n",
    "    job_finished = client.jobs.get_by_id(fit_estimator_job['id'])['status'] == 'finished'\n",
    "    if job_finished:\n",
    "        print(f\"Job {fit_estimator_job['id']} finished in {counter} seconds!\")\n",
    "    if  client.jobs.get_by_id(fit_estimator_job['id'])['status'] == 'failed':\n",
    "        print(f\"Job {fit_estimator_job['id']} failed after {counter} seconds\")\n",
    "        raise RuntimeError\n",
    "    time.sleep(1)\n",
    "    counter +=1\n",
    "    if counter>max_wait:\n",
    "        print(\"Maximum time elapsed waiting for job\")\n",
    "        raise TimeoutError"
   ]
  },
  {
   "cell_type": "code",
   "execution_count": 542,
   "metadata": {},
   "outputs": [],
   "source": [
    "# Retrieve Metrics\n",
    "metrics = client.jobs.get_metrics_by_id(job_id=fit_estimator_job['id'])"
   ]
  },
  {
   "cell_type": "markdown",
   "metadata": {},
   "source": [
    "# Visualize MSE Metrics"
   ]
  },
  {
   "cell_type": "code",
   "execution_count": 543,
   "metadata": {},
   "outputs": [
    {
     "data": {
      "image/png": "[encoded data removed]",
      "text/plain": [
       "<Figure size 800x500 with 1 Axes>"
      ]
     },
     "metadata": {},
     "output_type": "display_data"
    }
   ],
   "source": [
    "# Filter the relevant MSE values\n",
    "mse_metrics = [metric for metric in metrics if metric['name'] in ['MSE_train', 'MSE_test', 'MSE_out_of_distribution']]\n",
    "names = [metric['name'] for metric in mse_metrics]\n",
    "values = [metric['value'] for metric in mse_metrics]\n",
    "\n",
    "# Create the bar graph\n",
    "plt.figure(figsize=(8, 5))\n",
    "plt.bar(names, values, color='skyblue')\n",
    "plt.title(f'Mean Squared Error of Model On Simulated Data\\nSample Size: {SAMPLE_SIZE}\\nPolynomial Degree: {POLY_DEGREE}\\nEstimator Degree: {ESTIMATOR_DEGREE}', fontsize=13)\n",
    "\n",
    "plt.xlabel('MSE Metrics', fontsize=12)\n",
    "plt.ylabel('Values', fontsize=12)\n",
    "plt.xticks(fontsize=10)\n",
    "plt.yticks(fontsize=10)\n",
    "plt.grid(axis='y', linestyle='--', alpha=0.7)\n",
    "plt.tight_layout()\n",
    "\n",
    "# Show the plot\n",
    "plt.show()\n"
   ]
  }
 ],
 "metadata": {
  "kernelspec": {
   "display_name": "venv-deploy",
   "language": "python",
   "name": "python3"
  },
  "language_info": {
   "codemirror_mode": {
    "name": "ipython",
    "version": 3
   },
   "file_extension": ".py",
   "mimetype": "text/x-python",
   "name": "python",
   "nbconvert_exporter": "python",
   "pygments_lexer": "ipython3",
   "version": "3.12.3"
  }
 },
 "nbformat": 4,
 "nbformat_minor": 2
}
