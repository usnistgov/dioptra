{
 "cells": [
  {
   "cell_type": "code",
   "execution_count": 18,
   "metadata": {},
   "outputs": [
    {
     "data": {
      "text/html": [
       "        <script type=\"text/javascript\">\n",
       "        window.PlotlyConfig = {MathJaxConfig: 'local'};\n",
       "        if (window.MathJax && window.MathJax.Hub && window.MathJax.Hub.Config) {window.MathJax.Hub.Config({SVG: {font: \"STIX-Web\"}});}\n",
       "        if (typeof require !== 'undefined') {\n",
       "        require.undef(\"plotly\");\n",
       "        requirejs.config({\n",
       "            paths: {\n",
       "                'plotly': ['https://cdn.plot.ly/plotly-2.35.2.min']\n",
       "            }\n",
       "        });\n",
       "        require(['plotly'], function(Plotly) {\n",
       "            window._Plotly = Plotly;\n",
       "        });\n",
       "        }\n",
       "        </script>\n",
       "        "
      ]
     },
     "metadata": {},
     "output_type": "display_data"
    }
   ],
   "source": [
    "import numpy as np\n",
    "import pandas as pd\n",
    "import matplotlib.pyplot as plt\n",
    "from sklearn.preprocessing import PolynomialFeatures\n",
    "from sklearn.model_selection import train_test_split\n",
    "from sklearn.linear_model import LinearRegression\n",
    "from sklearn.metrics import mean_squared_error\n",
    "import os\n",
    "\n",
    "import plotly.express as px\n",
    "import plotly.graph_objects as go\n",
    "from plotly.io import renderers\n",
    "renderers.default = 'notebook'\n",
    "\n",
    "from plotly.offline import init_notebook_mode\n",
    "init_notebook_mode(connected=True)"
   ]
  },
  {
   "cell_type": "code",
   "execution_count": 19,
   "metadata": {},
   "outputs": [],
   "source": [
    "def simulate_data_from_polynomial_w_noise(poly_degree=3, sample_size=300, min_x = 0, max_x=100,\n",
    "                                        y_range_max=100, noise_mean=0, noise_var=10):\n",
    "    \"\"\" \n",
    "    Creates a polynomial of degree `poly_degree` that has roots between min_x and max_x\n",
    "    and a range limited to [-y_range_max, y_range_max]. Then samples data points between\n",
    "    min_x and max_x and returns a dataframe of that data with noise added of mean `noise_mean`\n",
    "    and variance `noise_var`\n",
    "    \"\"\"\n",
    "\n",
    "\n",
    "    # Generate random roots between min_x and max_x\n",
    "    random_roots = np.random.uniform(min_x, max_x, size=poly_degree)\n",
    "    sorted_roots = np.sort(random_roots)  # Sort roots for spacing\n",
    "    roots = [sorted_roots[0]]  # Start with the first root\n",
    "\n",
    "    # Create min root spacing\n",
    "    min_spacing = (max_x - min_x)/(poly_degree*4)\n",
    "    \n",
    "    # Adjust roots to ensure minimum spacing\n",
    "    for root in sorted_roots[1:]:\n",
    "        spaced_root = max(roots[-1] + min_spacing, root)\n",
    "        roots.append(spaced_root)\n",
    "        \n",
    "    # Define a polynomial function based on these roots\n",
    "    def polynomial(x):\n",
    "        poly = 1\n",
    "        for root in roots:\n",
    "            poly *= (x - root)\n",
    "        return poly\n",
    "    \n",
    "    # Generate x values between min_x and max_x\n",
    "    x_values = np.linspace(min_x, max_x, 400)\n",
    "    \n",
    "    # Compute the corresponding y values\n",
    "    y_values = polynomial(x_values)\n",
    "    \n",
    "    # Scale the polynomial by adjusting the coefficient to ensure y values stay between -y_range_max and y_range_max\n",
    "    y_max = np.max(y_values)\n",
    "    y_min = np.min(y_values)\n",
    "    \n",
    "    # Find the scale factor that limits y range to within [-y_range_max, y_range_max]\n",
    "    scale_factor = y_range_max / max(abs(y_max), abs(y_min))\n",
    "    \n",
    "    # Adjust the polynomial function by applying the scale factor\n",
    "    def scaled_polynomial(x):\n",
    "        return scale_factor * polynomial(x)\n",
    "    \n",
    "    # Sample data points between min_x and max_x\n",
    "    X_sampled = np.random.uniform(min_x, max_x, sample_size)\n",
    "\n",
    "    # Calculate the true y value based off the scaled polynomial\n",
    "    y_true = scaled_polynomial(X_sampled)\n",
    "    \n",
    "    # Generate noise based on the given mean and variance\n",
    "    noise = np.random.normal(loc=noise_mean, scale=np.sqrt(noise_var), size=sample_size)\n",
    "    \n",
    "    # Add noise to the true y values to get observed y\n",
    "    y_observed = y_true + noise\n",
    "\n",
    "    # Create a pandas DataFrame\n",
    "    sim_data_df = pd.DataFrame({'X': X_sampled,'y': y_observed})\n",
    "\n",
    "    # Create string representation of polynomial\n",
    "    terms = []\n",
    "    for root in roots:\n",
    "        if root == 0:\n",
    "            terms.append(f\"x\")\n",
    "        else:\n",
    "            terms.append(f\"(x - {root:.2f})\")\n",
    "    polynomial_str = f\"f(x) = {scale_factor:.2f}\" + \"\".join(terms)\n",
    "    \n",
    "    polynomial_dict = {\n",
    "        'poly_string' : polynomial_str,\n",
    "        'poly_degree' : poly_degree,\n",
    "        'min_x' : min_x,\n",
    "        'max_x' : max_x,\n",
    "        'y_range_max': y_range_max,\n",
    "        'roots' : roots,\n",
    "        'poly_function': scaled_polynomial\n",
    "    }\n",
    "\n",
    "    return sim_data_df, polynomial_dict\n",
    "\n"
   ]
  },
  {
   "cell_type": "code",
   "execution_count": 20,
   "metadata": {},
   "outputs": [],
   "source": [
    "def polynomial_regression_with_metrics(df, x_vars, y_var, estimator_degree=1, test_size=0.2, random_state=42 ):\n",
    "    \"\"\"\n",
    "    Perform polynomial expansion of the X variables, split the data into train, test, and out-of-distribution sets, \n",
    "    fit a linear model, and return metrics.\n",
    "    \n",
    "    Args:\n",
    "        df (pd.DataFrame): Input DataFrame with X and y variables.\n",
    "        x_vars (list): List of column names for X variables.\n",
    "        y_var (str): Name of the target variable (y).\n",
    "        estimator_degree (int): Degree of polynomial expansion (default=1).\n",
    "        test_size (float): Proportion of the in-distribution data to include in the test split (default=0.2).\n",
    "        random_state (int): Random seed for reproducibility (default=42).\n",
    "        \n",
    "    Returns:\n",
    "        metrics (dict): A dictionary containing MSE for train, test, and out-of-distribution sets.\n",
    "        estimator_info (dict): A dictionary containing model and additional info.\n",
    "    \"\"\"\n",
    "    \n",
    "    if type(x_vars) is str:\n",
    "        x_vars = [x_vars]\n",
    "        \n",
    "    # Extract the features (X) and target (y)\n",
    "    X = df[x_vars]\n",
    "    y = df[y_var]\n",
    "    \n",
    "\n",
    "    # Create polynomial features (without interaction terms)\n",
    "    poly = PolynomialFeatures(degree=estimator_degree, include_bias=False)\n",
    "    X_poly = poly.fit_transform(X)\n",
    "    \n",
    "    # Use the first variable in x_vars for percentile splitting\n",
    "    x_first = X[x_vars[0]].values\n",
    "    percentile_80 = np.percentile(x_first, 80)\n",
    "    \n",
    "    # Split data into in-distribution and out-of-distribution based on the 80th percentile\n",
    "    in_distribution_mask = x_first <= percentile_80\n",
    "    out_of_distribution_mask = x_first > percentile_80\n",
    "    \n",
    "    # Get indices\n",
    "    in_distribution_indices = np.where(in_distribution_mask)[0]\n",
    "    out_of_distribution_indices = np.where(out_of_distribution_mask)[0]\n",
    "    \n",
    "    # Get in-distribution data\n",
    "    X_in = X_poly[in_distribution_mask]\n",
    "    y_in = y.values[in_distribution_mask]\n",
    "    \n",
    "    # Split in-distribution data into train and test randomly\n",
    "    indices_in = in_distribution_indices\n",
    "    X_train, X_test, y_train, y_test, train_idx, test_idx = train_test_split(\n",
    "        X_in, y_in, indices_in, test_size=test_size, random_state=random_state)\n",
    "    \n",
    "    # Out-of-distribution data\n",
    "    X_out = X_poly[out_of_distribution_mask]\n",
    "    y_out = y.values[out_of_distribution_mask]\n",
    "    out_of_distribution_idx = out_of_distribution_indices\n",
    "    \n",
    "    # Fit a linear estimator (linear regression)\n",
    "    model = LinearRegression()\n",
    "    model.fit(X_train, y_train)\n",
    "    \n",
    "    # Predict on the train, test, and out-of-distribution sets\n",
    "    y_train_pred = model.predict(X_train)\n",
    "    y_test_pred = model.predict(X_test)\n",
    "    y_out_pred = model.predict(X_out)\n",
    "    \n",
    "    # Calculate the mean squared error for all sets\n",
    "    mse_train = mean_squared_error(y_train, y_train_pred)\n",
    "    mse_test = mean_squared_error(y_test, y_test_pred)\n",
    "    mse_out_of_distribution = mean_squared_error(y_out, y_out_pred)\n",
    "    \n",
    "    # Prepare the results\n",
    "    metrics = {\n",
    "        'MSE_train': mse_train,\n",
    "        'MSE_test': mse_test,\n",
    "        'MSE_out_of_distribution': mse_out_of_distribution,\n",
    "        'MSE_ratio_test_train': mse_test / mse_train if mse_train != 0 else np.inf,\n",
    "        'MSE_ratio_out_train': mse_out_of_distribution / mse_train if mse_train != 0 else np.inf\n",
    "    }\n",
    "    \n",
    "    estimator_info = {\n",
    "        'model': model,\n",
    "        'degree': estimator_degree,\n",
    "        'coefficients': model.coef_,\n",
    "        'intercept': model.intercept_,\n",
    "        'polynomial_features': poly.get_feature_names_out(x_vars),\n",
    "        'train_idx': train_idx,\n",
    "        'test_idx': test_idx,\n",
    "        'out_of_distribution_idx': out_of_distribution_idx\n",
    "    }\n",
    "    \n",
    "    return metrics, estimator_info"
   ]
  },
  {
   "cell_type": "code",
   "execution_count": 21,
   "metadata": {},
   "outputs": [],
   "source": [
    "def plot_sim_poly_data_estimator(df, polynomial_dict, estimator_info=None):\n",
    "    \"\"\"\n",
    "    Plot simulated data, true polynomial, and optionally a fitted estimator on separate subplots.\n",
    "\n",
    "    This function creates one or two subplots to display the simulated data and the true polynomial, \n",
    "    and optionally, a second plot with a fitted estimator if provided via the `estimator_info` argument.\n",
    "\n",
    "    Args:\n",
    "        df (pd.DataFrame): DataFrame containing the simulated data with 'X' and 'y' columns.\n",
    "        polynomial_dict (dict): A dictionary containing the polynomial information. Must include:\n",
    "            - 'poly_function': The true polynomial function used to generate the data.\n",
    "            - 'poly_degree': Degree of the true polynomial.\n",
    "            - 'y_range_max': Maximum y-value range for plotting.\n",
    "        estimator_info (dict, optional): Dictionary containing information about the fitted linear estimator. \n",
    "            If provided, the function creates a second subplot showing the fit. Must include:\n",
    "            - 'model': Fitted linear regression model.\n",
    "            - 'degree': Degree of the polynomial used for fitting the estimator.\n",
    "            - 'train_idx': Indices of the training data points.\n",
    "            - 'test_idx': Indices of the testing data points.\n",
    "\n",
    "    Returns:\n",
    "        None. Displays a plot with one or two subplots:\n",
    "            - The first subplot shows the simulated data and the true polynomial.\n",
    "            - The second subplot (if estimator_info is provided) shows the fitted estimator with training and testing data points.\n",
    "    \"\"\"\n",
    "\n",
    "    if estimator_info is not None:\n",
    "        n_plots = 2\n",
    "    else:\n",
    "        n_plots = 1\n",
    "\n",
    "    # Create subplots: one for simulated data, another for simulated data + estimator\n",
    "    fig, axes = plt.subplots(1, n_plots, figsize=(12, 6)) \n",
    "\n",
    "    # Generate points using the polynomial function and add to the plot\n",
    "    x_range = np.linspace(polynomial_dict['min_x'], polynomial_dict['max_x'], 500)\n",
    "    polynomial_y_values = polynomial_dict['poly_function'](x_range)\n",
    "\n",
    "    if estimator_info is not None:\n",
    "\n",
    "        model = estimator_info['model']\n",
    "        lin_estimator_degree = estimator_info['degree']  # Extract the degree from estimator_info\n",
    "        \n",
    "        # Expand the data using the degree from estimator_info\n",
    "        poly = PolynomialFeatures(degree=lin_estimator_degree, include_bias=False)\n",
    "        x_range_poly = poly.fit_transform(x_range.reshape(-1,1))\n",
    "        \n",
    "        # Predict y values using the trained model\n",
    "        y_range_pred = model.predict(x_range_poly)\n",
    "        \n",
    "    # First subplot: Simulated data only\n",
    "    axes[0].plot(df['X'], df['y'], marker='o', linestyle='', color='b', alpha=.3, label='Simulated Data')\n",
    "    axes[0].set_title(f\"Data Simulated from Polynomial (Degree = {polynomial_dict['poly_degree']})\")\n",
    "\n",
    "    for a in range(n_plots):\n",
    "\n",
    "        if a == 1:\n",
    "            train_idx, test_idx, OOD_idx = (estimator_info['train_idx'], estimator_info['test_idx'], estimator_info['out_of_distribution_idx'])\n",
    "            axes[a].plot(df.loc[train_idx]['X'], df.loc[train_idx]['y'], marker='o', linestyle='', color='b', alpha=.2, label='Simulated Data - Training')\n",
    "            axes[a].plot(df.loc[test_idx]['X'], df.loc[test_idx]['y'], marker='o', linestyle='', color='gray', alpha=.3, label='Simulated Data - Testing')\n",
    "            axes[a].plot(df.loc[OOD_idx]['X'], df.loc[OOD_idx]['y'], marker='o', linestyle='', color='red', alpha=.3, label='Out of Distribution Data')\n",
    "            axes[a].plot(x_range, y_range_pred, color='red', linestyle='-', label=f'Fitted Linear Estimator (Degree {lin_estimator_degree})')\n",
    "\n",
    "        axes[a].axhline(y=0, color='black', linestyle='-', linewidth=1)\n",
    "        axes[a].plot(x_range, polynomial_y_values, linestyle='--', color='lightblue', label='True Polynomial')\n",
    "\n",
    "        axes[a].grid(True)\n",
    "        axes[a].set_ylim(-1 * polynomial_dict['y_range_max'], polynomial_dict['y_range_max'])\n",
    "        axes[a].set_xlabel('X values')\n",
    "        axes[a].set_ylabel('Y values')\n",
    "        axes[a].legend(loc='upper left')\n",
    "\n",
    "    plt.tight_layout()\n",
    "\n",
    "    return fig\n"
   ]
  },
  {
   "cell_type": "code",
   "execution_count": 22,
   "metadata": {},
   "outputs": [
    {
     "data": {
      "text/plain": [
       "{'model': LinearRegression(),\n",
       " 'degree': 1,\n",
       " 'coefficients': array([-0.41433172]),\n",
       " 'intercept': np.float64(-45.95246387202439),\n",
       " 'polynomial_features': array(['X'], dtype=object),\n",
       " 'train_idx': array([49,  7, 33, 11, 16, 39, 43, 10, 22, 32,  0, 42,  5, 13,  1, 37, 27,\n",
       "         2, 38, 45,  3, 44, 30, 40, 12, 28, 23, 26,  9, 17, 36, 48]),\n",
       " 'test_idx': array([24, 20, 18, 34,  4, 15, 46, 35]),\n",
       " 'out_of_distribution_idx': array([ 6,  8, 14, 19, 21, 25, 29, 31, 41, 47])}"
      ]
     },
     "execution_count": 22,
     "metadata": {},
     "output_type": "execute_result"
    }
   ],
   "source": [
    "estimator_info"
   ]
  },
  {
   "cell_type": "code",
   "execution_count": 23,
   "metadata": {},
   "outputs": [
    {
     "data": {
      "text/plain": [
       "{'MSE_train': np.float64(660.4808223085382),\n",
       " 'MSE_test': np.float64(651.4560280520608),\n",
       " 'MSE_out_of_distribution': np.float64(7527.018476675965),\n",
       " 'MSE_ratio_test_train': np.float64(0.9863360237698747),\n",
       " 'MSE_ratio_out_train': np.float64(11.396271053514072)}"
      ]
     },
     "execution_count": 23,
     "metadata": {},
     "output_type": "execute_result"
    },
    {
     "data": {
      "image/png": "[encoded data removed]",
      "text/plain": [
       "<Figure size 1200x600 with 2 Axes>"
      ]
     },
     "metadata": {},
     "output_type": "display_data"
    }
   ],
   "source": [
    "\n",
    "sim_data_df, polynomial_dict = simulate_data_from_polynomial_w_noise(poly_degree=2, noise_var = 150 , sample_size=50)\n",
    "metrics, estimator_info = polynomial_regression_with_metrics(sim_data_df, 'X', 'y', estimator_degree=1)\n",
    "plot_sim_poly_data_estimator(sim_data_df, polynomial_dict, estimator_info)\n",
    "metrics"
   ]
  },
  {
   "cell_type": "code",
   "execution_count": 24,
   "metadata": {},
   "outputs": [
    {
     "name": "stdout",
     "output_type": "stream",
     "text": [
      "Poly Order: 1 Est Order: 1 Sample Size: 25\n",
      "Poly Order: 1 Est Order: 1 Sample Size: 50\n",
      "Poly Order: 1 Est Order: 1 Sample Size: 75\n",
      "Poly Order: 1 Est Order: 2 Sample Size: 25\n",
      "Poly Order: 1 Est Order: 2 Sample Size: 50\n",
      "Poly Order: 1 Est Order: 2 Sample Size: 75\n",
      "Poly Order: 1 Est Order: 3 Sample Size: 25\n",
      "Poly Order: 1 Est Order: 3 Sample Size: 50\n",
      "Poly Order: 1 Est Order: 3 Sample Size: 75\n",
      "Poly Order: 1 Est Order: 5 Sample Size: 25\n",
      "Poly Order: 1 Est Order: 5 Sample Size: 50\n",
      "Poly Order: 1 Est Order: 5 Sample Size: 75\n",
      "Poly Order: 1 Est Order: 10 Sample Size: 25\n",
      "Poly Order: 1 Est Order: 10 Sample Size: 50\n",
      "Poly Order: 1 Est Order: 10 Sample Size: 75\n",
      "Poly Order: 2 Est Order: 1 Sample Size: 25\n",
      "Poly Order: 2 Est Order: 1 Sample Size: 50\n",
      "Poly Order: 2 Est Order: 1 Sample Size: 75\n",
      "Poly Order: 2 Est Order: 2 Sample Size: 25\n",
      "Poly Order: 2 Est Order: 2 Sample Size: 50\n",
      "Poly Order: 2 Est Order: 2 Sample Size: 75\n",
      "Poly Order: 2 Est Order: 3 Sample Size: 25\n",
      "Poly Order: 2 Est Order: 3 Sample Size: 50\n",
      "Poly Order: 2 Est Order: 3 Sample Size: 75\n",
      "Poly Order: 2 Est Order: 5 Sample Size: 25\n",
      "Poly Order: 2 Est Order: 5 Sample Size: 50\n",
      "Poly Order: 2 Est Order: 5 Sample Size: 75\n",
      "Poly Order: 2 Est Order: 10 Sample Size: 25\n",
      "Poly Order: 2 Est Order: 10 Sample Size: 50\n",
      "Poly Order: 2 Est Order: 10 Sample Size: 75\n",
      "Poly Order: 3 Est Order: 1 Sample Size: 25\n",
      "Poly Order: 3 Est Order: 1 Sample Size: 50\n",
      "Poly Order: 3 Est Order: 1 Sample Size: 75\n",
      "Poly Order: 3 Est Order: 2 Sample Size: 25\n",
      "Poly Order: 3 Est Order: 2 Sample Size: 50\n",
      "Poly Order: 3 Est Order: 2 Sample Size: 75\n",
      "Poly Order: 3 Est Order: 3 Sample Size: 25\n",
      "Poly Order: 3 Est Order: 3 Sample Size: 50\n",
      "Poly Order: 3 Est Order: 3 Sample Size: 75\n",
      "Poly Order: 3 Est Order: 5 Sample Size: 25\n",
      "Poly Order: 3 Est Order: 5 Sample Size: 50\n",
      "Poly Order: 3 Est Order: 5 Sample Size: 75\n",
      "Poly Order: 3 Est Order: 10 Sample Size: 25\n",
      "Poly Order: 3 Est Order: 10 Sample Size: 50\n",
      "Poly Order: 3 Est Order: 10 Sample Size: 75\n",
      "Poly Order: 5 Est Order: 1 Sample Size: 25\n",
      "Poly Order: 5 Est Order: 1 Sample Size: 50\n",
      "Poly Order: 5 Est Order: 1 Sample Size: 75\n",
      "Poly Order: 5 Est Order: 2 Sample Size: 25\n",
      "Poly Order: 5 Est Order: 2 Sample Size: 50\n",
      "Poly Order: 5 Est Order: 2 Sample Size: 75\n",
      "Poly Order: 5 Est Order: 3 Sample Size: 25\n",
      "Poly Order: 5 Est Order: 3 Sample Size: 50\n",
      "Poly Order: 5 Est Order: 3 Sample Size: 75\n",
      "Poly Order: 5 Est Order: 5 Sample Size: 25\n",
      "Poly Order: 5 Est Order: 5 Sample Size: 50\n",
      "Poly Order: 5 Est Order: 5 Sample Size: 75\n",
      "Poly Order: 5 Est Order: 10 Sample Size: 25\n",
      "Poly Order: 5 Est Order: 10 Sample Size: 50\n",
      "Poly Order: 5 Est Order: 10 Sample Size: 75\n"
     ]
    }
   ],
   "source": [
    "avg_MSE_ratios = []\n",
    "avg_test_MSEs = []\n",
    "avg_OOD_MSEs = []\n",
    "sample_sizes = []\n",
    "poly_orders = []\n",
    "est_orders = []\n",
    "\n",
    "for poly_order in [1,2,3, 5]:\n",
    "    for est_order in [1,2,3, 5, 10]:\n",
    "        for sample_size in [25,50, 75]:\n",
    "            print(f\"Poly Order: {poly_order} Est Order: {est_order} Sample Size: {sample_size}\")\n",
    "\n",
    "            MSE_ratios = [] \n",
    "            test_MSEs = []\n",
    "            OOD_MSEs = []\n",
    "            for sim in range(1000):\n",
    "                sim_data_df, polynomial_dict = simulate_data_from_polynomial_w_noise(poly_degree=poly_order, noise_var = 150 , sample_size=sample_size)\n",
    "                metrics, estimator_info = polynomial_regression_with_metrics(sim_data_df, 'X', 'y', estimator_degree=est_order)\n",
    "                MSE_ratios.append(metrics['MSE_ratio_test_train'])\n",
    "                test_MSEs.append(metrics['MSE_test'])\n",
    "                OOD_MSEs.append(metrics['MSE_out_of_distribution'])\n",
    "\n",
    "            avg_MSE_ratios.append( np.median(MSE_ratios) )\n",
    "            avg_test_MSEs.append( np.median(test_MSEs) )\n",
    "            avg_OOD_MSEs.append( np.median(OOD_MSEs) )\n",
    "            \n",
    "            poly_orders.append(poly_order); est_orders.append(est_order); sample_sizes.append(sample_size)\n",
    "\n",
    "            # Save last fig\n",
    "            fig = plot_sim_poly_data_estimator(sim_data_df, polynomial_dict, estimator_info)\n",
    "            figname = f'simdata_poly_{poly_order}_est_{est_order}_samples_{sample_size}.png'\n",
    "            fig.savefig(os.path.join('output', figname))\n",
    "            plt.close()\n"
   ]
  },
  {
   "cell_type": "code",
   "execution_count": 25,
   "metadata": {},
   "outputs": [
    {
     "data": {
      "text/html": [
       "<div>\n",
       "<style scoped>\n",
       "    .dataframe tbody tr th:only-of-type {\n",
       "        vertical-align: middle;\n",
       "    }\n",
       "\n",
       "    .dataframe tbody tr th {\n",
       "        vertical-align: top;\n",
       "    }\n",
       "\n",
       "    .dataframe thead th {\n",
       "        text-align: right;\n",
       "    }\n",
       "</style>\n",
       "<table border=\"1\" class=\"dataframe\">\n",
       "  <thead>\n",
       "    <tr style=\"text-align: right;\">\n",
       "      <th></th>\n",
       "      <th>poly_order</th>\n",
       "      <th>est_order</th>\n",
       "      <th>sample_size</th>\n",
       "      <th>avg_MSE_ratio</th>\n",
       "      <th>avg_test_MSE</th>\n",
       "      <th>avg_OOD_MSE</th>\n",
       "    </tr>\n",
       "  </thead>\n",
       "  <tbody>\n",
       "    <tr>\n",
       "      <th>0</th>\n",
       "      <td>1</td>\n",
       "      <td>1</td>\n",
       "      <td>25</td>\n",
       "      <td>1.121592</td>\n",
       "      <td>141.706765</td>\n",
       "      <td>1.722266e+02</td>\n",
       "    </tr>\n",
       "    <tr>\n",
       "      <th>1</th>\n",
       "      <td>1</td>\n",
       "      <td>1</td>\n",
       "      <td>50</td>\n",
       "      <td>1.059282</td>\n",
       "      <td>148.567731</td>\n",
       "      <td>1.642119e+02</td>\n",
       "    </tr>\n",
       "    <tr>\n",
       "      <th>2</th>\n",
       "      <td>1</td>\n",
       "      <td>1</td>\n",
       "      <td>75</td>\n",
       "      <td>1.018926</td>\n",
       "      <td>145.150823</td>\n",
       "      <td>1.587370e+02</td>\n",
       "    </tr>\n",
       "    <tr>\n",
       "      <th>3</th>\n",
       "      <td>1</td>\n",
       "      <td>2</td>\n",
       "      <td>25</td>\n",
       "      <td>1.306200</td>\n",
       "      <td>148.205759</td>\n",
       "      <td>2.516762e+02</td>\n",
       "    </tr>\n",
       "    <tr>\n",
       "      <th>4</th>\n",
       "      <td>1</td>\n",
       "      <td>2</td>\n",
       "      <td>50</td>\n",
       "      <td>1.093178</td>\n",
       "      <td>146.070866</td>\n",
       "      <td>2.108529e+02</td>\n",
       "    </tr>\n",
       "    <tr>\n",
       "      <th>5</th>\n",
       "      <td>1</td>\n",
       "      <td>2</td>\n",
       "      <td>75</td>\n",
       "      <td>1.075135</td>\n",
       "      <td>150.433599</td>\n",
       "      <td>1.911766e+02</td>\n",
       "    </tr>\n",
       "    <tr>\n",
       "      <th>6</th>\n",
       "      <td>1</td>\n",
       "      <td>3</td>\n",
       "      <td>25</td>\n",
       "      <td>1.611290</td>\n",
       "      <td>169.571600</td>\n",
       "      <td>7.634836e+02</td>\n",
       "    </tr>\n",
       "    <tr>\n",
       "      <th>7</th>\n",
       "      <td>1</td>\n",
       "      <td>3</td>\n",
       "      <td>50</td>\n",
       "      <td>1.195691</td>\n",
       "      <td>152.418367</td>\n",
       "      <td>3.949421e+02</td>\n",
       "    </tr>\n",
       "    <tr>\n",
       "      <th>8</th>\n",
       "      <td>1</td>\n",
       "      <td>3</td>\n",
       "      <td>75</td>\n",
       "      <td>1.171728</td>\n",
       "      <td>157.191504</td>\n",
       "      <td>3.033706e+02</td>\n",
       "    </tr>\n",
       "    <tr>\n",
       "      <th>9</th>\n",
       "      <td>1</td>\n",
       "      <td>5</td>\n",
       "      <td>25</td>\n",
       "      <td>2.401941</td>\n",
       "      <td>205.590646</td>\n",
       "      <td>2.182940e+04</td>\n",
       "    </tr>\n",
       "    <tr>\n",
       "      <th>10</th>\n",
       "      <td>1</td>\n",
       "      <td>5</td>\n",
       "      <td>50</td>\n",
       "      <td>1.478371</td>\n",
       "      <td>174.136529</td>\n",
       "      <td>7.021396e+03</td>\n",
       "    </tr>\n",
       "    <tr>\n",
       "      <th>11</th>\n",
       "      <td>1</td>\n",
       "      <td>5</td>\n",
       "      <td>75</td>\n",
       "      <td>1.240646</td>\n",
       "      <td>162.837727</td>\n",
       "      <td>4.583768e+03</td>\n",
       "    </tr>\n",
       "    <tr>\n",
       "      <th>12</th>\n",
       "      <td>1</td>\n",
       "      <td>10</td>\n",
       "      <td>25</td>\n",
       "      <td>4.474110</td>\n",
       "      <td>291.889239</td>\n",
       "      <td>1.615731e+08</td>\n",
       "    </tr>\n",
       "    <tr>\n",
       "      <th>13</th>\n",
       "      <td>1</td>\n",
       "      <td>10</td>\n",
       "      <td>50</td>\n",
       "      <td>1.842432</td>\n",
       "      <td>201.579051</td>\n",
       "      <td>2.322462e+07</td>\n",
       "    </tr>\n",
       "    <tr>\n",
       "      <th>14</th>\n",
       "      <td>1</td>\n",
       "      <td>10</td>\n",
       "      <td>75</td>\n",
       "      <td>1.406591</td>\n",
       "      <td>176.850693</td>\n",
       "      <td>1.221393e+07</td>\n",
       "    </tr>\n",
       "    <tr>\n",
       "      <th>15</th>\n",
       "      <td>2</td>\n",
       "      <td>1</td>\n",
       "      <td>25</td>\n",
       "      <td>1.128752</td>\n",
       "      <td>309.894889</td>\n",
       "      <td>2.705254e+03</td>\n",
       "    </tr>\n",
       "    <tr>\n",
       "      <th>16</th>\n",
       "      <td>2</td>\n",
       "      <td>1</td>\n",
       "      <td>50</td>\n",
       "      <td>1.085961</td>\n",
       "      <td>330.625748</td>\n",
       "      <td>2.918130e+03</td>\n",
       "    </tr>\n",
       "    <tr>\n",
       "      <th>17</th>\n",
       "      <td>2</td>\n",
       "      <td>1</td>\n",
       "      <td>75</td>\n",
       "      <td>1.068358</td>\n",
       "      <td>319.829966</td>\n",
       "      <td>2.925387e+03</td>\n",
       "    </tr>\n",
       "    <tr>\n",
       "      <th>18</th>\n",
       "      <td>2</td>\n",
       "      <td>2</td>\n",
       "      <td>25</td>\n",
       "      <td>1.333237</td>\n",
       "      <td>151.185456</td>\n",
       "      <td>2.877353e+02</td>\n",
       "    </tr>\n",
       "    <tr>\n",
       "      <th>19</th>\n",
       "      <td>2</td>\n",
       "      <td>2</td>\n",
       "      <td>50</td>\n",
       "      <td>1.117208</td>\n",
       "      <td>150.984550</td>\n",
       "      <td>2.086371e+02</td>\n",
       "    </tr>\n",
       "    <tr>\n",
       "      <th>20</th>\n",
       "      <td>2</td>\n",
       "      <td>2</td>\n",
       "      <td>75</td>\n",
       "      <td>1.084892</td>\n",
       "      <td>149.472383</td>\n",
       "      <td>1.892011e+02</td>\n",
       "    </tr>\n",
       "    <tr>\n",
       "      <th>21</th>\n",
       "      <td>2</td>\n",
       "      <td>3</td>\n",
       "      <td>25</td>\n",
       "      <td>1.613305</td>\n",
       "      <td>170.395445</td>\n",
       "      <td>6.220221e+02</td>\n",
       "    </tr>\n",
       "    <tr>\n",
       "      <th>22</th>\n",
       "      <td>2</td>\n",
       "      <td>3</td>\n",
       "      <td>50</td>\n",
       "      <td>1.262057</td>\n",
       "      <td>165.749889</td>\n",
       "      <td>3.854930e+02</td>\n",
       "    </tr>\n",
       "    <tr>\n",
       "      <th>23</th>\n",
       "      <td>2</td>\n",
       "      <td>3</td>\n",
       "      <td>75</td>\n",
       "      <td>1.143308</td>\n",
       "      <td>156.325159</td>\n",
       "      <td>3.354461e+02</td>\n",
       "    </tr>\n",
       "    <tr>\n",
       "      <th>24</th>\n",
       "      <td>2</td>\n",
       "      <td>5</td>\n",
       "      <td>25</td>\n",
       "      <td>2.717884</td>\n",
       "      <td>229.251846</td>\n",
       "      <td>1.982684e+04</td>\n",
       "    </tr>\n",
       "    <tr>\n",
       "      <th>25</th>\n",
       "      <td>2</td>\n",
       "      <td>5</td>\n",
       "      <td>50</td>\n",
       "      <td>1.498983</td>\n",
       "      <td>174.292097</td>\n",
       "      <td>5.879845e+03</td>\n",
       "    </tr>\n",
       "    <tr>\n",
       "      <th>26</th>\n",
       "      <td>2</td>\n",
       "      <td>5</td>\n",
       "      <td>75</td>\n",
       "      <td>1.286211</td>\n",
       "      <td>163.483119</td>\n",
       "      <td>3.953586e+03</td>\n",
       "    </tr>\n",
       "    <tr>\n",
       "      <th>27</th>\n",
       "      <td>2</td>\n",
       "      <td>10</td>\n",
       "      <td>25</td>\n",
       "      <td>5.135019</td>\n",
       "      <td>340.808431</td>\n",
       "      <td>2.104452e+08</td>\n",
       "    </tr>\n",
       "    <tr>\n",
       "      <th>28</th>\n",
       "      <td>2</td>\n",
       "      <td>10</td>\n",
       "      <td>50</td>\n",
       "      <td>1.803094</td>\n",
       "      <td>204.366458</td>\n",
       "      <td>2.618246e+07</td>\n",
       "    </tr>\n",
       "    <tr>\n",
       "      <th>29</th>\n",
       "      <td>2</td>\n",
       "      <td>10</td>\n",
       "      <td>75</td>\n",
       "      <td>1.420155</td>\n",
       "      <td>186.891996</td>\n",
       "      <td>1.878911e+07</td>\n",
       "    </tr>\n",
       "    <tr>\n",
       "      <th>30</th>\n",
       "      <td>3</td>\n",
       "      <td>1</td>\n",
       "      <td>25</td>\n",
       "      <td>1.111640</td>\n",
       "      <td>322.062609</td>\n",
       "      <td>1.483634e+03</td>\n",
       "    </tr>\n",
       "    <tr>\n",
       "      <th>31</th>\n",
       "      <td>3</td>\n",
       "      <td>1</td>\n",
       "      <td>50</td>\n",
       "      <td>1.055206</td>\n",
       "      <td>321.239055</td>\n",
       "      <td>1.598186e+03</td>\n",
       "    </tr>\n",
       "    <tr>\n",
       "      <th>32</th>\n",
       "      <td>3</td>\n",
       "      <td>1</td>\n",
       "      <td>75</td>\n",
       "      <td>1.053973</td>\n",
       "      <td>315.086118</td>\n",
       "      <td>1.693120e+03</td>\n",
       "    </tr>\n",
       "    <tr>\n",
       "      <th>33</th>\n",
       "      <td>3</td>\n",
       "      <td>2</td>\n",
       "      <td>25</td>\n",
       "      <td>1.421415</td>\n",
       "      <td>210.197313</td>\n",
       "      <td>2.132145e+03</td>\n",
       "    </tr>\n",
       "    <tr>\n",
       "      <th>34</th>\n",
       "      <td>3</td>\n",
       "      <td>2</td>\n",
       "      <td>50</td>\n",
       "      <td>1.188048</td>\n",
       "      <td>194.660809</td>\n",
       "      <td>2.259213e+03</td>\n",
       "    </tr>\n",
       "    <tr>\n",
       "      <th>35</th>\n",
       "      <td>3</td>\n",
       "      <td>2</td>\n",
       "      <td>75</td>\n",
       "      <td>1.107054</td>\n",
       "      <td>196.967534</td>\n",
       "      <td>2.550008e+03</td>\n",
       "    </tr>\n",
       "    <tr>\n",
       "      <th>36</th>\n",
       "      <td>3</td>\n",
       "      <td>3</td>\n",
       "      <td>25</td>\n",
       "      <td>1.620548</td>\n",
       "      <td>168.251131</td>\n",
       "      <td>6.337281e+02</td>\n",
       "    </tr>\n",
       "    <tr>\n",
       "      <th>37</th>\n",
       "      <td>3</td>\n",
       "      <td>3</td>\n",
       "      <td>50</td>\n",
       "      <td>1.244998</td>\n",
       "      <td>155.225581</td>\n",
       "      <td>4.032883e+02</td>\n",
       "    </tr>\n",
       "    <tr>\n",
       "      <th>38</th>\n",
       "      <td>3</td>\n",
       "      <td>3</td>\n",
       "      <td>75</td>\n",
       "      <td>1.138075</td>\n",
       "      <td>152.916777</td>\n",
       "      <td>2.826639e+02</td>\n",
       "    </tr>\n",
       "    <tr>\n",
       "      <th>39</th>\n",
       "      <td>3</td>\n",
       "      <td>5</td>\n",
       "      <td>25</td>\n",
       "      <td>2.415854</td>\n",
       "      <td>215.916264</td>\n",
       "      <td>1.991419e+04</td>\n",
       "    </tr>\n",
       "    <tr>\n",
       "      <th>40</th>\n",
       "      <td>3</td>\n",
       "      <td>5</td>\n",
       "      <td>50</td>\n",
       "      <td>1.462239</td>\n",
       "      <td>171.540358</td>\n",
       "      <td>6.721261e+03</td>\n",
       "    </tr>\n",
       "    <tr>\n",
       "      <th>41</th>\n",
       "      <td>3</td>\n",
       "      <td>5</td>\n",
       "      <td>75</td>\n",
       "      <td>1.266626</td>\n",
       "      <td>162.331334</td>\n",
       "      <td>5.223777e+03</td>\n",
       "    </tr>\n",
       "    <tr>\n",
       "      <th>42</th>\n",
       "      <td>3</td>\n",
       "      <td>10</td>\n",
       "      <td>25</td>\n",
       "      <td>5.064984</td>\n",
       "      <td>363.978010</td>\n",
       "      <td>2.426161e+08</td>\n",
       "    </tr>\n",
       "    <tr>\n",
       "      <th>43</th>\n",
       "      <td>3</td>\n",
       "      <td>10</td>\n",
       "      <td>50</td>\n",
       "      <td>1.818626</td>\n",
       "      <td>222.616839</td>\n",
       "      <td>4.646450e+07</td>\n",
       "    </tr>\n",
       "    <tr>\n",
       "      <th>44</th>\n",
       "      <td>3</td>\n",
       "      <td>10</td>\n",
       "      <td>75</td>\n",
       "      <td>1.407880</td>\n",
       "      <td>197.853386</td>\n",
       "      <td>3.030100e+07</td>\n",
       "    </tr>\n",
       "    <tr>\n",
       "      <th>45</th>\n",
       "      <td>5</td>\n",
       "      <td>1</td>\n",
       "      <td>25</td>\n",
       "      <td>1.149260</td>\n",
       "      <td>282.908399</td>\n",
       "      <td>1.025449e+03</td>\n",
       "    </tr>\n",
       "    <tr>\n",
       "      <th>46</th>\n",
       "      <td>5</td>\n",
       "      <td>1</td>\n",
       "      <td>50</td>\n",
       "      <td>1.038939</td>\n",
       "      <td>288.906279</td>\n",
       "      <td>1.106420e+03</td>\n",
       "    </tr>\n",
       "    <tr>\n",
       "      <th>47</th>\n",
       "      <td>5</td>\n",
       "      <td>1</td>\n",
       "      <td>75</td>\n",
       "      <td>1.048015</td>\n",
       "      <td>276.754754</td>\n",
       "      <td>1.253803e+03</td>\n",
       "    </tr>\n",
       "    <tr>\n",
       "      <th>48</th>\n",
       "      <td>5</td>\n",
       "      <td>2</td>\n",
       "      <td>25</td>\n",
       "      <td>1.306480</td>\n",
       "      <td>222.382537</td>\n",
       "      <td>1.780899e+03</td>\n",
       "    </tr>\n",
       "    <tr>\n",
       "      <th>49</th>\n",
       "      <td>5</td>\n",
       "      <td>2</td>\n",
       "      <td>50</td>\n",
       "      <td>1.101881</td>\n",
       "      <td>212.804954</td>\n",
       "      <td>1.992894e+03</td>\n",
       "    </tr>\n",
       "    <tr>\n",
       "      <th>50</th>\n",
       "      <td>5</td>\n",
       "      <td>2</td>\n",
       "      <td>75</td>\n",
       "      <td>1.074748</td>\n",
       "      <td>212.971621</td>\n",
       "      <td>2.048080e+03</td>\n",
       "    </tr>\n",
       "    <tr>\n",
       "      <th>51</th>\n",
       "      <td>5</td>\n",
       "      <td>3</td>\n",
       "      <td>25</td>\n",
       "      <td>1.596330</td>\n",
       "      <td>209.559427</td>\n",
       "      <td>2.210644e+03</td>\n",
       "    </tr>\n",
       "    <tr>\n",
       "      <th>52</th>\n",
       "      <td>5</td>\n",
       "      <td>3</td>\n",
       "      <td>50</td>\n",
       "      <td>1.293701</td>\n",
       "      <td>192.798200</td>\n",
       "      <td>1.893755e+03</td>\n",
       "    </tr>\n",
       "    <tr>\n",
       "      <th>53</th>\n",
       "      <td>5</td>\n",
       "      <td>3</td>\n",
       "      <td>75</td>\n",
       "      <td>1.161676</td>\n",
       "      <td>183.568215</td>\n",
       "      <td>1.891451e+03</td>\n",
       "    </tr>\n",
       "    <tr>\n",
       "      <th>54</th>\n",
       "      <td>5</td>\n",
       "      <td>5</td>\n",
       "      <td>25</td>\n",
       "      <td>2.344073</td>\n",
       "      <td>210.696596</td>\n",
       "      <td>1.822270e+04</td>\n",
       "    </tr>\n",
       "    <tr>\n",
       "      <th>55</th>\n",
       "      <td>5</td>\n",
       "      <td>5</td>\n",
       "      <td>50</td>\n",
       "      <td>1.482651</td>\n",
       "      <td>173.727159</td>\n",
       "      <td>6.977134e+03</td>\n",
       "    </tr>\n",
       "    <tr>\n",
       "      <th>56</th>\n",
       "      <td>5</td>\n",
       "      <td>5</td>\n",
       "      <td>75</td>\n",
       "      <td>1.315783</td>\n",
       "      <td>169.510139</td>\n",
       "      <td>3.885646e+03</td>\n",
       "    </tr>\n",
       "    <tr>\n",
       "      <th>57</th>\n",
       "      <td>5</td>\n",
       "      <td>10</td>\n",
       "      <td>25</td>\n",
       "      <td>4.953520</td>\n",
       "      <td>369.876848</td>\n",
       "      <td>1.676628e+08</td>\n",
       "    </tr>\n",
       "    <tr>\n",
       "      <th>58</th>\n",
       "      <td>5</td>\n",
       "      <td>10</td>\n",
       "      <td>50</td>\n",
       "      <td>1.796445</td>\n",
       "      <td>242.070447</td>\n",
       "      <td>5.590712e+07</td>\n",
       "    </tr>\n",
       "    <tr>\n",
       "      <th>59</th>\n",
       "      <td>5</td>\n",
       "      <td>10</td>\n",
       "      <td>75</td>\n",
       "      <td>1.409107</td>\n",
       "      <td>225.882410</td>\n",
       "      <td>3.761365e+07</td>\n",
       "    </tr>\n",
       "  </tbody>\n",
       "</table>\n",
       "</div>"
      ],
      "text/plain": [
       "    poly_order  est_order  sample_size  avg_MSE_ratio  avg_test_MSE  \\\n",
       "0            1          1           25       1.121592    141.706765   \n",
       "1            1          1           50       1.059282    148.567731   \n",
       "2            1          1           75       1.018926    145.150823   \n",
       "3            1          2           25       1.306200    148.205759   \n",
       "4            1          2           50       1.093178    146.070866   \n",
       "5            1          2           75       1.075135    150.433599   \n",
       "6            1          3           25       1.611290    169.571600   \n",
       "7            1          3           50       1.195691    152.418367   \n",
       "8            1          3           75       1.171728    157.191504   \n",
       "9            1          5           25       2.401941    205.590646   \n",
       "10           1          5           50       1.478371    174.136529   \n",
       "11           1          5           75       1.240646    162.837727   \n",
       "12           1         10           25       4.474110    291.889239   \n",
       "13           1         10           50       1.842432    201.579051   \n",
       "14           1         10           75       1.406591    176.850693   \n",
       "15           2          1           25       1.128752    309.894889   \n",
       "16           2          1           50       1.085961    330.625748   \n",
       "17           2          1           75       1.068358    319.829966   \n",
       "18           2          2           25       1.333237    151.185456   \n",
       "19           2          2           50       1.117208    150.984550   \n",
       "20           2          2           75       1.084892    149.472383   \n",
       "21           2          3           25       1.613305    170.395445   \n",
       "22           2          3           50       1.262057    165.749889   \n",
       "23           2          3           75       1.143308    156.325159   \n",
       "24           2          5           25       2.717884    229.251846   \n",
       "25           2          5           50       1.498983    174.292097   \n",
       "26           2          5           75       1.286211    163.483119   \n",
       "27           2         10           25       5.135019    340.808431   \n",
       "28           2         10           50       1.803094    204.366458   \n",
       "29           2         10           75       1.420155    186.891996   \n",
       "30           3          1           25       1.111640    322.062609   \n",
       "31           3          1           50       1.055206    321.239055   \n",
       "32           3          1           75       1.053973    315.086118   \n",
       "33           3          2           25       1.421415    210.197313   \n",
       "34           3          2           50       1.188048    194.660809   \n",
       "35           3          2           75       1.107054    196.967534   \n",
       "36           3          3           25       1.620548    168.251131   \n",
       "37           3          3           50       1.244998    155.225581   \n",
       "38           3          3           75       1.138075    152.916777   \n",
       "39           3          5           25       2.415854    215.916264   \n",
       "40           3          5           50       1.462239    171.540358   \n",
       "41           3          5           75       1.266626    162.331334   \n",
       "42           3         10           25       5.064984    363.978010   \n",
       "43           3         10           50       1.818626    222.616839   \n",
       "44           3         10           75       1.407880    197.853386   \n",
       "45           5          1           25       1.149260    282.908399   \n",
       "46           5          1           50       1.038939    288.906279   \n",
       "47           5          1           75       1.048015    276.754754   \n",
       "48           5          2           25       1.306480    222.382537   \n",
       "49           5          2           50       1.101881    212.804954   \n",
       "50           5          2           75       1.074748    212.971621   \n",
       "51           5          3           25       1.596330    209.559427   \n",
       "52           5          3           50       1.293701    192.798200   \n",
       "53           5          3           75       1.161676    183.568215   \n",
       "54           5          5           25       2.344073    210.696596   \n",
       "55           5          5           50       1.482651    173.727159   \n",
       "56           5          5           75       1.315783    169.510139   \n",
       "57           5         10           25       4.953520    369.876848   \n",
       "58           5         10           50       1.796445    242.070447   \n",
       "59           5         10           75       1.409107    225.882410   \n",
       "\n",
       "     avg_OOD_MSE  \n",
       "0   1.722266e+02  \n",
       "1   1.642119e+02  \n",
       "2   1.587370e+02  \n",
       "3   2.516762e+02  \n",
       "4   2.108529e+02  \n",
       "5   1.911766e+02  \n",
       "6   7.634836e+02  \n",
       "7   3.949421e+02  \n",
       "8   3.033706e+02  \n",
       "9   2.182940e+04  \n",
       "10  7.021396e+03  \n",
       "11  4.583768e+03  \n",
       "12  1.615731e+08  \n",
       "13  2.322462e+07  \n",
       "14  1.221393e+07  \n",
       "15  2.705254e+03  \n",
       "16  2.918130e+03  \n",
       "17  2.925387e+03  \n",
       "18  2.877353e+02  \n",
       "19  2.086371e+02  \n",
       "20  1.892011e+02  \n",
       "21  6.220221e+02  \n",
       "22  3.854930e+02  \n",
       "23  3.354461e+02  \n",
       "24  1.982684e+04  \n",
       "25  5.879845e+03  \n",
       "26  3.953586e+03  \n",
       "27  2.104452e+08  \n",
       "28  2.618246e+07  \n",
       "29  1.878911e+07  \n",
       "30  1.483634e+03  \n",
       "31  1.598186e+03  \n",
       "32  1.693120e+03  \n",
       "33  2.132145e+03  \n",
       "34  2.259213e+03  \n",
       "35  2.550008e+03  \n",
       "36  6.337281e+02  \n",
       "37  4.032883e+02  \n",
       "38  2.826639e+02  \n",
       "39  1.991419e+04  \n",
       "40  6.721261e+03  \n",
       "41  5.223777e+03  \n",
       "42  2.426161e+08  \n",
       "43  4.646450e+07  \n",
       "44  3.030100e+07  \n",
       "45  1.025449e+03  \n",
       "46  1.106420e+03  \n",
       "47  1.253803e+03  \n",
       "48  1.780899e+03  \n",
       "49  1.992894e+03  \n",
       "50  2.048080e+03  \n",
       "51  2.210644e+03  \n",
       "52  1.893755e+03  \n",
       "53  1.891451e+03  \n",
       "54  1.822270e+04  \n",
       "55  6.977134e+03  \n",
       "56  3.885646e+03  \n",
       "57  1.676628e+08  \n",
       "58  5.590712e+07  \n",
       "59  3.761365e+07  "
      ]
     },
     "execution_count": 25,
     "metadata": {},
     "output_type": "execute_result"
    }
   ],
   "source": [
    "results = pd.DataFrame( {'poly_order':poly_orders, 'est_order':est_orders, \n",
    "                         'sample_size':sample_sizes, 'avg_MSE_ratio':avg_MSE_ratios, \n",
    "                         'avg_test_MSE':avg_test_MSEs, 'avg_OOD_MSE':avg_OOD_MSEs})\n",
    "results"
   ]
  },
  {
   "cell_type": "code",
   "execution_count": 26,
   "metadata": {},
   "outputs": [
    {
     "data": {
      "application/vnd.plotly.v1+json": {
       "config": {
        "plotlyServerURL": "https://plot.ly"
       },
       "data": [
        {
         "hovertemplate": "Poly Order=%{x}<br>Estimation Order=%{y}<br>Sample Size=%{z}<br>Median Test/Train MSE Ratio=%{marker.color}<extra></extra>",
         "legendgroup": "",
         "marker": {
          "color": [
           1.1215917210060637,
           1.0592823140010506,
           1.01892581085463,
           1.3061998823433414,
           1.0931780204026265,
           1.0751346270379936,
           1.6112898044041182,
           1.1956907676082515,
           1.1717284032752353,
           2.401940619029598,
           1.4783712259606614,
           1.2406463187280101,
           4.474110392095557,
           1.8424319817178896,
           1.4065911483041198,
           1.128752495096044,
           1.085960977064926,
           1.0683584422957468,
           1.3332374506727862,
           1.1172084086842935,
           1.0848917071984159,
           1.6133049731474673,
           1.2620568450784417,
           1.143307571949634,
           2.7178844378342895,
           1.498982754586554,
           1.2862109585839274,
           5.1350194285763475,
           1.8030939796962033,
           1.4201549596482215,
           1.1116396285055985,
           1.055206323886014,
           1.053973298258156,
           1.421415377268262,
           1.1880483610859813,
           1.1070542696078993,
           1.6205476461586419,
           1.2449978306327174,
           1.1380750897570593,
           2.4158541084980376,
           1.4622394522132427,
           1.26662613630939,
           5.0649844941186215,
           1.8186263829276248,
           1.4078796303840861,
           1.149260037968121,
           1.0389393119907413,
           1.0480152847451623,
           1.3064795913907734,
           1.1018808671249136,
           1.0747475631116723,
           1.5963297060723365,
           1.2937007250327943,
           1.1616755735290094,
           2.344072596264628,
           1.482651472349207,
           1.3157832929573128,
           4.953519975301856,
           1.796444972274728,
           1.4091069883741654
          ],
          "coloraxis": "coloraxis",
          "opacity": 0.8,
          "size": [
           1.1215917210060637,
           1.0592823140010506,
           1.01892581085463,
           1.3061998823433414,
           1.0931780204026265,
           1.0751346270379936,
           1.6112898044041182,
           1.1956907676082515,
           1.1717284032752353,
           2.401940619029598,
           1.4783712259606614,
           1.2406463187280101,
           4.474110392095557,
           1.8424319817178896,
           1.4065911483041198,
           1.128752495096044,
           1.085960977064926,
           1.0683584422957468,
           1.3332374506727862,
           1.1172084086842935,
           1.0848917071984159,
           1.6133049731474673,
           1.2620568450784417,
           1.143307571949634,
           2.7178844378342895,
           1.498982754586554,
           1.2862109585839274,
           5.1350194285763475,
           1.8030939796962033,
           1.4201549596482215,
           1.1116396285055985,
           1.055206323886014,
           1.053973298258156,
           1.421415377268262,
           1.1880483610859813,
           1.1070542696078993,
           1.6205476461586419,
           1.2449978306327174,
           1.1380750897570593,
           2.4158541084980376,
           1.4622394522132427,
           1.26662613630939,
           5.0649844941186215,
           1.8186263829276248,
           1.4078796303840861,
           1.149260037968121,
           1.0389393119907413,
           1.0480152847451623,
           1.3064795913907734,
           1.1018808671249136,
           1.0747475631116723,
           1.5963297060723365,
           1.2937007250327943,
           1.1616755735290094,
           2.344072596264628,
           1.482651472349207,
           1.3157832929573128,
           4.953519975301856,
           1.796444972274728,
           1.4091069883741654
          ],
          "sizemode": "area",
          "sizeref": 0.01283754857144087,
          "symbol": "circle"
         },
         "mode": "markers",
         "name": "",
         "scene": "scene",
         "showlegend": false,
         "type": "scatter3d",
         "x": [
          1,
          1,
          1,
          1,
          1,
          1,
          1,
          1,
          1,
          1,
          1,
          1,
          1,
          1,
          1,
          2,
          2,
          2,
          2,
          2,
          2,
          2,
          2,
          2,
          2,
          2,
          2,
          2,
          2,
          2,
          3,
          3,
          3,
          3,
          3,
          3,
          3,
          3,
          3,
          3,
          3,
          3,
          3,
          3,
          3,
          5,
          5,
          5,
          5,
          5,
          5,
          5,
          5,
          5,
          5,
          5,
          5,
          5,
          5,
          5
         ],
         "y": [
          1,
          1,
          1,
          2,
          2,
          2,
          3,
          3,
          3,
          5,
          5,
          5,
          10,
          10,
          10,
          1,
          1,
          1,
          2,
          2,
          2,
          3,
          3,
          3,
          5,
          5,
          5,
          10,
          10,
          10,
          1,
          1,
          1,
          2,
          2,
          2,
          3,
          3,
          3,
          5,
          5,
          5,
          10,
          10,
          10,
          1,
          1,
          1,
          2,
          2,
          2,
          3,
          3,
          3,
          5,
          5,
          5,
          10,
          10,
          10
         ],
         "z": [
          25,
          50,
          75,
          25,
          50,
          75,
          25,
          50,
          75,
          25,
          50,
          75,
          25,
          50,
          75,
          25,
          50,
          75,
          25,
          50,
          75,
          25,
          50,
          75,
          25,
          50,
          75,
          25,
          50,
          75,
          25,
          50,
          75,
          25,
          50,
          75,
          25,
          50,
          75,
          25,
          50,
          75,
          25,
          50,
          75,
          25,
          50,
          75,
          25,
          50,
          75,
          25,
          50,
          75,
          25,
          50,
          75,
          25,
          50,
          75
         ]
        },
        {
         "colorscale": [
          [
           0,
           "green"
          ],
          [
           1,
           "green"
          ]
         ],
         "hoverinfo": "skip",
         "name": "Properly Specified Estimators",
         "opacity": 0.2,
         "showscale": false,
         "type": "surface",
         "x": [
          [
           0,
           0.5555555555555556,
           1.1111111111111112,
           1.6666666666666667,
           2.2222222222222223,
           2.7777777777777777,
           3.3333333333333335,
           3.8888888888888893,
           4.444444444444445,
           5
          ],
          [
           0,
           0.5555555555555556,
           1.1111111111111112,
           1.6666666666666667,
           2.2222222222222223,
           2.7777777777777777,
           3.3333333333333335,
           3.8888888888888893,
           4.444444444444445,
           5
          ],
          [
           0,
           0.5555555555555556,
           1.1111111111111112,
           1.6666666666666667,
           2.2222222222222223,
           2.7777777777777777,
           3.3333333333333335,
           3.8888888888888893,
           4.444444444444445,
           5
          ],
          [
           0,
           0.5555555555555556,
           1.1111111111111112,
           1.6666666666666667,
           2.2222222222222223,
           2.7777777777777777,
           3.3333333333333335,
           3.8888888888888893,
           4.444444444444445,
           5
          ],
          [
           0,
           0.5555555555555556,
           1.1111111111111112,
           1.6666666666666667,
           2.2222222222222223,
           2.7777777777777777,
           3.3333333333333335,
           3.8888888888888893,
           4.444444444444445,
           5
          ],
          [
           0,
           0.5555555555555556,
           1.1111111111111112,
           1.6666666666666667,
           2.2222222222222223,
           2.7777777777777777,
           3.3333333333333335,
           3.8888888888888893,
           4.444444444444445,
           5
          ],
          [
           0,
           0.5555555555555556,
           1.1111111111111112,
           1.6666666666666667,
           2.2222222222222223,
           2.7777777777777777,
           3.3333333333333335,
           3.8888888888888893,
           4.444444444444445,
           5
          ],
          [
           0,
           0.5555555555555556,
           1.1111111111111112,
           1.6666666666666667,
           2.2222222222222223,
           2.7777777777777777,
           3.3333333333333335,
           3.8888888888888893,
           4.444444444444445,
           5
          ],
          [
           0,
           0.5555555555555556,
           1.1111111111111112,
           1.6666666666666667,
           2.2222222222222223,
           2.7777777777777777,
           3.3333333333333335,
           3.8888888888888893,
           4.444444444444445,
           5
          ],
          [
           0,
           0.5555555555555556,
           1.1111111111111112,
           1.6666666666666667,
           2.2222222222222223,
           2.7777777777777777,
           3.3333333333333335,
           3.8888888888888893,
           4.444444444444445,
           5
          ]
         ],
         "y": [
          [
           0,
           0.5555555555555556,
           1.1111111111111112,
           1.6666666666666667,
           2.2222222222222223,
           2.7777777777777777,
           3.3333333333333335,
           3.8888888888888893,
           4.444444444444445,
           5
          ],
          [
           0,
           0.5555555555555556,
           1.1111111111111112,
           1.6666666666666667,
           2.2222222222222223,
           2.7777777777777777,
           3.3333333333333335,
           3.8888888888888893,
           4.444444444444445,
           5
          ],
          [
           0,
           0.5555555555555556,
           1.1111111111111112,
           1.6666666666666667,
           2.2222222222222223,
           2.7777777777777777,
           3.3333333333333335,
           3.8888888888888893,
           4.444444444444445,
           5
          ],
          [
           0,
           0.5555555555555556,
           1.1111111111111112,
           1.6666666666666667,
           2.2222222222222223,
           2.7777777777777777,
           3.3333333333333335,
           3.8888888888888893,
           4.444444444444445,
           5
          ],
          [
           0,
           0.5555555555555556,
           1.1111111111111112,
           1.6666666666666667,
           2.2222222222222223,
           2.7777777777777777,
           3.3333333333333335,
           3.8888888888888893,
           4.444444444444445,
           5
          ],
          [
           0,
           0.5555555555555556,
           1.1111111111111112,
           1.6666666666666667,
           2.2222222222222223,
           2.7777777777777777,
           3.3333333333333335,
           3.8888888888888893,
           4.444444444444445,
           5
          ],
          [
           0,
           0.5555555555555556,
           1.1111111111111112,
           1.6666666666666667,
           2.2222222222222223,
           2.7777777777777777,
           3.3333333333333335,
           3.8888888888888893,
           4.444444444444445,
           5
          ],
          [
           0,
           0.5555555555555556,
           1.1111111111111112,
           1.6666666666666667,
           2.2222222222222223,
           2.7777777777777777,
           3.3333333333333335,
           3.8888888888888893,
           4.444444444444445,
           5
          ],
          [
           0,
           0.5555555555555556,
           1.1111111111111112,
           1.6666666666666667,
           2.2222222222222223,
           2.7777777777777777,
           3.3333333333333335,
           3.8888888888888893,
           4.444444444444445,
           5
          ],
          [
           0,
           0.5555555555555556,
           1.1111111111111112,
           1.6666666666666667,
           2.2222222222222223,
           2.7777777777777777,
           3.3333333333333335,
           3.8888888888888893,
           4.444444444444445,
           5
          ]
         ],
         "z": [
          [
           25,
           25,
           25,
           25,
           25,
           25,
           25,
           25,
           25,
           25
          ],
          [
           30.555555555555557,
           30.555555555555557,
           30.555555555555557,
           30.555555555555557,
           30.555555555555557,
           30.555555555555557,
           30.555555555555557,
           30.555555555555557,
           30.555555555555557,
           30.555555555555557
          ],
          [
           36.111111111111114,
           36.111111111111114,
           36.111111111111114,
           36.111111111111114,
           36.111111111111114,
           36.111111111111114,
           36.111111111111114,
           36.111111111111114,
           36.111111111111114,
           36.111111111111114
          ],
          [
           41.666666666666664,
           41.666666666666664,
           41.666666666666664,
           41.666666666666664,
           41.666666666666664,
           41.666666666666664,
           41.666666666666664,
           41.666666666666664,
           41.666666666666664,
           41.666666666666664
          ],
          [
           47.22222222222222,
           47.22222222222222,
           47.22222222222222,
           47.22222222222222,
           47.22222222222222,
           47.22222222222222,
           47.22222222222222,
           47.22222222222222,
           47.22222222222222,
           47.22222222222222
          ],
          [
           52.77777777777778,
           52.77777777777778,
           52.77777777777778,
           52.77777777777778,
           52.77777777777778,
           52.77777777777778,
           52.77777777777778,
           52.77777777777778,
           52.77777777777778,
           52.77777777777778
          ],
          [
           58.33333333333333,
           58.33333333333333,
           58.33333333333333,
           58.33333333333333,
           58.33333333333333,
           58.33333333333333,
           58.33333333333333,
           58.33333333333333,
           58.33333333333333,
           58.33333333333333
          ],
          [
           63.888888888888886,
           63.888888888888886,
           63.888888888888886,
           63.888888888888886,
           63.888888888888886,
           63.888888888888886,
           63.888888888888886,
           63.888888888888886,
           63.888888888888886,
           63.888888888888886
          ],
          [
           69.44444444444444,
           69.44444444444444,
           69.44444444444444,
           69.44444444444444,
           69.44444444444444,
           69.44444444444444,
           69.44444444444444,
           69.44444444444444,
           69.44444444444444,
           69.44444444444444
          ],
          [
           75,
           75,
           75,
           75,
           75,
           75,
           75,
           75,
           75,
           75
          ]
         ]
        }
       ],
       "layout": {
        "coloraxis": {
         "colorbar": {
          "title": {
           "text": "Median Test/Train MSE Ratio"
          }
         },
         "colorscale": [
          [
           0,
           "rgb(0,104,55)"
          ],
          [
           0.1,
           "rgb(26,152,80)"
          ],
          [
           0.2,
           "rgb(102,189,99)"
          ],
          [
           0.3,
           "rgb(166,217,106)"
          ],
          [
           0.4,
           "rgb(217,239,139)"
          ],
          [
           0.5,
           "rgb(255,255,191)"
          ],
          [
           0.6,
           "rgb(254,224,139)"
          ],
          [
           0.7,
           "rgb(253,174,97)"
          ],
          [
           0.8,
           "rgb(244,109,67)"
          ],
          [
           0.9,
           "rgb(215,48,39)"
          ],
          [
           1,
           "rgb(165,0,38)"
          ]
         ]
        },
        "height": 800,
        "legend": {
         "itemsizing": "constant",
         "tracegroupgap": 0
        },
        "scene": {
         "aspectratio": {
          "x": 1,
          "y": 2,
          "z": 1
         },
         "camera": {
          "eye": {
           "x": 3,
           "y": 2,
           "z": 2
          }
         },
         "domain": {
          "x": [
           0,
           1
          ],
          "y": [
           0,
           1
          ]
         },
         "xaxis": {
          "title": {
           "text": "Poly Order"
          }
         },
         "yaxis": {
          "title": {
           "text": "Estimation Order"
          }
         },
         "zaxis": {
          "title": {
           "text": "Sample Size"
          }
         }
        },
        "template": {
         "data": {
          "bar": [
           {
            "error_x": {
             "color": "#2a3f5f"
            },
            "error_y": {
             "color": "#2a3f5f"
            },
            "marker": {
             "line": {
              "color": "#E5ECF6",
              "width": 0.5
             },
             "pattern": {
              "fillmode": "overlay",
              "size": 10,
              "solidity": 0.2
             }
            },
            "type": "bar"
           }
          ],
          "barpolar": [
           {
            "marker": {
             "line": {
              "color": "#E5ECF6",
              "width": 0.5
             },
             "pattern": {
              "fillmode": "overlay",
              "size": 10,
              "solidity": 0.2
             }
            },
            "type": "barpolar"
           }
          ],
          "carpet": [
           {
            "aaxis": {
             "endlinecolor": "#2a3f5f",
             "gridcolor": "white",
             "linecolor": "white",
             "minorgridcolor": "white",
             "startlinecolor": "#2a3f5f"
            },
            "baxis": {
             "endlinecolor": "#2a3f5f",
             "gridcolor": "white",
             "linecolor": "white",
             "minorgridcolor": "white",
             "startlinecolor": "#2a3f5f"
            },
            "type": "carpet"
           }
          ],
          "choropleth": [
           {
            "colorbar": {
             "outlinewidth": 0,
             "ticks": ""
            },
            "type": "choropleth"
           }
          ],
          "contour": [
           {
            "colorbar": {
             "outlinewidth": 0,
             "ticks": ""
            },
            "colorscale": [
             [
              0,
              "#0d0887"
             ],
             [
              0.1111111111111111,
              "#46039f"
             ],
             [
              0.2222222222222222,
              "#7201a8"
             ],
             [
              0.3333333333333333,
              "#9c179e"
             ],
             [
              0.4444444444444444,
              "#bd3786"
             ],
             [
              0.5555555555555556,
              "#d8576b"
             ],
             [
              0.6666666666666666,
              "#ed7953"
             ],
             [
              0.7777777777777778,
              "#fb9f3a"
             ],
             [
              0.8888888888888888,
              "#fdca26"
             ],
             [
              1,
              "#f0f921"
             ]
            ],
            "type": "contour"
           }
          ],
          "contourcarpet": [
           {
            "colorbar": {
             "outlinewidth": 0,
             "ticks": ""
            },
            "type": "contourcarpet"
           }
          ],
          "heatmap": [
           {
            "colorbar": {
             "outlinewidth": 0,
             "ticks": ""
            },
            "colorscale": [
             [
              0,
              "#0d0887"
             ],
             [
              0.1111111111111111,
              "#46039f"
             ],
             [
              0.2222222222222222,
              "#7201a8"
             ],
             [
              0.3333333333333333,
              "#9c179e"
             ],
             [
              0.4444444444444444,
              "#bd3786"
             ],
             [
              0.5555555555555556,
              "#d8576b"
             ],
             [
              0.6666666666666666,
              "#ed7953"
             ],
             [
              0.7777777777777778,
              "#fb9f3a"
             ],
             [
              0.8888888888888888,
              "#fdca26"
             ],
             [
              1,
              "#f0f921"
             ]
            ],
            "type": "heatmap"
           }
          ],
          "heatmapgl": [
           {
            "colorbar": {
             "outlinewidth": 0,
             "ticks": ""
            },
            "colorscale": [
             [
              0,
              "#0d0887"
             ],
             [
              0.1111111111111111,
              "#46039f"
             ],
             [
              0.2222222222222222,
              "#7201a8"
             ],
             [
              0.3333333333333333,
              "#9c179e"
             ],
             [
              0.4444444444444444,
              "#bd3786"
             ],
             [
              0.5555555555555556,
              "#d8576b"
             ],
             [
              0.6666666666666666,
              "#ed7953"
             ],
             [
              0.7777777777777778,
              "#fb9f3a"
             ],
             [
              0.8888888888888888,
              "#fdca26"
             ],
             [
              1,
              "#f0f921"
             ]
            ],
            "type": "heatmapgl"
           }
          ],
          "histogram": [
           {
            "marker": {
             "pattern": {
              "fillmode": "overlay",
              "size": 10,
              "solidity": 0.2
             }
            },
            "type": "histogram"
           }
          ],
          "histogram2d": [
           {
            "colorbar": {
             "outlinewidth": 0,
             "ticks": ""
            },
            "colorscale": [
             [
              0,
              "#0d0887"
             ],
             [
              0.1111111111111111,
              "#46039f"
             ],
             [
              0.2222222222222222,
              "#7201a8"
             ],
             [
              0.3333333333333333,
              "#9c179e"
             ],
             [
              0.4444444444444444,
              "#bd3786"
             ],
             [
              0.5555555555555556,
              "#d8576b"
             ],
             [
              0.6666666666666666,
              "#ed7953"
             ],
             [
              0.7777777777777778,
              "#fb9f3a"
             ],
             [
              0.8888888888888888,
              "#fdca26"
             ],
             [
              1,
              "#f0f921"
             ]
            ],
            "type": "histogram2d"
           }
          ],
          "histogram2dcontour": [
           {
            "colorbar": {
             "outlinewidth": 0,
             "ticks": ""
            },
            "colorscale": [
             [
              0,
              "#0d0887"
             ],
             [
              0.1111111111111111,
              "#46039f"
             ],
             [
              0.2222222222222222,
              "#7201a8"
             ],
             [
              0.3333333333333333,
              "#9c179e"
             ],
             [
              0.4444444444444444,
              "#bd3786"
             ],
             [
              0.5555555555555556,
              "#d8576b"
             ],
             [
              0.6666666666666666,
              "#ed7953"
             ],
             [
              0.7777777777777778,
              "#fb9f3a"
             ],
             [
              0.8888888888888888,
              "#fdca26"
             ],
             [
              1,
              "#f0f921"
             ]
            ],
            "type": "histogram2dcontour"
           }
          ],
          "mesh3d": [
           {
            "colorbar": {
             "outlinewidth": 0,
             "ticks": ""
            },
            "type": "mesh3d"
           }
          ],
          "parcoords": [
           {
            "line": {
             "colorbar": {
              "outlinewidth": 0,
              "ticks": ""
             }
            },
            "type": "parcoords"
           }
          ],
          "pie": [
           {
            "automargin": true,
            "type": "pie"
           }
          ],
          "scatter": [
           {
            "fillpattern": {
             "fillmode": "overlay",
             "size": 10,
             "solidity": 0.2
            },
            "type": "scatter"
           }
          ],
          "scatter3d": [
           {
            "line": {
             "colorbar": {
              "outlinewidth": 0,
              "ticks": ""
             }
            },
            "marker": {
             "colorbar": {
              "outlinewidth": 0,
              "ticks": ""
             }
            },
            "type": "scatter3d"
           }
          ],
          "scattercarpet": [
           {
            "marker": {
             "colorbar": {
              "outlinewidth": 0,
              "ticks": ""
             }
            },
            "type": "scattercarpet"
           }
          ],
          "scattergeo": [
           {
            "marker": {
             "colorbar": {
              "outlinewidth": 0,
              "ticks": ""
             }
            },
            "type": "scattergeo"
           }
          ],
          "scattergl": [
           {
            "marker": {
             "colorbar": {
              "outlinewidth": 0,
              "ticks": ""
             }
            },
            "type": "scattergl"
           }
          ],
          "scattermapbox": [
           {
            "marker": {
             "colorbar": {
              "outlinewidth": 0,
              "ticks": ""
             }
            },
            "type": "scattermapbox"
           }
          ],
          "scatterpolar": [
           {
            "marker": {
             "colorbar": {
              "outlinewidth": 0,
              "ticks": ""
             }
            },
            "type": "scatterpolar"
           }
          ],
          "scatterpolargl": [
           {
            "marker": {
             "colorbar": {
              "outlinewidth": 0,
              "ticks": ""
             }
            },
            "type": "scatterpolargl"
           }
          ],
          "scatterternary": [
           {
            "marker": {
             "colorbar": {
              "outlinewidth": 0,
              "ticks": ""
             }
            },
            "type": "scatterternary"
           }
          ],
          "surface": [
           {
            "colorbar": {
             "outlinewidth": 0,
             "ticks": ""
            },
            "colorscale": [
             [
              0,
              "#0d0887"
             ],
             [
              0.1111111111111111,
              "#46039f"
             ],
             [
              0.2222222222222222,
              "#7201a8"
             ],
             [
              0.3333333333333333,
              "#9c179e"
             ],
             [
              0.4444444444444444,
              "#bd3786"
             ],
             [
              0.5555555555555556,
              "#d8576b"
             ],
             [
              0.6666666666666666,
              "#ed7953"
             ],
             [
              0.7777777777777778,
              "#fb9f3a"
             ],
             [
              0.8888888888888888,
              "#fdca26"
             ],
             [
              1,
              "#f0f921"
             ]
            ],
            "type": "surface"
           }
          ],
          "table": [
           {
            "cells": {
             "fill": {
              "color": "#EBF0F8"
             },
             "line": {
              "color": "white"
             }
            },
            "header": {
             "fill": {
              "color": "#C8D4E3"
             },
             "line": {
              "color": "white"
             }
            },
            "type": "table"
           }
          ]
         },
         "layout": {
          "annotationdefaults": {
           "arrowcolor": "#2a3f5f",
           "arrowhead": 0,
           "arrowwidth": 1
          },
          "autotypenumbers": "strict",
          "coloraxis": {
           "colorbar": {
            "outlinewidth": 0,
            "ticks": ""
           }
          },
          "colorscale": {
           "diverging": [
            [
             0,
             "#8e0152"
            ],
            [
             0.1,
             "#c51b7d"
            ],
            [
             0.2,
             "#de77ae"
            ],
            [
             0.3,
             "#f1b6da"
            ],
            [
             0.4,
             "#fde0ef"
            ],
            [
             0.5,
             "#f7f7f7"
            ],
            [
             0.6,
             "#e6f5d0"
            ],
            [
             0.7,
             "#b8e186"
            ],
            [
             0.8,
             "#7fbc41"
            ],
            [
             0.9,
             "#4d9221"
            ],
            [
             1,
             "#276419"
            ]
           ],
           "sequential": [
            [
             0,
             "#0d0887"
            ],
            [
             0.1111111111111111,
             "#46039f"
            ],
            [
             0.2222222222222222,
             "#7201a8"
            ],
            [
             0.3333333333333333,
             "#9c179e"
            ],
            [
             0.4444444444444444,
             "#bd3786"
            ],
            [
             0.5555555555555556,
             "#d8576b"
            ],
            [
             0.6666666666666666,
             "#ed7953"
            ],
            [
             0.7777777777777778,
             "#fb9f3a"
            ],
            [
             0.8888888888888888,
             "#fdca26"
            ],
            [
             1,
             "#f0f921"
            ]
           ],
           "sequentialminus": [
            [
             0,
             "#0d0887"
            ],
            [
             0.1111111111111111,
             "#46039f"
            ],
            [
             0.2222222222222222,
             "#7201a8"
            ],
            [
             0.3333333333333333,
             "#9c179e"
            ],
            [
             0.4444444444444444,
             "#bd3786"
            ],
            [
             0.5555555555555556,
             "#d8576b"
            ],
            [
             0.6666666666666666,
             "#ed7953"
            ],
            [
             0.7777777777777778,
             "#fb9f3a"
            ],
            [
             0.8888888888888888,
             "#fdca26"
            ],
            [
             1,
             "#f0f921"
            ]
           ]
          },
          "colorway": [
           "#636efa",
           "#EF553B",
           "#00cc96",
           "#ab63fa",
           "#FFA15A",
           "#19d3f3",
           "#FF6692",
           "#B6E880",
           "#FF97FF",
           "#FECB52"
          ],
          "font": {
           "color": "#2a3f5f"
          },
          "geo": {
           "bgcolor": "white",
           "lakecolor": "white",
           "landcolor": "#E5ECF6",
           "showlakes": true,
           "showland": true,
           "subunitcolor": "white"
          },
          "hoverlabel": {
           "align": "left"
          },
          "hovermode": "closest",
          "mapbox": {
           "style": "light"
          },
          "paper_bgcolor": "white",
          "plot_bgcolor": "#E5ECF6",
          "polar": {
           "angularaxis": {
            "gridcolor": "white",
            "linecolor": "white",
            "ticks": ""
           },
           "bgcolor": "#E5ECF6",
           "radialaxis": {
            "gridcolor": "white",
            "linecolor": "white",
            "ticks": ""
           }
          },
          "scene": {
           "xaxis": {
            "backgroundcolor": "#E5ECF6",
            "gridcolor": "white",
            "gridwidth": 2,
            "linecolor": "white",
            "showbackground": true,
            "ticks": "",
            "zerolinecolor": "white"
           },
           "yaxis": {
            "backgroundcolor": "#E5ECF6",
            "gridcolor": "white",
            "gridwidth": 2,
            "linecolor": "white",
            "showbackground": true,
            "ticks": "",
            "zerolinecolor": "white"
           },
           "zaxis": {
            "backgroundcolor": "#E5ECF6",
            "gridcolor": "white",
            "gridwidth": 2,
            "linecolor": "white",
            "showbackground": true,
            "ticks": "",
            "zerolinecolor": "white"
           }
          },
          "shapedefaults": {
           "line": {
            "color": "#2a3f5f"
           }
          },
          "ternary": {
           "aaxis": {
            "gridcolor": "white",
            "linecolor": "white",
            "ticks": ""
           },
           "baxis": {
            "gridcolor": "white",
            "linecolor": "white",
            "ticks": ""
           },
           "bgcolor": "#E5ECF6",
           "caxis": {
            "gridcolor": "white",
            "linecolor": "white",
            "ticks": ""
           }
          },
          "title": {
           "x": 0.05
          },
          "xaxis": {
           "automargin": true,
           "gridcolor": "white",
           "linecolor": "white",
           "ticks": "",
           "title": {
            "standoff": 15
           },
           "zerolinecolor": "white",
           "zerolinewidth": 2
          },
          "yaxis": {
           "automargin": true,
           "gridcolor": "white",
           "linecolor": "white",
           "ticks": "",
           "title": {
            "standoff": 15
           },
           "zerolinecolor": "white",
           "zerolinewidth": 2
          }
         }
        },
        "title": {
         "text": "Factors that impact Test/Train MSE Ratio (Overfitting)"
        },
        "width": 1100
       }
      },
      "text/html": [
       "<div>                            <div id=\"ef1cd68b-0888-43ab-abac-43e4edb6bad7\" class=\"plotly-graph-div\" style=\"height:800px; width:1100px;\"></div>            <script type=\"text/javascript\">                require([\"plotly\"], function(Plotly) {                    window.PLOTLYENV=window.PLOTLYENV || {};                                    if (document.getElementById(\"ef1cd68b-0888-43ab-abac-43e4edb6bad7\")) {                    Plotly.newPlot(                        \"ef1cd68b-0888-43ab-abac-43e4edb6bad7\",                        [{\"hovertemplate\":\"Poly Order=%{x}\\u003cbr\\u003eEstimation Order=%{y}\\u003cbr\\u003eSample Size=%{z}\\u003cbr\\u003eMedian Test\\u002fTrain MSE Ratio=%{marker.color}\\u003cextra\\u003e\\u003c\\u002fextra\\u003e\",\"legendgroup\":\"\",\"marker\":{\"color\":[1.1215917210060637,1.0592823140010506,1.01892581085463,1.3061998823433414,1.0931780204026265,1.0751346270379936,1.6112898044041182,1.1956907676082515,1.1717284032752353,2.401940619029598,1.4783712259606614,1.2406463187280101,4.474110392095557,1.8424319817178896,1.4065911483041198,1.128752495096044,1.085960977064926,1.0683584422957468,1.3332374506727862,1.1172084086842935,1.0848917071984159,1.6133049731474673,1.2620568450784417,1.143307571949634,2.7178844378342895,1.498982754586554,1.2862109585839274,5.1350194285763475,1.8030939796962033,1.4201549596482215,1.1116396285055985,1.055206323886014,1.053973298258156,1.421415377268262,1.1880483610859813,1.1070542696078993,1.6205476461586419,1.2449978306327174,1.1380750897570593,2.4158541084980376,1.4622394522132427,1.26662613630939,5.0649844941186215,1.8186263829276248,1.4078796303840861,1.149260037968121,1.0389393119907413,1.0480152847451623,1.3064795913907734,1.1018808671249136,1.0747475631116723,1.5963297060723365,1.2937007250327943,1.1616755735290094,2.344072596264628,1.482651472349207,1.3157832929573128,4.953519975301856,1.796444972274728,1.4091069883741654],\"coloraxis\":\"coloraxis\",\"size\":[1.1215917210060637,1.0592823140010506,1.01892581085463,1.3061998823433414,1.0931780204026265,1.0751346270379936,1.6112898044041182,1.1956907676082515,1.1717284032752353,2.401940619029598,1.4783712259606614,1.2406463187280101,4.474110392095557,1.8424319817178896,1.4065911483041198,1.128752495096044,1.085960977064926,1.0683584422957468,1.3332374506727862,1.1172084086842935,1.0848917071984159,1.6133049731474673,1.2620568450784417,1.143307571949634,2.7178844378342895,1.498982754586554,1.2862109585839274,5.1350194285763475,1.8030939796962033,1.4201549596482215,1.1116396285055985,1.055206323886014,1.053973298258156,1.421415377268262,1.1880483610859813,1.1070542696078993,1.6205476461586419,1.2449978306327174,1.1380750897570593,2.4158541084980376,1.4622394522132427,1.26662613630939,5.0649844941186215,1.8186263829276248,1.4078796303840861,1.149260037968121,1.0389393119907413,1.0480152847451623,1.3064795913907734,1.1018808671249136,1.0747475631116723,1.5963297060723365,1.2937007250327943,1.1616755735290094,2.344072596264628,1.482651472349207,1.3157832929573128,4.953519975301856,1.796444972274728,1.4091069883741654],\"sizemode\":\"area\",\"sizeref\":0.01283754857144087,\"symbol\":\"circle\",\"opacity\":0.8},\"mode\":\"markers\",\"name\":\"\",\"scene\":\"scene\",\"showlegend\":false,\"x\":[1,1,1,1,1,1,1,1,1,1,1,1,1,1,1,2,2,2,2,2,2,2,2,2,2,2,2,2,2,2,3,3,3,3,3,3,3,3,3,3,3,3,3,3,3,5,5,5,5,5,5,5,5,5,5,5,5,5,5,5],\"y\":[1,1,1,2,2,2,3,3,3,5,5,5,10,10,10,1,1,1,2,2,2,3,3,3,5,5,5,10,10,10,1,1,1,2,2,2,3,3,3,5,5,5,10,10,10,1,1,1,2,2,2,3,3,3,5,5,5,10,10,10],\"z\":[25,50,75,25,50,75,25,50,75,25,50,75,25,50,75,25,50,75,25,50,75,25,50,75,25,50,75,25,50,75,25,50,75,25,50,75,25,50,75,25,50,75,25,50,75,25,50,75,25,50,75,25,50,75,25,50,75,25,50,75],\"type\":\"scatter3d\"},{\"colorscale\":[[0,\"green\"],[1,\"green\"]],\"hoverinfo\":\"skip\",\"name\":\"Properly Specified Estimators\",\"opacity\":0.2,\"showscale\":false,\"x\":[[0.0,0.5555555555555556,1.1111111111111112,1.6666666666666667,2.2222222222222223,2.7777777777777777,3.3333333333333335,3.8888888888888893,4.444444444444445,5.0],[0.0,0.5555555555555556,1.1111111111111112,1.6666666666666667,2.2222222222222223,2.7777777777777777,3.3333333333333335,3.8888888888888893,4.444444444444445,5.0],[0.0,0.5555555555555556,1.1111111111111112,1.6666666666666667,2.2222222222222223,2.7777777777777777,3.3333333333333335,3.8888888888888893,4.444444444444445,5.0],[0.0,0.5555555555555556,1.1111111111111112,1.6666666666666667,2.2222222222222223,2.7777777777777777,3.3333333333333335,3.8888888888888893,4.444444444444445,5.0],[0.0,0.5555555555555556,1.1111111111111112,1.6666666666666667,2.2222222222222223,2.7777777777777777,3.3333333333333335,3.8888888888888893,4.444444444444445,5.0],[0.0,0.5555555555555556,1.1111111111111112,1.6666666666666667,2.2222222222222223,2.7777777777777777,3.3333333333333335,3.8888888888888893,4.444444444444445,5.0],[0.0,0.5555555555555556,1.1111111111111112,1.6666666666666667,2.2222222222222223,2.7777777777777777,3.3333333333333335,3.8888888888888893,4.444444444444445,5.0],[0.0,0.5555555555555556,1.1111111111111112,1.6666666666666667,2.2222222222222223,2.7777777777777777,3.3333333333333335,3.8888888888888893,4.444444444444445,5.0],[0.0,0.5555555555555556,1.1111111111111112,1.6666666666666667,2.2222222222222223,2.7777777777777777,3.3333333333333335,3.8888888888888893,4.444444444444445,5.0],[0.0,0.5555555555555556,1.1111111111111112,1.6666666666666667,2.2222222222222223,2.7777777777777777,3.3333333333333335,3.8888888888888893,4.444444444444445,5.0]],\"y\":[[0.0,0.5555555555555556,1.1111111111111112,1.6666666666666667,2.2222222222222223,2.7777777777777777,3.3333333333333335,3.8888888888888893,4.444444444444445,5.0],[0.0,0.5555555555555556,1.1111111111111112,1.6666666666666667,2.2222222222222223,2.7777777777777777,3.3333333333333335,3.8888888888888893,4.444444444444445,5.0],[0.0,0.5555555555555556,1.1111111111111112,1.6666666666666667,2.2222222222222223,2.7777777777777777,3.3333333333333335,3.8888888888888893,4.444444444444445,5.0],[0.0,0.5555555555555556,1.1111111111111112,1.6666666666666667,2.2222222222222223,2.7777777777777777,3.3333333333333335,3.8888888888888893,4.444444444444445,5.0],[0.0,0.5555555555555556,1.1111111111111112,1.6666666666666667,2.2222222222222223,2.7777777777777777,3.3333333333333335,3.8888888888888893,4.444444444444445,5.0],[0.0,0.5555555555555556,1.1111111111111112,1.6666666666666667,2.2222222222222223,2.7777777777777777,3.3333333333333335,3.8888888888888893,4.444444444444445,5.0],[0.0,0.5555555555555556,1.1111111111111112,1.6666666666666667,2.2222222222222223,2.7777777777777777,3.3333333333333335,3.8888888888888893,4.444444444444445,5.0],[0.0,0.5555555555555556,1.1111111111111112,1.6666666666666667,2.2222222222222223,2.7777777777777777,3.3333333333333335,3.8888888888888893,4.444444444444445,5.0],[0.0,0.5555555555555556,1.1111111111111112,1.6666666666666667,2.2222222222222223,2.7777777777777777,3.3333333333333335,3.8888888888888893,4.444444444444445,5.0],[0.0,0.5555555555555556,1.1111111111111112,1.6666666666666667,2.2222222222222223,2.7777777777777777,3.3333333333333335,3.8888888888888893,4.444444444444445,5.0]],\"z\":[[25.0,25.0,25.0,25.0,25.0,25.0,25.0,25.0,25.0,25.0],[30.555555555555557,30.555555555555557,30.555555555555557,30.555555555555557,30.555555555555557,30.555555555555557,30.555555555555557,30.555555555555557,30.555555555555557,30.555555555555557],[36.111111111111114,36.111111111111114,36.111111111111114,36.111111111111114,36.111111111111114,36.111111111111114,36.111111111111114,36.111111111111114,36.111111111111114,36.111111111111114],[41.666666666666664,41.666666666666664,41.666666666666664,41.666666666666664,41.666666666666664,41.666666666666664,41.666666666666664,41.666666666666664,41.666666666666664,41.666666666666664],[47.22222222222222,47.22222222222222,47.22222222222222,47.22222222222222,47.22222222222222,47.22222222222222,47.22222222222222,47.22222222222222,47.22222222222222,47.22222222222222],[52.77777777777778,52.77777777777778,52.77777777777778,52.77777777777778,52.77777777777778,52.77777777777778,52.77777777777778,52.77777777777778,52.77777777777778,52.77777777777778],[58.33333333333333,58.33333333333333,58.33333333333333,58.33333333333333,58.33333333333333,58.33333333333333,58.33333333333333,58.33333333333333,58.33333333333333,58.33333333333333],[63.888888888888886,63.888888888888886,63.888888888888886,63.888888888888886,63.888888888888886,63.888888888888886,63.888888888888886,63.888888888888886,63.888888888888886,63.888888888888886],[69.44444444444444,69.44444444444444,69.44444444444444,69.44444444444444,69.44444444444444,69.44444444444444,69.44444444444444,69.44444444444444,69.44444444444444,69.44444444444444],[75.0,75.0,75.0,75.0,75.0,75.0,75.0,75.0,75.0,75.0]],\"type\":\"surface\"}],                        {\"template\":{\"data\":{\"histogram2dcontour\":[{\"type\":\"histogram2dcontour\",\"colorbar\":{\"outlinewidth\":0,\"ticks\":\"\"},\"colorscale\":[[0.0,\"#0d0887\"],[0.1111111111111111,\"#46039f\"],[0.2222222222222222,\"#7201a8\"],[0.3333333333333333,\"#9c179e\"],[0.4444444444444444,\"#bd3786\"],[0.5555555555555556,\"#d8576b\"],[0.6666666666666666,\"#ed7953\"],[0.7777777777777778,\"#fb9f3a\"],[0.8888888888888888,\"#fdca26\"],[1.0,\"#f0f921\"]]}],\"choropleth\":[{\"type\":\"choropleth\",\"colorbar\":{\"outlinewidth\":0,\"ticks\":\"\"}}],\"histogram2d\":[{\"type\":\"histogram2d\",\"colorbar\":{\"outlinewidth\":0,\"ticks\":\"\"},\"colorscale\":[[0.0,\"#0d0887\"],[0.1111111111111111,\"#46039f\"],[0.2222222222222222,\"#7201a8\"],[0.3333333333333333,\"#9c179e\"],[0.4444444444444444,\"#bd3786\"],[0.5555555555555556,\"#d8576b\"],[0.6666666666666666,\"#ed7953\"],[0.7777777777777778,\"#fb9f3a\"],[0.8888888888888888,\"#fdca26\"],[1.0,\"#f0f921\"]]}],\"heatmap\":[{\"type\":\"heatmap\",\"colorbar\":{\"outlinewidth\":0,\"ticks\":\"\"},\"colorscale\":[[0.0,\"#0d0887\"],[0.1111111111111111,\"#46039f\"],[0.2222222222222222,\"#7201a8\"],[0.3333333333333333,\"#9c179e\"],[0.4444444444444444,\"#bd3786\"],[0.5555555555555556,\"#d8576b\"],[0.6666666666666666,\"#ed7953\"],[0.7777777777777778,\"#fb9f3a\"],[0.8888888888888888,\"#fdca26\"],[1.0,\"#f0f921\"]]}],\"heatmapgl\":[{\"type\":\"heatmapgl\",\"colorbar\":{\"outlinewidth\":0,\"ticks\":\"\"},\"colorscale\":[[0.0,\"#0d0887\"],[0.1111111111111111,\"#46039f\"],[0.2222222222222222,\"#7201a8\"],[0.3333333333333333,\"#9c179e\"],[0.4444444444444444,\"#bd3786\"],[0.5555555555555556,\"#d8576b\"],[0.6666666666666666,\"#ed7953\"],[0.7777777777777778,\"#fb9f3a\"],[0.8888888888888888,\"#fdca26\"],[1.0,\"#f0f921\"]]}],\"contourcarpet\":[{\"type\":\"contourcarpet\",\"colorbar\":{\"outlinewidth\":0,\"ticks\":\"\"}}],\"contour\":[{\"type\":\"contour\",\"colorbar\":{\"outlinewidth\":0,\"ticks\":\"\"},\"colorscale\":[[0.0,\"#0d0887\"],[0.1111111111111111,\"#46039f\"],[0.2222222222222222,\"#7201a8\"],[0.3333333333333333,\"#9c179e\"],[0.4444444444444444,\"#bd3786\"],[0.5555555555555556,\"#d8576b\"],[0.6666666666666666,\"#ed7953\"],[0.7777777777777778,\"#fb9f3a\"],[0.8888888888888888,\"#fdca26\"],[1.0,\"#f0f921\"]]}],\"surface\":[{\"type\":\"surface\",\"colorbar\":{\"outlinewidth\":0,\"ticks\":\"\"},\"colorscale\":[[0.0,\"#0d0887\"],[0.1111111111111111,\"#46039f\"],[0.2222222222222222,\"#7201a8\"],[0.3333333333333333,\"#9c179e\"],[0.4444444444444444,\"#bd3786\"],[0.5555555555555556,\"#d8576b\"],[0.6666666666666666,\"#ed7953\"],[0.7777777777777778,\"#fb9f3a\"],[0.8888888888888888,\"#fdca26\"],[1.0,\"#f0f921\"]]}],\"mesh3d\":[{\"type\":\"mesh3d\",\"colorbar\":{\"outlinewidth\":0,\"ticks\":\"\"}}],\"scatter\":[{\"fillpattern\":{\"fillmode\":\"overlay\",\"size\":10,\"solidity\":0.2},\"type\":\"scatter\"}],\"parcoords\":[{\"type\":\"parcoords\",\"line\":{\"colorbar\":{\"outlinewidth\":0,\"ticks\":\"\"}}}],\"scatterpolargl\":[{\"type\":\"scatterpolargl\",\"marker\":{\"colorbar\":{\"outlinewidth\":0,\"ticks\":\"\"}}}],\"bar\":[{\"error_x\":{\"color\":\"#2a3f5f\"},\"error_y\":{\"color\":\"#2a3f5f\"},\"marker\":{\"line\":{\"color\":\"#E5ECF6\",\"width\":0.5},\"pattern\":{\"fillmode\":\"overlay\",\"size\":10,\"solidity\":0.2}},\"type\":\"bar\"}],\"scattergeo\":[{\"type\":\"scattergeo\",\"marker\":{\"colorbar\":{\"outlinewidth\":0,\"ticks\":\"\"}}}],\"scatterpolar\":[{\"type\":\"scatterpolar\",\"marker\":{\"colorbar\":{\"outlinewidth\":0,\"ticks\":\"\"}}}],\"histogram\":[{\"marker\":{\"pattern\":{\"fillmode\":\"overlay\",\"size\":10,\"solidity\":0.2}},\"type\":\"histogram\"}],\"scattergl\":[{\"type\":\"scattergl\",\"marker\":{\"colorbar\":{\"outlinewidth\":0,\"ticks\":\"\"}}}],\"scatter3d\":[{\"type\":\"scatter3d\",\"line\":{\"colorbar\":{\"outlinewidth\":0,\"ticks\":\"\"}},\"marker\":{\"colorbar\":{\"outlinewidth\":0,\"ticks\":\"\"}}}],\"scattermapbox\":[{\"type\":\"scattermapbox\",\"marker\":{\"colorbar\":{\"outlinewidth\":0,\"ticks\":\"\"}}}],\"scatterternary\":[{\"type\":\"scatterternary\",\"marker\":{\"colorbar\":{\"outlinewidth\":0,\"ticks\":\"\"}}}],\"scattercarpet\":[{\"type\":\"scattercarpet\",\"marker\":{\"colorbar\":{\"outlinewidth\":0,\"ticks\":\"\"}}}],\"carpet\":[{\"aaxis\":{\"endlinecolor\":\"#2a3f5f\",\"gridcolor\":\"white\",\"linecolor\":\"white\",\"minorgridcolor\":\"white\",\"startlinecolor\":\"#2a3f5f\"},\"baxis\":{\"endlinecolor\":\"#2a3f5f\",\"gridcolor\":\"white\",\"linecolor\":\"white\",\"minorgridcolor\":\"white\",\"startlinecolor\":\"#2a3f5f\"},\"type\":\"carpet\"}],\"table\":[{\"cells\":{\"fill\":{\"color\":\"#EBF0F8\"},\"line\":{\"color\":\"white\"}},\"header\":{\"fill\":{\"color\":\"#C8D4E3\"},\"line\":{\"color\":\"white\"}},\"type\":\"table\"}],\"barpolar\":[{\"marker\":{\"line\":{\"color\":\"#E5ECF6\",\"width\":0.5},\"pattern\":{\"fillmode\":\"overlay\",\"size\":10,\"solidity\":0.2}},\"type\":\"barpolar\"}],\"pie\":[{\"automargin\":true,\"type\":\"pie\"}]},\"layout\":{\"autotypenumbers\":\"strict\",\"colorway\":[\"#636efa\",\"#EF553B\",\"#00cc96\",\"#ab63fa\",\"#FFA15A\",\"#19d3f3\",\"#FF6692\",\"#B6E880\",\"#FF97FF\",\"#FECB52\"],\"font\":{\"color\":\"#2a3f5f\"},\"hovermode\":\"closest\",\"hoverlabel\":{\"align\":\"left\"},\"paper_bgcolor\":\"white\",\"plot_bgcolor\":\"#E5ECF6\",\"polar\":{\"bgcolor\":\"#E5ECF6\",\"angularaxis\":{\"gridcolor\":\"white\",\"linecolor\":\"white\",\"ticks\":\"\"},\"radialaxis\":{\"gridcolor\":\"white\",\"linecolor\":\"white\",\"ticks\":\"\"}},\"ternary\":{\"bgcolor\":\"#E5ECF6\",\"aaxis\":{\"gridcolor\":\"white\",\"linecolor\":\"white\",\"ticks\":\"\"},\"baxis\":{\"gridcolor\":\"white\",\"linecolor\":\"white\",\"ticks\":\"\"},\"caxis\":{\"gridcolor\":\"white\",\"linecolor\":\"white\",\"ticks\":\"\"}},\"coloraxis\":{\"colorbar\":{\"outlinewidth\":0,\"ticks\":\"\"}},\"colorscale\":{\"sequential\":[[0.0,\"#0d0887\"],[0.1111111111111111,\"#46039f\"],[0.2222222222222222,\"#7201a8\"],[0.3333333333333333,\"#9c179e\"],[0.4444444444444444,\"#bd3786\"],[0.5555555555555556,\"#d8576b\"],[0.6666666666666666,\"#ed7953\"],[0.7777777777777778,\"#fb9f3a\"],[0.8888888888888888,\"#fdca26\"],[1.0,\"#f0f921\"]],\"sequentialminus\":[[0.0,\"#0d0887\"],[0.1111111111111111,\"#46039f\"],[0.2222222222222222,\"#7201a8\"],[0.3333333333333333,\"#9c179e\"],[0.4444444444444444,\"#bd3786\"],[0.5555555555555556,\"#d8576b\"],[0.6666666666666666,\"#ed7953\"],[0.7777777777777778,\"#fb9f3a\"],[0.8888888888888888,\"#fdca26\"],[1.0,\"#f0f921\"]],\"diverging\":[[0,\"#8e0152\"],[0.1,\"#c51b7d\"],[0.2,\"#de77ae\"],[0.3,\"#f1b6da\"],[0.4,\"#fde0ef\"],[0.5,\"#f7f7f7\"],[0.6,\"#e6f5d0\"],[0.7,\"#b8e186\"],[0.8,\"#7fbc41\"],[0.9,\"#4d9221\"],[1,\"#276419\"]]},\"xaxis\":{\"gridcolor\":\"white\",\"linecolor\":\"white\",\"ticks\":\"\",\"title\":{\"standoff\":15},\"zerolinecolor\":\"white\",\"automargin\":true,\"zerolinewidth\":2},\"yaxis\":{\"gridcolor\":\"white\",\"linecolor\":\"white\",\"ticks\":\"\",\"title\":{\"standoff\":15},\"zerolinecolor\":\"white\",\"automargin\":true,\"zerolinewidth\":2},\"scene\":{\"xaxis\":{\"backgroundcolor\":\"#E5ECF6\",\"gridcolor\":\"white\",\"linecolor\":\"white\",\"showbackground\":true,\"ticks\":\"\",\"zerolinecolor\":\"white\",\"gridwidth\":2},\"yaxis\":{\"backgroundcolor\":\"#E5ECF6\",\"gridcolor\":\"white\",\"linecolor\":\"white\",\"showbackground\":true,\"ticks\":\"\",\"zerolinecolor\":\"white\",\"gridwidth\":2},\"zaxis\":{\"backgroundcolor\":\"#E5ECF6\",\"gridcolor\":\"white\",\"linecolor\":\"white\",\"showbackground\":true,\"ticks\":\"\",\"zerolinecolor\":\"white\",\"gridwidth\":2}},\"shapedefaults\":{\"line\":{\"color\":\"#2a3f5f\"}},\"annotationdefaults\":{\"arrowcolor\":\"#2a3f5f\",\"arrowhead\":0,\"arrowwidth\":1},\"geo\":{\"bgcolor\":\"white\",\"landcolor\":\"#E5ECF6\",\"subunitcolor\":\"white\",\"showland\":true,\"showlakes\":true,\"lakecolor\":\"white\"},\"title\":{\"x\":0.05},\"mapbox\":{\"style\":\"light\"}}},\"scene\":{\"domain\":{\"x\":[0.0,1.0],\"y\":[0.0,1.0]},\"xaxis\":{\"title\":{\"text\":\"Poly Order\"}},\"yaxis\":{\"title\":{\"text\":\"Estimation Order\"}},\"zaxis\":{\"title\":{\"text\":\"Sample Size\"}},\"aspectratio\":{\"x\":1,\"y\":2,\"z\":1},\"camera\":{\"eye\":{\"x\":3,\"y\":2,\"z\":2}}},\"coloraxis\":{\"colorbar\":{\"title\":{\"text\":\"Median Test\\u002fTrain MSE Ratio\"}},\"colorscale\":[[0.0,\"rgb(0,104,55)\"],[0.1,\"rgb(26,152,80)\"],[0.2,\"rgb(102,189,99)\"],[0.3,\"rgb(166,217,106)\"],[0.4,\"rgb(217,239,139)\"],[0.5,\"rgb(255,255,191)\"],[0.6,\"rgb(254,224,139)\"],[0.7,\"rgb(253,174,97)\"],[0.8,\"rgb(244,109,67)\"],[0.9,\"rgb(215,48,39)\"],[1.0,\"rgb(165,0,38)\"]]},\"legend\":{\"tracegroupgap\":0,\"itemsizing\":\"constant\"},\"title\":{\"text\":\"Factors that impact Test\\u002fTrain MSE Ratio (Overfitting)\"},\"width\":1100,\"height\":800},                        {\"responsive\": true}                    ).then(function(){\n",
       "                            \n",
       "var gd = document.getElementById('ef1cd68b-0888-43ab-abac-43e4edb6bad7');\n",
       "var x = new MutationObserver(function (mutations, observer) {{\n",
       "        var display = window.getComputedStyle(gd).display;\n",
       "        if (!display || display === 'none') {{\n",
       "            console.log([gd, 'removed!']);\n",
       "            Plotly.purge(gd);\n",
       "            observer.disconnect();\n",
       "        }}\n",
       "}});\n",
       "\n",
       "// Listen for the removal of the full notebook cells\n",
       "var notebookContainer = gd.closest('#notebook-container');\n",
       "if (notebookContainer) {{\n",
       "    x.observe(notebookContainer, {childList: true});\n",
       "}}\n",
       "\n",
       "// Listen for the clearing of the current output cell\n",
       "var outputEl = gd.closest('.output');\n",
       "if (outputEl) {{\n",
       "    x.observe(outputEl, {childList: true});\n",
       "}}\n",
       "\n",
       "                        })                };                });            </script>        </div>"
      ]
     },
     "metadata": {},
     "output_type": "display_data"
    }
   ],
   "source": [
    "def plot_3d_results(results, color_var, color_lab, title, aspect_x=1, aspect_y=2, aspect_z=1):\n",
    "\n",
    "    # Assuming your DataFrame is named `results` and has the required columns\n",
    "    fig = px.scatter_3d(\n",
    "        results,\n",
    "        x='poly_order',\n",
    "        y='est_order',\n",
    "        z='sample_size',\n",
    "        color=color_var,\n",
    "        size=color_var,\n",
    "        color_continuous_scale='rdylgn_r',\n",
    "        title=title,\n",
    "        labels={\n",
    "            \"poly_order\": \"Poly Order\",\n",
    "            \"est_order\": \"Estimation Order\",\n",
    "            \"sample_size\": \"Sample Size\",\n",
    "            color_var:color_lab\n",
    "        }\n",
    "    )\n",
    "\n",
    "    # Customize layout for better appearance\n",
    "    fig.update_traces(marker=dict(opacity=0.8))\n",
    "    fig.update_layout(\n",
    "        scene=dict(\n",
    "            xaxis_title=\"Poly Order\",\n",
    "            yaxis_title=\"Estimation Order\",\n",
    "            zaxis_title=\"Sample Size\",\n",
    "            aspectratio=dict(x=aspect_x,y=aspect_y,z=aspect_z),\n",
    "            camera=dict( eye=dict(x=3, y=2, z=2) )\n",
    "        ),\n",
    "        coloraxis_colorbar=dict(title=color_lab)\n",
    "        ,\n",
    "            width=1100,\n",
    "            height=800\n",
    "    )\n",
    "\n",
    "    add_plane=True\n",
    "    if add_plane:\n",
    "        x = np.linspace(0,5,10)\n",
    "        z = np.linspace(results['sample_size'].min(), results['sample_size'].max(),10)\n",
    "        x, z = np.meshgrid(x,z)\n",
    "        y=x \n",
    "        plane_surface = go.Surface(\n",
    "            x=x,\n",
    "            y=y,\n",
    "            z=z,\n",
    "            opacity=.2,\n",
    "            colorscale=[[0,'green'], [1, 'green']],\n",
    "            showscale=False,\n",
    "            hoverinfo='skip',\n",
    "            name='Properly Specified Estimators'\n",
    "        )\n",
    "        fig.add_trace(plane_surface)\n",
    "\n",
    "        fig.update_layout(legend=dict(itemsizing='constant'))\n",
    "    # Show the interactive plot\n",
    "    fig.show()\n",
    "\n",
    "plot_3d_results(results, 'avg_MSE_ratio' , 'Median Test/Train MSE Ratio', 'Factors that impact Test/Train MSE Ratio (Overfitting)')"
   ]
  },
  {
   "cell_type": "code",
   "execution_count": 27,
   "metadata": {},
   "outputs": [
    {
     "data": {
      "application/vnd.plotly.v1+json": {
       "config": {
        "plotlyServerURL": "https://plot.ly"
       },
       "data": [
        {
         "hovertemplate": "Poly Order=%{x}<br>Estimation Order=%{y}<br>Sample Size=%{z}<br>Median Test MSE=%{marker.color}<extra></extra>",
         "legendgroup": "",
         "marker": {
          "color": [
           141.70676506182267,
           148.56773065871394,
           145.15082286315243,
           148.20575904384725,
           146.07086635838272,
           150.43359883823666,
           169.5715997324621,
           152.4183671928572,
           157.1915044702043,
           205.59064556260418,
           174.13652867798172,
           162.83772662344748,
           291.88923946659384,
           201.57905131004514,
           176.85069330578727,
           309.8948893451113,
           330.62574771907737,
           319.8299661747702,
           151.18545550433674,
           150.98454968708575,
           149.47238320885933,
           170.39544489531147,
           165.74988918170936,
           156.3251591348567,
           229.2518457198679,
           174.29209702224358,
           163.48311902239095,
           340.80843127073746,
           204.36645798236214,
           186.89199645103304,
           322.0626094030099,
           321.23905518276644,
           315.0861175634297,
           210.1973129452998,
           194.66080853119593,
           196.96753438504123,
           168.25113136664274,
           155.22558116617438,
           152.91677666754615,
           215.91626360452636,
           171.5403584327934,
           162.33133443771732,
           363.9780104423644,
           222.61683914197556,
           197.85338574988683,
           282.90839931986045,
           288.90627875069504,
           276.75475414456116,
           222.3825372541724,
           212.8049543230614,
           212.9716214082415,
           209.5594270258246,
           192.79819964683082,
           183.56821522916817,
           210.69659579973313,
           173.7271591926512,
           169.51013897119697,
           369.87684759014365,
           242.07044654593045,
           225.88240998884856
          ],
          "coloraxis": "coloraxis",
          "opacity": 0.8,
          "size": [
           141.70676506182267,
           148.56773065871394,
           145.15082286315243,
           148.20575904384725,
           146.07086635838272,
           150.43359883823666,
           169.5715997324621,
           152.4183671928572,
           157.1915044702043,
           205.59064556260418,
           174.13652867798172,
           162.83772662344748,
           291.88923946659384,
           201.57905131004514,
           176.85069330578727,
           309.8948893451113,
           330.62574771907737,
           319.8299661747702,
           151.18545550433674,
           150.98454968708575,
           149.47238320885933,
           170.39544489531147,
           165.74988918170936,
           156.3251591348567,
           229.2518457198679,
           174.29209702224358,
           163.48311902239095,
           340.80843127073746,
           204.36645798236214,
           186.89199645103304,
           322.0626094030099,
           321.23905518276644,
           315.0861175634297,
           210.1973129452998,
           194.66080853119593,
           196.96753438504123,
           168.25113136664274,
           155.22558116617438,
           152.91677666754615,
           215.91626360452636,
           171.5403584327934,
           162.33133443771732,
           363.9780104423644,
           222.61683914197556,
           197.85338574988683,
           282.90839931986045,
           288.90627875069504,
           276.75475414456116,
           222.3825372541724,
           212.8049543230614,
           212.9716214082415,
           209.5594270258246,
           192.79819964683082,
           183.56821522916817,
           210.69659579973313,
           173.7271591926512,
           169.51013897119697,
           369.87684759014365,
           242.07044654593045,
           225.88240998884856
          ],
          "sizemode": "area",
          "sizeref": 0.9246921189753592,
          "symbol": "circle"
         },
         "mode": "markers",
         "name": "",
         "scene": "scene",
         "showlegend": false,
         "type": "scatter3d",
         "x": [
          1,
          1,
          1,
          1,
          1,
          1,
          1,
          1,
          1,
          1,
          1,
          1,
          1,
          1,
          1,
          2,
          2,
          2,
          2,
          2,
          2,
          2,
          2,
          2,
          2,
          2,
          2,
          2,
          2,
          2,
          3,
          3,
          3,
          3,
          3,
          3,
          3,
          3,
          3,
          3,
          3,
          3,
          3,
          3,
          3,
          5,
          5,
          5,
          5,
          5,
          5,
          5,
          5,
          5,
          5,
          5,
          5,
          5,
          5,
          5
         ],
         "y": [
          1,
          1,
          1,
          2,
          2,
          2,
          3,
          3,
          3,
          5,
          5,
          5,
          10,
          10,
          10,
          1,
          1,
          1,
          2,
          2,
          2,
          3,
          3,
          3,
          5,
          5,
          5,
          10,
          10,
          10,
          1,
          1,
          1,
          2,
          2,
          2,
          3,
          3,
          3,
          5,
          5,
          5,
          10,
          10,
          10,
          1,
          1,
          1,
          2,
          2,
          2,
          3,
          3,
          3,
          5,
          5,
          5,
          10,
          10,
          10
         ],
         "z": [
          25,
          50,
          75,
          25,
          50,
          75,
          25,
          50,
          75,
          25,
          50,
          75,
          25,
          50,
          75,
          25,
          50,
          75,
          25,
          50,
          75,
          25,
          50,
          75,
          25,
          50,
          75,
          25,
          50,
          75,
          25,
          50,
          75,
          25,
          50,
          75,
          25,
          50,
          75,
          25,
          50,
          75,
          25,
          50,
          75,
          25,
          50,
          75,
          25,
          50,
          75,
          25,
          50,
          75,
          25,
          50,
          75,
          25,
          50,
          75
         ]
        },
        {
         "colorscale": [
          [
           0,
           "green"
          ],
          [
           1,
           "green"
          ]
         ],
         "hoverinfo": "skip",
         "name": "Properly Specified Estimators",
         "opacity": 0.2,
         "showscale": false,
         "type": "surface",
         "x": [
          [
           0,
           0.5555555555555556,
           1.1111111111111112,
           1.6666666666666667,
           2.2222222222222223,
           2.7777777777777777,
           3.3333333333333335,
           3.8888888888888893,
           4.444444444444445,
           5
          ],
          [
           0,
           0.5555555555555556,
           1.1111111111111112,
           1.6666666666666667,
           2.2222222222222223,
           2.7777777777777777,
           3.3333333333333335,
           3.8888888888888893,
           4.444444444444445,
           5
          ],
          [
           0,
           0.5555555555555556,
           1.1111111111111112,
           1.6666666666666667,
           2.2222222222222223,
           2.7777777777777777,
           3.3333333333333335,
           3.8888888888888893,
           4.444444444444445,
           5
          ],
          [
           0,
           0.5555555555555556,
           1.1111111111111112,
           1.6666666666666667,
           2.2222222222222223,
           2.7777777777777777,
           3.3333333333333335,
           3.8888888888888893,
           4.444444444444445,
           5
          ],
          [
           0,
           0.5555555555555556,
           1.1111111111111112,
           1.6666666666666667,
           2.2222222222222223,
           2.7777777777777777,
           3.3333333333333335,
           3.8888888888888893,
           4.444444444444445,
           5
          ],
          [
           0,
           0.5555555555555556,
           1.1111111111111112,
           1.6666666666666667,
           2.2222222222222223,
           2.7777777777777777,
           3.3333333333333335,
           3.8888888888888893,
           4.444444444444445,
           5
          ],
          [
           0,
           0.5555555555555556,
           1.1111111111111112,
           1.6666666666666667,
           2.2222222222222223,
           2.7777777777777777,
           3.3333333333333335,
           3.8888888888888893,
           4.444444444444445,
           5
          ],
          [
           0,
           0.5555555555555556,
           1.1111111111111112,
           1.6666666666666667,
           2.2222222222222223,
           2.7777777777777777,
           3.3333333333333335,
           3.8888888888888893,
           4.444444444444445,
           5
          ],
          [
           0,
           0.5555555555555556,
           1.1111111111111112,
           1.6666666666666667,
           2.2222222222222223,
           2.7777777777777777,
           3.3333333333333335,
           3.8888888888888893,
           4.444444444444445,
           5
          ],
          [
           0,
           0.5555555555555556,
           1.1111111111111112,
           1.6666666666666667,
           2.2222222222222223,
           2.7777777777777777,
           3.3333333333333335,
           3.8888888888888893,
           4.444444444444445,
           5
          ]
         ],
         "y": [
          [
           0,
           0.5555555555555556,
           1.1111111111111112,
           1.6666666666666667,
           2.2222222222222223,
           2.7777777777777777,
           3.3333333333333335,
           3.8888888888888893,
           4.444444444444445,
           5
          ],
          [
           0,
           0.5555555555555556,
           1.1111111111111112,
           1.6666666666666667,
           2.2222222222222223,
           2.7777777777777777,
           3.3333333333333335,
           3.8888888888888893,
           4.444444444444445,
           5
          ],
          [
           0,
           0.5555555555555556,
           1.1111111111111112,
           1.6666666666666667,
           2.2222222222222223,
           2.7777777777777777,
           3.3333333333333335,
           3.8888888888888893,
           4.444444444444445,
           5
          ],
          [
           0,
           0.5555555555555556,
           1.1111111111111112,
           1.6666666666666667,
           2.2222222222222223,
           2.7777777777777777,
           3.3333333333333335,
           3.8888888888888893,
           4.444444444444445,
           5
          ],
          [
           0,
           0.5555555555555556,
           1.1111111111111112,
           1.6666666666666667,
           2.2222222222222223,
           2.7777777777777777,
           3.3333333333333335,
           3.8888888888888893,
           4.444444444444445,
           5
          ],
          [
           0,
           0.5555555555555556,
           1.1111111111111112,
           1.6666666666666667,
           2.2222222222222223,
           2.7777777777777777,
           3.3333333333333335,
           3.8888888888888893,
           4.444444444444445,
           5
          ],
          [
           0,
           0.5555555555555556,
           1.1111111111111112,
           1.6666666666666667,
           2.2222222222222223,
           2.7777777777777777,
           3.3333333333333335,
           3.8888888888888893,
           4.444444444444445,
           5
          ],
          [
           0,
           0.5555555555555556,
           1.1111111111111112,
           1.6666666666666667,
           2.2222222222222223,
           2.7777777777777777,
           3.3333333333333335,
           3.8888888888888893,
           4.444444444444445,
           5
          ],
          [
           0,
           0.5555555555555556,
           1.1111111111111112,
           1.6666666666666667,
           2.2222222222222223,
           2.7777777777777777,
           3.3333333333333335,
           3.8888888888888893,
           4.444444444444445,
           5
          ],
          [
           0,
           0.5555555555555556,
           1.1111111111111112,
           1.6666666666666667,
           2.2222222222222223,
           2.7777777777777777,
           3.3333333333333335,
           3.8888888888888893,
           4.444444444444445,
           5
          ]
         ],
         "z": [
          [
           25,
           25,
           25,
           25,
           25,
           25,
           25,
           25,
           25,
           25
          ],
          [
           30.555555555555557,
           30.555555555555557,
           30.555555555555557,
           30.555555555555557,
           30.555555555555557,
           30.555555555555557,
           30.555555555555557,
           30.555555555555557,
           30.555555555555557,
           30.555555555555557
          ],
          [
           36.111111111111114,
           36.111111111111114,
           36.111111111111114,
           36.111111111111114,
           36.111111111111114,
           36.111111111111114,
           36.111111111111114,
           36.111111111111114,
           36.111111111111114,
           36.111111111111114
          ],
          [
           41.666666666666664,
           41.666666666666664,
           41.666666666666664,
           41.666666666666664,
           41.666666666666664,
           41.666666666666664,
           41.666666666666664,
           41.666666666666664,
           41.666666666666664,
           41.666666666666664
          ],
          [
           47.22222222222222,
           47.22222222222222,
           47.22222222222222,
           47.22222222222222,
           47.22222222222222,
           47.22222222222222,
           47.22222222222222,
           47.22222222222222,
           47.22222222222222,
           47.22222222222222
          ],
          [
           52.77777777777778,
           52.77777777777778,
           52.77777777777778,
           52.77777777777778,
           52.77777777777778,
           52.77777777777778,
           52.77777777777778,
           52.77777777777778,
           52.77777777777778,
           52.77777777777778
          ],
          [
           58.33333333333333,
           58.33333333333333,
           58.33333333333333,
           58.33333333333333,
           58.33333333333333,
           58.33333333333333,
           58.33333333333333,
           58.33333333333333,
           58.33333333333333,
           58.33333333333333
          ],
          [
           63.888888888888886,
           63.888888888888886,
           63.888888888888886,
           63.888888888888886,
           63.888888888888886,
           63.888888888888886,
           63.888888888888886,
           63.888888888888886,
           63.888888888888886,
           63.888888888888886
          ],
          [
           69.44444444444444,
           69.44444444444444,
           69.44444444444444,
           69.44444444444444,
           69.44444444444444,
           69.44444444444444,
           69.44444444444444,
           69.44444444444444,
           69.44444444444444,
           69.44444444444444
          ],
          [
           75,
           75,
           75,
           75,
           75,
           75,
           75,
           75,
           75,
           75
          ]
         ]
        }
       ],
       "layout": {
        "coloraxis": {
         "colorbar": {
          "title": {
           "text": "Median Test MSE"
          }
         },
         "colorscale": [
          [
           0,
           "rgb(0,104,55)"
          ],
          [
           0.1,
           "rgb(26,152,80)"
          ],
          [
           0.2,
           "rgb(102,189,99)"
          ],
          [
           0.3,
           "rgb(166,217,106)"
          ],
          [
           0.4,
           "rgb(217,239,139)"
          ],
          [
           0.5,
           "rgb(255,255,191)"
          ],
          [
           0.6,
           "rgb(254,224,139)"
          ],
          [
           0.7,
           "rgb(253,174,97)"
          ],
          [
           0.8,
           "rgb(244,109,67)"
          ],
          [
           0.9,
           "rgb(215,48,39)"
          ],
          [
           1,
           "rgb(165,0,38)"
          ]
         ]
        },
        "height": 800,
        "legend": {
         "itemsizing": "constant",
         "tracegroupgap": 0
        },
        "scene": {
         "aspectratio": {
          "x": 1,
          "y": 2,
          "z": 1
         },
         "camera": {
          "eye": {
           "x": 3,
           "y": 2,
           "z": 2
          }
         },
         "domain": {
          "x": [
           0,
           1
          ],
          "y": [
           0,
           1
          ]
         },
         "xaxis": {
          "title": {
           "text": "Poly Order"
          }
         },
         "yaxis": {
          "title": {
           "text": "Estimation Order"
          }
         },
         "zaxis": {
          "title": {
           "text": "Sample Size"
          }
         }
        },
        "template": {
         "data": {
          "bar": [
           {
            "error_x": {
             "color": "#2a3f5f"
            },
            "error_y": {
             "color": "#2a3f5f"
            },
            "marker": {
             "line": {
              "color": "#E5ECF6",
              "width": 0.5
             },
             "pattern": {
              "fillmode": "overlay",
              "size": 10,
              "solidity": 0.2
             }
            },
            "type": "bar"
           }
          ],
          "barpolar": [
           {
            "marker": {
             "line": {
              "color": "#E5ECF6",
              "width": 0.5
             },
             "pattern": {
              "fillmode": "overlay",
              "size": 10,
              "solidity": 0.2
             }
            },
            "type": "barpolar"
           }
          ],
          "carpet": [
           {
            "aaxis": {
             "endlinecolor": "#2a3f5f",
             "gridcolor": "white",
             "linecolor": "white",
             "minorgridcolor": "white",
             "startlinecolor": "#2a3f5f"
            },
            "baxis": {
             "endlinecolor": "#2a3f5f",
             "gridcolor": "white",
             "linecolor": "white",
             "minorgridcolor": "white",
             "startlinecolor": "#2a3f5f"
            },
            "type": "carpet"
           }
          ],
          "choropleth": [
           {
            "colorbar": {
             "outlinewidth": 0,
             "ticks": ""
            },
            "type": "choropleth"
           }
          ],
          "contour": [
           {
            "colorbar": {
             "outlinewidth": 0,
             "ticks": ""
            },
            "colorscale": [
             [
              0,
              "#0d0887"
             ],
             [
              0.1111111111111111,
              "#46039f"
             ],
             [
              0.2222222222222222,
              "#7201a8"
             ],
             [
              0.3333333333333333,
              "#9c179e"
             ],
             [
              0.4444444444444444,
              "#bd3786"
             ],
             [
              0.5555555555555556,
              "#d8576b"
             ],
             [
              0.6666666666666666,
              "#ed7953"
             ],
             [
              0.7777777777777778,
              "#fb9f3a"
             ],
             [
              0.8888888888888888,
              "#fdca26"
             ],
             [
              1,
              "#f0f921"
             ]
            ],
            "type": "contour"
           }
          ],
          "contourcarpet": [
           {
            "colorbar": {
             "outlinewidth": 0,
             "ticks": ""
            },
            "type": "contourcarpet"
           }
          ],
          "heatmap": [
           {
            "colorbar": {
             "outlinewidth": 0,
             "ticks": ""
            },
            "colorscale": [
             [
              0,
              "#0d0887"
             ],
             [
              0.1111111111111111,
              "#46039f"
             ],
             [
              0.2222222222222222,
              "#7201a8"
             ],
             [
              0.3333333333333333,
              "#9c179e"
             ],
             [
              0.4444444444444444,
              "#bd3786"
             ],
             [
              0.5555555555555556,
              "#d8576b"
             ],
             [
              0.6666666666666666,
              "#ed7953"
             ],
             [
              0.7777777777777778,
              "#fb9f3a"
             ],
             [
              0.8888888888888888,
              "#fdca26"
             ],
             [
              1,
              "#f0f921"
             ]
            ],
            "type": "heatmap"
           }
          ],
          "heatmapgl": [
           {
            "colorbar": {
             "outlinewidth": 0,
             "ticks": ""
            },
            "colorscale": [
             [
              0,
              "#0d0887"
             ],
             [
              0.1111111111111111,
              "#46039f"
             ],
             [
              0.2222222222222222,
              "#7201a8"
             ],
             [
              0.3333333333333333,
              "#9c179e"
             ],
             [
              0.4444444444444444,
              "#bd3786"
             ],
             [
              0.5555555555555556,
              "#d8576b"
             ],
             [
              0.6666666666666666,
              "#ed7953"
             ],
             [
              0.7777777777777778,
              "#fb9f3a"
             ],
             [
              0.8888888888888888,
              "#fdca26"
             ],
             [
              1,
              "#f0f921"
             ]
            ],
            "type": "heatmapgl"
           }
          ],
          "histogram": [
           {
            "marker": {
             "pattern": {
              "fillmode": "overlay",
              "size": 10,
              "solidity": 0.2
             }
            },
            "type": "histogram"
           }
          ],
          "histogram2d": [
           {
            "colorbar": {
             "outlinewidth": 0,
             "ticks": ""
            },
            "colorscale": [
             [
              0,
              "#0d0887"
             ],
             [
              0.1111111111111111,
              "#46039f"
             ],
             [
              0.2222222222222222,
              "#7201a8"
             ],
             [
              0.3333333333333333,
              "#9c179e"
             ],
             [
              0.4444444444444444,
              "#bd3786"
             ],
             [
              0.5555555555555556,
              "#d8576b"
             ],
             [
              0.6666666666666666,
              "#ed7953"
             ],
             [
              0.7777777777777778,
              "#fb9f3a"
             ],
             [
              0.8888888888888888,
              "#fdca26"
             ],
             [
              1,
              "#f0f921"
             ]
            ],
            "type": "histogram2d"
           }
          ],
          "histogram2dcontour": [
           {
            "colorbar": {
             "outlinewidth": 0,
             "ticks": ""
            },
            "colorscale": [
             [
              0,
              "#0d0887"
             ],
             [
              0.1111111111111111,
              "#46039f"
             ],
             [
              0.2222222222222222,
              "#7201a8"
             ],
             [
              0.3333333333333333,
              "#9c179e"
             ],
             [
              0.4444444444444444,
              "#bd3786"
             ],
             [
              0.5555555555555556,
              "#d8576b"
             ],
             [
              0.6666666666666666,
              "#ed7953"
             ],
             [
              0.7777777777777778,
              "#fb9f3a"
             ],
             [
              0.8888888888888888,
              "#fdca26"
             ],
             [
              1,
              "#f0f921"
             ]
            ],
            "type": "histogram2dcontour"
           }
          ],
          "mesh3d": [
           {
            "colorbar": {
             "outlinewidth": 0,
             "ticks": ""
            },
            "type": "mesh3d"
           }
          ],
          "parcoords": [
           {
            "line": {
             "colorbar": {
              "outlinewidth": 0,
              "ticks": ""
             }
            },
            "type": "parcoords"
           }
          ],
          "pie": [
           {
            "automargin": true,
            "type": "pie"
           }
          ],
          "scatter": [
           {
            "fillpattern": {
             "fillmode": "overlay",
             "size": 10,
             "solidity": 0.2
            },
            "type": "scatter"
           }
          ],
          "scatter3d": [
           {
            "line": {
             "colorbar": {
              "outlinewidth": 0,
              "ticks": ""
             }
            },
            "marker": {
             "colorbar": {
              "outlinewidth": 0,
              "ticks": ""
             }
            },
            "type": "scatter3d"
           }
          ],
          "scattercarpet": [
           {
            "marker": {
             "colorbar": {
              "outlinewidth": 0,
              "ticks": ""
             }
            },
            "type": "scattercarpet"
           }
          ],
          "scattergeo": [
           {
            "marker": {
             "colorbar": {
              "outlinewidth": 0,
              "ticks": ""
             }
            },
            "type": "scattergeo"
           }
          ],
          "scattergl": [
           {
            "marker": {
             "colorbar": {
              "outlinewidth": 0,
              "ticks": ""
             }
            },
            "type": "scattergl"
           }
          ],
          "scattermapbox": [
           {
            "marker": {
             "colorbar": {
              "outlinewidth": 0,
              "ticks": ""
             }
            },
            "type": "scattermapbox"
           }
          ],
          "scatterpolar": [
           {
            "marker": {
             "colorbar": {
              "outlinewidth": 0,
              "ticks": ""
             }
            },
            "type": "scatterpolar"
           }
          ],
          "scatterpolargl": [
           {
            "marker": {
             "colorbar": {
              "outlinewidth": 0,
              "ticks": ""
             }
            },
            "type": "scatterpolargl"
           }
          ],
          "scatterternary": [
           {
            "marker": {
             "colorbar": {
              "outlinewidth": 0,
              "ticks": ""
             }
            },
            "type": "scatterternary"
           }
          ],
          "surface": [
           {
            "colorbar": {
             "outlinewidth": 0,
             "ticks": ""
            },
            "colorscale": [
             [
              0,
              "#0d0887"
             ],
             [
              0.1111111111111111,
              "#46039f"
             ],
             [
              0.2222222222222222,
              "#7201a8"
             ],
             [
              0.3333333333333333,
              "#9c179e"
             ],
             [
              0.4444444444444444,
              "#bd3786"
             ],
             [
              0.5555555555555556,
              "#d8576b"
             ],
             [
              0.6666666666666666,
              "#ed7953"
             ],
             [
              0.7777777777777778,
              "#fb9f3a"
             ],
             [
              0.8888888888888888,
              "#fdca26"
             ],
             [
              1,
              "#f0f921"
             ]
            ],
            "type": "surface"
           }
          ],
          "table": [
           {
            "cells": {
             "fill": {
              "color": "#EBF0F8"
             },
             "line": {
              "color": "white"
             }
            },
            "header": {
             "fill": {
              "color": "#C8D4E3"
             },
             "line": {
              "color": "white"
             }
            },
            "type": "table"
           }
          ]
         },
         "layout": {
          "annotationdefaults": {
           "arrowcolor": "#2a3f5f",
           "arrowhead": 0,
           "arrowwidth": 1
          },
          "autotypenumbers": "strict",
          "coloraxis": {
           "colorbar": {
            "outlinewidth": 0,
            "ticks": ""
           }
          },
          "colorscale": {
           "diverging": [
            [
             0,
             "#8e0152"
            ],
            [
             0.1,
             "#c51b7d"
            ],
            [
             0.2,
             "#de77ae"
            ],
            [
             0.3,
             "#f1b6da"
            ],
            [
             0.4,
             "#fde0ef"
            ],
            [
             0.5,
             "#f7f7f7"
            ],
            [
             0.6,
             "#e6f5d0"
            ],
            [
             0.7,
             "#b8e186"
            ],
            [
             0.8,
             "#7fbc41"
            ],
            [
             0.9,
             "#4d9221"
            ],
            [
             1,
             "#276419"
            ]
           ],
           "sequential": [
            [
             0,
             "#0d0887"
            ],
            [
             0.1111111111111111,
             "#46039f"
            ],
            [
             0.2222222222222222,
             "#7201a8"
            ],
            [
             0.3333333333333333,
             "#9c179e"
            ],
            [
             0.4444444444444444,
             "#bd3786"
            ],
            [
             0.5555555555555556,
             "#d8576b"
            ],
            [
             0.6666666666666666,
             "#ed7953"
            ],
            [
             0.7777777777777778,
             "#fb9f3a"
            ],
            [
             0.8888888888888888,
             "#fdca26"
            ],
            [
             1,
             "#f0f921"
            ]
           ],
           "sequentialminus": [
            [
             0,
             "#0d0887"
            ],
            [
             0.1111111111111111,
             "#46039f"
            ],
            [
             0.2222222222222222,
             "#7201a8"
            ],
            [
             0.3333333333333333,
             "#9c179e"
            ],
            [
             0.4444444444444444,
             "#bd3786"
            ],
            [
             0.5555555555555556,
             "#d8576b"
            ],
            [
             0.6666666666666666,
             "#ed7953"
            ],
            [
             0.7777777777777778,
             "#fb9f3a"
            ],
            [
             0.8888888888888888,
             "#fdca26"
            ],
            [
             1,
             "#f0f921"
            ]
           ]
          },
          "colorway": [
           "#636efa",
           "#EF553B",
           "#00cc96",
           "#ab63fa",
           "#FFA15A",
           "#19d3f3",
           "#FF6692",
           "#B6E880",
           "#FF97FF",
           "#FECB52"
          ],
          "font": {
           "color": "#2a3f5f"
          },
          "geo": {
           "bgcolor": "white",
           "lakecolor": "white",
           "landcolor": "#E5ECF6",
           "showlakes": true,
           "showland": true,
           "subunitcolor": "white"
          },
          "hoverlabel": {
           "align": "left"
          },
          "hovermode": "closest",
          "mapbox": {
           "style": "light"
          },
          "paper_bgcolor": "white",
          "plot_bgcolor": "#E5ECF6",
          "polar": {
           "angularaxis": {
            "gridcolor": "white",
            "linecolor": "white",
            "ticks": ""
           },
           "bgcolor": "#E5ECF6",
           "radialaxis": {
            "gridcolor": "white",
            "linecolor": "white",
            "ticks": ""
           }
          },
          "scene": {
           "xaxis": {
            "backgroundcolor": "#E5ECF6",
            "gridcolor": "white",
            "gridwidth": 2,
            "linecolor": "white",
            "showbackground": true,
            "ticks": "",
            "zerolinecolor": "white"
           },
           "yaxis": {
            "backgroundcolor": "#E5ECF6",
            "gridcolor": "white",
            "gridwidth": 2,
            "linecolor": "white",
            "showbackground": true,
            "ticks": "",
            "zerolinecolor": "white"
           },
           "zaxis": {
            "backgroundcolor": "#E5ECF6",
            "gridcolor": "white",
            "gridwidth": 2,
            "linecolor": "white",
            "showbackground": true,
            "ticks": "",
            "zerolinecolor": "white"
           }
          },
          "shapedefaults": {
           "line": {
            "color": "#2a3f5f"
           }
          },
          "ternary": {
           "aaxis": {
            "gridcolor": "white",
            "linecolor": "white",
            "ticks": ""
           },
           "baxis": {
            "gridcolor": "white",
            "linecolor": "white",
            "ticks": ""
           },
           "bgcolor": "#E5ECF6",
           "caxis": {
            "gridcolor": "white",
            "linecolor": "white",
            "ticks": ""
           }
          },
          "title": {
           "x": 0.05
          },
          "xaxis": {
           "automargin": true,
           "gridcolor": "white",
           "linecolor": "white",
           "ticks": "",
           "title": {
            "standoff": 15
           },
           "zerolinecolor": "white",
           "zerolinewidth": 2
          },
          "yaxis": {
           "automargin": true,
           "gridcolor": "white",
           "linecolor": "white",
           "ticks": "",
           "title": {
            "standoff": 15
           },
           "zerolinecolor": "white",
           "zerolinewidth": 2
          }
         }
        },
        "title": {
         "text": "Factors that impact Test Performance (Underfitting/Overfitting)"
        },
        "width": 1100
       }
      },
      "text/html": [
       "<div>                            <div id=\"7e17dde5-8598-4202-ac8d-a046c7a44567\" class=\"plotly-graph-div\" style=\"height:800px; width:1100px;\"></div>            <script type=\"text/javascript\">                require([\"plotly\"], function(Plotly) {                    window.PLOTLYENV=window.PLOTLYENV || {};                                    if (document.getElementById(\"7e17dde5-8598-4202-ac8d-a046c7a44567\")) {                    Plotly.newPlot(                        \"7e17dde5-8598-4202-ac8d-a046c7a44567\",                        [{\"hovertemplate\":\"Poly Order=%{x}\\u003cbr\\u003eEstimation Order=%{y}\\u003cbr\\u003eSample Size=%{z}\\u003cbr\\u003eMedian Test MSE=%{marker.color}\\u003cextra\\u003e\\u003c\\u002fextra\\u003e\",\"legendgroup\":\"\",\"marker\":{\"color\":[141.70676506182267,148.56773065871394,145.15082286315243,148.20575904384725,146.07086635838272,150.43359883823666,169.5715997324621,152.4183671928572,157.1915044702043,205.59064556260418,174.13652867798172,162.83772662344748,291.88923946659384,201.57905131004514,176.85069330578727,309.8948893451113,330.62574771907737,319.8299661747702,151.18545550433674,150.98454968708575,149.47238320885933,170.39544489531147,165.74988918170936,156.3251591348567,229.2518457198679,174.29209702224358,163.48311902239095,340.80843127073746,204.36645798236214,186.89199645103304,322.0626094030099,321.23905518276644,315.0861175634297,210.1973129452998,194.66080853119593,196.96753438504123,168.25113136664274,155.22558116617438,152.91677666754615,215.91626360452636,171.5403584327934,162.33133443771732,363.9780104423644,222.61683914197556,197.85338574988683,282.90839931986045,288.90627875069504,276.75475414456116,222.3825372541724,212.8049543230614,212.9716214082415,209.5594270258246,192.79819964683082,183.56821522916817,210.69659579973313,173.7271591926512,169.51013897119697,369.87684759014365,242.07044654593045,225.88240998884856],\"coloraxis\":\"coloraxis\",\"size\":[141.70676506182267,148.56773065871394,145.15082286315243,148.20575904384725,146.07086635838272,150.43359883823666,169.5715997324621,152.4183671928572,157.1915044702043,205.59064556260418,174.13652867798172,162.83772662344748,291.88923946659384,201.57905131004514,176.85069330578727,309.8948893451113,330.62574771907737,319.8299661747702,151.18545550433674,150.98454968708575,149.47238320885933,170.39544489531147,165.74988918170936,156.3251591348567,229.2518457198679,174.29209702224358,163.48311902239095,340.80843127073746,204.36645798236214,186.89199645103304,322.0626094030099,321.23905518276644,315.0861175634297,210.1973129452998,194.66080853119593,196.96753438504123,168.25113136664274,155.22558116617438,152.91677666754615,215.91626360452636,171.5403584327934,162.33133443771732,363.9780104423644,222.61683914197556,197.85338574988683,282.90839931986045,288.90627875069504,276.75475414456116,222.3825372541724,212.8049543230614,212.9716214082415,209.5594270258246,192.79819964683082,183.56821522916817,210.69659579973313,173.7271591926512,169.51013897119697,369.87684759014365,242.07044654593045,225.88240998884856],\"sizemode\":\"area\",\"sizeref\":0.9246921189753592,\"symbol\":\"circle\",\"opacity\":0.8},\"mode\":\"markers\",\"name\":\"\",\"scene\":\"scene\",\"showlegend\":false,\"x\":[1,1,1,1,1,1,1,1,1,1,1,1,1,1,1,2,2,2,2,2,2,2,2,2,2,2,2,2,2,2,3,3,3,3,3,3,3,3,3,3,3,3,3,3,3,5,5,5,5,5,5,5,5,5,5,5,5,5,5,5],\"y\":[1,1,1,2,2,2,3,3,3,5,5,5,10,10,10,1,1,1,2,2,2,3,3,3,5,5,5,10,10,10,1,1,1,2,2,2,3,3,3,5,5,5,10,10,10,1,1,1,2,2,2,3,3,3,5,5,5,10,10,10],\"z\":[25,50,75,25,50,75,25,50,75,25,50,75,25,50,75,25,50,75,25,50,75,25,50,75,25,50,75,25,50,75,25,50,75,25,50,75,25,50,75,25,50,75,25,50,75,25,50,75,25,50,75,25,50,75,25,50,75,25,50,75],\"type\":\"scatter3d\"},{\"colorscale\":[[0,\"green\"],[1,\"green\"]],\"hoverinfo\":\"skip\",\"name\":\"Properly Specified Estimators\",\"opacity\":0.2,\"showscale\":false,\"x\":[[0.0,0.5555555555555556,1.1111111111111112,1.6666666666666667,2.2222222222222223,2.7777777777777777,3.3333333333333335,3.8888888888888893,4.444444444444445,5.0],[0.0,0.5555555555555556,1.1111111111111112,1.6666666666666667,2.2222222222222223,2.7777777777777777,3.3333333333333335,3.8888888888888893,4.444444444444445,5.0],[0.0,0.5555555555555556,1.1111111111111112,1.6666666666666667,2.2222222222222223,2.7777777777777777,3.3333333333333335,3.8888888888888893,4.444444444444445,5.0],[0.0,0.5555555555555556,1.1111111111111112,1.6666666666666667,2.2222222222222223,2.7777777777777777,3.3333333333333335,3.8888888888888893,4.444444444444445,5.0],[0.0,0.5555555555555556,1.1111111111111112,1.6666666666666667,2.2222222222222223,2.7777777777777777,3.3333333333333335,3.8888888888888893,4.444444444444445,5.0],[0.0,0.5555555555555556,1.1111111111111112,1.6666666666666667,2.2222222222222223,2.7777777777777777,3.3333333333333335,3.8888888888888893,4.444444444444445,5.0],[0.0,0.5555555555555556,1.1111111111111112,1.6666666666666667,2.2222222222222223,2.7777777777777777,3.3333333333333335,3.8888888888888893,4.444444444444445,5.0],[0.0,0.5555555555555556,1.1111111111111112,1.6666666666666667,2.2222222222222223,2.7777777777777777,3.3333333333333335,3.8888888888888893,4.444444444444445,5.0],[0.0,0.5555555555555556,1.1111111111111112,1.6666666666666667,2.2222222222222223,2.7777777777777777,3.3333333333333335,3.8888888888888893,4.444444444444445,5.0],[0.0,0.5555555555555556,1.1111111111111112,1.6666666666666667,2.2222222222222223,2.7777777777777777,3.3333333333333335,3.8888888888888893,4.444444444444445,5.0]],\"y\":[[0.0,0.5555555555555556,1.1111111111111112,1.6666666666666667,2.2222222222222223,2.7777777777777777,3.3333333333333335,3.8888888888888893,4.444444444444445,5.0],[0.0,0.5555555555555556,1.1111111111111112,1.6666666666666667,2.2222222222222223,2.7777777777777777,3.3333333333333335,3.8888888888888893,4.444444444444445,5.0],[0.0,0.5555555555555556,1.1111111111111112,1.6666666666666667,2.2222222222222223,2.7777777777777777,3.3333333333333335,3.8888888888888893,4.444444444444445,5.0],[0.0,0.5555555555555556,1.1111111111111112,1.6666666666666667,2.2222222222222223,2.7777777777777777,3.3333333333333335,3.8888888888888893,4.444444444444445,5.0],[0.0,0.5555555555555556,1.1111111111111112,1.6666666666666667,2.2222222222222223,2.7777777777777777,3.3333333333333335,3.8888888888888893,4.444444444444445,5.0],[0.0,0.5555555555555556,1.1111111111111112,1.6666666666666667,2.2222222222222223,2.7777777777777777,3.3333333333333335,3.8888888888888893,4.444444444444445,5.0],[0.0,0.5555555555555556,1.1111111111111112,1.6666666666666667,2.2222222222222223,2.7777777777777777,3.3333333333333335,3.8888888888888893,4.444444444444445,5.0],[0.0,0.5555555555555556,1.1111111111111112,1.6666666666666667,2.2222222222222223,2.7777777777777777,3.3333333333333335,3.8888888888888893,4.444444444444445,5.0],[0.0,0.5555555555555556,1.1111111111111112,1.6666666666666667,2.2222222222222223,2.7777777777777777,3.3333333333333335,3.8888888888888893,4.444444444444445,5.0],[0.0,0.5555555555555556,1.1111111111111112,1.6666666666666667,2.2222222222222223,2.7777777777777777,3.3333333333333335,3.8888888888888893,4.444444444444445,5.0]],\"z\":[[25.0,25.0,25.0,25.0,25.0,25.0,25.0,25.0,25.0,25.0],[30.555555555555557,30.555555555555557,30.555555555555557,30.555555555555557,30.555555555555557,30.555555555555557,30.555555555555557,30.555555555555557,30.555555555555557,30.555555555555557],[36.111111111111114,36.111111111111114,36.111111111111114,36.111111111111114,36.111111111111114,36.111111111111114,36.111111111111114,36.111111111111114,36.111111111111114,36.111111111111114],[41.666666666666664,41.666666666666664,41.666666666666664,41.666666666666664,41.666666666666664,41.666666666666664,41.666666666666664,41.666666666666664,41.666666666666664,41.666666666666664],[47.22222222222222,47.22222222222222,47.22222222222222,47.22222222222222,47.22222222222222,47.22222222222222,47.22222222222222,47.22222222222222,47.22222222222222,47.22222222222222],[52.77777777777778,52.77777777777778,52.77777777777778,52.77777777777778,52.77777777777778,52.77777777777778,52.77777777777778,52.77777777777778,52.77777777777778,52.77777777777778],[58.33333333333333,58.33333333333333,58.33333333333333,58.33333333333333,58.33333333333333,58.33333333333333,58.33333333333333,58.33333333333333,58.33333333333333,58.33333333333333],[63.888888888888886,63.888888888888886,63.888888888888886,63.888888888888886,63.888888888888886,63.888888888888886,63.888888888888886,63.888888888888886,63.888888888888886,63.888888888888886],[69.44444444444444,69.44444444444444,69.44444444444444,69.44444444444444,69.44444444444444,69.44444444444444,69.44444444444444,69.44444444444444,69.44444444444444,69.44444444444444],[75.0,75.0,75.0,75.0,75.0,75.0,75.0,75.0,75.0,75.0]],\"type\":\"surface\"}],                        {\"template\":{\"data\":{\"histogram2dcontour\":[{\"type\":\"histogram2dcontour\",\"colorbar\":{\"outlinewidth\":0,\"ticks\":\"\"},\"colorscale\":[[0.0,\"#0d0887\"],[0.1111111111111111,\"#46039f\"],[0.2222222222222222,\"#7201a8\"],[0.3333333333333333,\"#9c179e\"],[0.4444444444444444,\"#bd3786\"],[0.5555555555555556,\"#d8576b\"],[0.6666666666666666,\"#ed7953\"],[0.7777777777777778,\"#fb9f3a\"],[0.8888888888888888,\"#fdca26\"],[1.0,\"#f0f921\"]]}],\"choropleth\":[{\"type\":\"choropleth\",\"colorbar\":{\"outlinewidth\":0,\"ticks\":\"\"}}],\"histogram2d\":[{\"type\":\"histogram2d\",\"colorbar\":{\"outlinewidth\":0,\"ticks\":\"\"},\"colorscale\":[[0.0,\"#0d0887\"],[0.1111111111111111,\"#46039f\"],[0.2222222222222222,\"#7201a8\"],[0.3333333333333333,\"#9c179e\"],[0.4444444444444444,\"#bd3786\"],[0.5555555555555556,\"#d8576b\"],[0.6666666666666666,\"#ed7953\"],[0.7777777777777778,\"#fb9f3a\"],[0.8888888888888888,\"#fdca26\"],[1.0,\"#f0f921\"]]}],\"heatmap\":[{\"type\":\"heatmap\",\"colorbar\":{\"outlinewidth\":0,\"ticks\":\"\"},\"colorscale\":[[0.0,\"#0d0887\"],[0.1111111111111111,\"#46039f\"],[0.2222222222222222,\"#7201a8\"],[0.3333333333333333,\"#9c179e\"],[0.4444444444444444,\"#bd3786\"],[0.5555555555555556,\"#d8576b\"],[0.6666666666666666,\"#ed7953\"],[0.7777777777777778,\"#fb9f3a\"],[0.8888888888888888,\"#fdca26\"],[1.0,\"#f0f921\"]]}],\"heatmapgl\":[{\"type\":\"heatmapgl\",\"colorbar\":{\"outlinewidth\":0,\"ticks\":\"\"},\"colorscale\":[[0.0,\"#0d0887\"],[0.1111111111111111,\"#46039f\"],[0.2222222222222222,\"#7201a8\"],[0.3333333333333333,\"#9c179e\"],[0.4444444444444444,\"#bd3786\"],[0.5555555555555556,\"#d8576b\"],[0.6666666666666666,\"#ed7953\"],[0.7777777777777778,\"#fb9f3a\"],[0.8888888888888888,\"#fdca26\"],[1.0,\"#f0f921\"]]}],\"contourcarpet\":[{\"type\":\"contourcarpet\",\"colorbar\":{\"outlinewidth\":0,\"ticks\":\"\"}}],\"contour\":[{\"type\":\"contour\",\"colorbar\":{\"outlinewidth\":0,\"ticks\":\"\"},\"colorscale\":[[0.0,\"#0d0887\"],[0.1111111111111111,\"#46039f\"],[0.2222222222222222,\"#7201a8\"],[0.3333333333333333,\"#9c179e\"],[0.4444444444444444,\"#bd3786\"],[0.5555555555555556,\"#d8576b\"],[0.6666666666666666,\"#ed7953\"],[0.7777777777777778,\"#fb9f3a\"],[0.8888888888888888,\"#fdca26\"],[1.0,\"#f0f921\"]]}],\"surface\":[{\"type\":\"surface\",\"colorbar\":{\"outlinewidth\":0,\"ticks\":\"\"},\"colorscale\":[[0.0,\"#0d0887\"],[0.1111111111111111,\"#46039f\"],[0.2222222222222222,\"#7201a8\"],[0.3333333333333333,\"#9c179e\"],[0.4444444444444444,\"#bd3786\"],[0.5555555555555556,\"#d8576b\"],[0.6666666666666666,\"#ed7953\"],[0.7777777777777778,\"#fb9f3a\"],[0.8888888888888888,\"#fdca26\"],[1.0,\"#f0f921\"]]}],\"mesh3d\":[{\"type\":\"mesh3d\",\"colorbar\":{\"outlinewidth\":0,\"ticks\":\"\"}}],\"scatter\":[{\"fillpattern\":{\"fillmode\":\"overlay\",\"size\":10,\"solidity\":0.2},\"type\":\"scatter\"}],\"parcoords\":[{\"type\":\"parcoords\",\"line\":{\"colorbar\":{\"outlinewidth\":0,\"ticks\":\"\"}}}],\"scatterpolargl\":[{\"type\":\"scatterpolargl\",\"marker\":{\"colorbar\":{\"outlinewidth\":0,\"ticks\":\"\"}}}],\"bar\":[{\"error_x\":{\"color\":\"#2a3f5f\"},\"error_y\":{\"color\":\"#2a3f5f\"},\"marker\":{\"line\":{\"color\":\"#E5ECF6\",\"width\":0.5},\"pattern\":{\"fillmode\":\"overlay\",\"size\":10,\"solidity\":0.2}},\"type\":\"bar\"}],\"scattergeo\":[{\"type\":\"scattergeo\",\"marker\":{\"colorbar\":{\"outlinewidth\":0,\"ticks\":\"\"}}}],\"scatterpolar\":[{\"type\":\"scatterpolar\",\"marker\":{\"colorbar\":{\"outlinewidth\":0,\"ticks\":\"\"}}}],\"histogram\":[{\"marker\":{\"pattern\":{\"fillmode\":\"overlay\",\"size\":10,\"solidity\":0.2}},\"type\":\"histogram\"}],\"scattergl\":[{\"type\":\"scattergl\",\"marker\":{\"colorbar\":{\"outlinewidth\":0,\"ticks\":\"\"}}}],\"scatter3d\":[{\"type\":\"scatter3d\",\"line\":{\"colorbar\":{\"outlinewidth\":0,\"ticks\":\"\"}},\"marker\":{\"colorbar\":{\"outlinewidth\":0,\"ticks\":\"\"}}}],\"scattermapbox\":[{\"type\":\"scattermapbox\",\"marker\":{\"colorbar\":{\"outlinewidth\":0,\"ticks\":\"\"}}}],\"scatterternary\":[{\"type\":\"scatterternary\",\"marker\":{\"colorbar\":{\"outlinewidth\":0,\"ticks\":\"\"}}}],\"scattercarpet\":[{\"type\":\"scattercarpet\",\"marker\":{\"colorbar\":{\"outlinewidth\":0,\"ticks\":\"\"}}}],\"carpet\":[{\"aaxis\":{\"endlinecolor\":\"#2a3f5f\",\"gridcolor\":\"white\",\"linecolor\":\"white\",\"minorgridcolor\":\"white\",\"startlinecolor\":\"#2a3f5f\"},\"baxis\":{\"endlinecolor\":\"#2a3f5f\",\"gridcolor\":\"white\",\"linecolor\":\"white\",\"minorgridcolor\":\"white\",\"startlinecolor\":\"#2a3f5f\"},\"type\":\"carpet\"}],\"table\":[{\"cells\":{\"fill\":{\"color\":\"#EBF0F8\"},\"line\":{\"color\":\"white\"}},\"header\":{\"fill\":{\"color\":\"#C8D4E3\"},\"line\":{\"color\":\"white\"}},\"type\":\"table\"}],\"barpolar\":[{\"marker\":{\"line\":{\"color\":\"#E5ECF6\",\"width\":0.5},\"pattern\":{\"fillmode\":\"overlay\",\"size\":10,\"solidity\":0.2}},\"type\":\"barpolar\"}],\"pie\":[{\"automargin\":true,\"type\":\"pie\"}]},\"layout\":{\"autotypenumbers\":\"strict\",\"colorway\":[\"#636efa\",\"#EF553B\",\"#00cc96\",\"#ab63fa\",\"#FFA15A\",\"#19d3f3\",\"#FF6692\",\"#B6E880\",\"#FF97FF\",\"#FECB52\"],\"font\":{\"color\":\"#2a3f5f\"},\"hovermode\":\"closest\",\"hoverlabel\":{\"align\":\"left\"},\"paper_bgcolor\":\"white\",\"plot_bgcolor\":\"#E5ECF6\",\"polar\":{\"bgcolor\":\"#E5ECF6\",\"angularaxis\":{\"gridcolor\":\"white\",\"linecolor\":\"white\",\"ticks\":\"\"},\"radialaxis\":{\"gridcolor\":\"white\",\"linecolor\":\"white\",\"ticks\":\"\"}},\"ternary\":{\"bgcolor\":\"#E5ECF6\",\"aaxis\":{\"gridcolor\":\"white\",\"linecolor\":\"white\",\"ticks\":\"\"},\"baxis\":{\"gridcolor\":\"white\",\"linecolor\":\"white\",\"ticks\":\"\"},\"caxis\":{\"gridcolor\":\"white\",\"linecolor\":\"white\",\"ticks\":\"\"}},\"coloraxis\":{\"colorbar\":{\"outlinewidth\":0,\"ticks\":\"\"}},\"colorscale\":{\"sequential\":[[0.0,\"#0d0887\"],[0.1111111111111111,\"#46039f\"],[0.2222222222222222,\"#7201a8\"],[0.3333333333333333,\"#9c179e\"],[0.4444444444444444,\"#bd3786\"],[0.5555555555555556,\"#d8576b\"],[0.6666666666666666,\"#ed7953\"],[0.7777777777777778,\"#fb9f3a\"],[0.8888888888888888,\"#fdca26\"],[1.0,\"#f0f921\"]],\"sequentialminus\":[[0.0,\"#0d0887\"],[0.1111111111111111,\"#46039f\"],[0.2222222222222222,\"#7201a8\"],[0.3333333333333333,\"#9c179e\"],[0.4444444444444444,\"#bd3786\"],[0.5555555555555556,\"#d8576b\"],[0.6666666666666666,\"#ed7953\"],[0.7777777777777778,\"#fb9f3a\"],[0.8888888888888888,\"#fdca26\"],[1.0,\"#f0f921\"]],\"diverging\":[[0,\"#8e0152\"],[0.1,\"#c51b7d\"],[0.2,\"#de77ae\"],[0.3,\"#f1b6da\"],[0.4,\"#fde0ef\"],[0.5,\"#f7f7f7\"],[0.6,\"#e6f5d0\"],[0.7,\"#b8e186\"],[0.8,\"#7fbc41\"],[0.9,\"#4d9221\"],[1,\"#276419\"]]},\"xaxis\":{\"gridcolor\":\"white\",\"linecolor\":\"white\",\"ticks\":\"\",\"title\":{\"standoff\":15},\"zerolinecolor\":\"white\",\"automargin\":true,\"zerolinewidth\":2},\"yaxis\":{\"gridcolor\":\"white\",\"linecolor\":\"white\",\"ticks\":\"\",\"title\":{\"standoff\":15},\"zerolinecolor\":\"white\",\"automargin\":true,\"zerolinewidth\":2},\"scene\":{\"xaxis\":{\"backgroundcolor\":\"#E5ECF6\",\"gridcolor\":\"white\",\"linecolor\":\"white\",\"showbackground\":true,\"ticks\":\"\",\"zerolinecolor\":\"white\",\"gridwidth\":2},\"yaxis\":{\"backgroundcolor\":\"#E5ECF6\",\"gridcolor\":\"white\",\"linecolor\":\"white\",\"showbackground\":true,\"ticks\":\"\",\"zerolinecolor\":\"white\",\"gridwidth\":2},\"zaxis\":{\"backgroundcolor\":\"#E5ECF6\",\"gridcolor\":\"white\",\"linecolor\":\"white\",\"showbackground\":true,\"ticks\":\"\",\"zerolinecolor\":\"white\",\"gridwidth\":2}},\"shapedefaults\":{\"line\":{\"color\":\"#2a3f5f\"}},\"annotationdefaults\":{\"arrowcolor\":\"#2a3f5f\",\"arrowhead\":0,\"arrowwidth\":1},\"geo\":{\"bgcolor\":\"white\",\"landcolor\":\"#E5ECF6\",\"subunitcolor\":\"white\",\"showland\":true,\"showlakes\":true,\"lakecolor\":\"white\"},\"title\":{\"x\":0.05},\"mapbox\":{\"style\":\"light\"}}},\"scene\":{\"domain\":{\"x\":[0.0,1.0],\"y\":[0.0,1.0]},\"xaxis\":{\"title\":{\"text\":\"Poly Order\"}},\"yaxis\":{\"title\":{\"text\":\"Estimation Order\"}},\"zaxis\":{\"title\":{\"text\":\"Sample Size\"}},\"aspectratio\":{\"x\":1,\"y\":2,\"z\":1},\"camera\":{\"eye\":{\"x\":3,\"y\":2,\"z\":2}}},\"coloraxis\":{\"colorbar\":{\"title\":{\"text\":\"Median Test MSE\"}},\"colorscale\":[[0.0,\"rgb(0,104,55)\"],[0.1,\"rgb(26,152,80)\"],[0.2,\"rgb(102,189,99)\"],[0.3,\"rgb(166,217,106)\"],[0.4,\"rgb(217,239,139)\"],[0.5,\"rgb(255,255,191)\"],[0.6,\"rgb(254,224,139)\"],[0.7,\"rgb(253,174,97)\"],[0.8,\"rgb(244,109,67)\"],[0.9,\"rgb(215,48,39)\"],[1.0,\"rgb(165,0,38)\"]]},\"legend\":{\"tracegroupgap\":0,\"itemsizing\":\"constant\"},\"title\":{\"text\":\"Factors that impact Test Performance (Underfitting\\u002fOverfitting)\"},\"width\":1100,\"height\":800},                        {\"responsive\": true}                    ).then(function(){\n",
       "                            \n",
       "var gd = document.getElementById('7e17dde5-8598-4202-ac8d-a046c7a44567');\n",
       "var x = new MutationObserver(function (mutations, observer) {{\n",
       "        var display = window.getComputedStyle(gd).display;\n",
       "        if (!display || display === 'none') {{\n",
       "            console.log([gd, 'removed!']);\n",
       "            Plotly.purge(gd);\n",
       "            observer.disconnect();\n",
       "        }}\n",
       "}});\n",
       "\n",
       "// Listen for the removal of the full notebook cells\n",
       "var notebookContainer = gd.closest('#notebook-container');\n",
       "if (notebookContainer) {{\n",
       "    x.observe(notebookContainer, {childList: true});\n",
       "}}\n",
       "\n",
       "// Listen for the clearing of the current output cell\n",
       "var outputEl = gd.closest('.output');\n",
       "if (outputEl) {{\n",
       "    x.observe(outputEl, {childList: true});\n",
       "}}\n",
       "\n",
       "                        })                };                });            </script>        </div>"
      ]
     },
     "metadata": {},
     "output_type": "display_data"
    }
   ],
   "source": [
    "plot_3d_results(results, 'avg_test_MSE' , 'Median Test MSE', 'Factors that impact Test Performance (Underfitting/Overfitting)')"
   ]
  },
  {
   "cell_type": "code",
   "execution_count": 28,
   "metadata": {},
   "outputs": [
    {
     "data": {
      "application/vnd.plotly.v1+json": {
       "config": {
        "plotlyServerURL": "https://plot.ly"
       },
       "data": [
        {
         "hovertemplate": "Poly Order=%{x}<br>Estimation Order=%{y}<br>Sample Size=%{z}<br>Median Log(Out of Distribution MSE)=%{marker.color}<extra></extra>",
         "legendgroup": "",
         "marker": {
          "color": [
           2.2361002080347716,
           2.2154047559304506,
           2.2006780719510832,
           2.400842086726659,
           2.323979642225031,
           2.281434742483058,
           2.8827997194346926,
           2.5965334785740644,
           2.48197351443943,
           4.339041764649751,
           3.846423489965969,
           3.6612226255156313,
           3.432207976304025,
           3.465104592204379,
           3.466183332273326,
           2.4589931509432312,
           2.3193915349548337,
           2.2769237379893212,
           2.793805805295951,
           2.586016538331002,
           2.5256227112368523,
           4.297253508330582,
           3.76936585976489,
           3.5969911465342777,
           3.1713266712120034,
           3.2036272303586646,
           3.2286876501876476,
           3.328816707729597,
           3.3539571751837784,
           3.406541523398647,
           2.801902930987778,
           2.605615618791271,
           2.451270414752616,
           4.29916257992112,
           3.827450733737654,
           3.717984613400661,
           3.010914123212474,
           3.043919833764088,
           3.0982291460940328,
           3.2506391856369743,
           3.2994842691707125,
           3.3113468608038525,
           3.344518826185227,
           3.277323682034216,
           3.2767950774529324,
           4.2606126707254175,
           3.84367703865399,
           3.5894632664234516
          ],
          "coloraxis": "coloraxis",
          "opacity": 0.8,
          "size": [
           2.2361002080347716,
           2.2154047559304506,
           2.2006780719510832,
           2.400842086726659,
           2.323979642225031,
           2.281434742483058,
           2.8827997194346926,
           2.5965334785740644,
           2.48197351443943,
           4.339041764649751,
           3.846423489965969,
           3.6612226255156313,
           3.432207976304025,
           3.465104592204379,
           3.466183332273326,
           2.4589931509432312,
           2.3193915349548337,
           2.2769237379893212,
           2.793805805295951,
           2.586016538331002,
           2.5256227112368523,
           4.297253508330582,
           3.76936585976489,
           3.5969911465342777,
           3.1713266712120034,
           3.2036272303586646,
           3.2286876501876476,
           3.328816707729597,
           3.3539571751837784,
           3.406541523398647,
           2.801902930987778,
           2.605615618791271,
           2.451270414752616,
           4.29916257992112,
           3.827450733737654,
           3.717984613400661,
           3.010914123212474,
           3.043919833764088,
           3.0982291460940328,
           3.2506391856369743,
           3.2994842691707125,
           3.3113468608038525,
           3.344518826185227,
           3.277323682034216,
           3.2767950774529324,
           4.2606126707254175,
           3.84367703865399,
           3.5894632664234516
          ],
          "sizemode": "area",
          "sizeref": 0.010847604411624379,
          "symbol": "circle"
         },
         "mode": "markers",
         "name": "",
         "scene": "scene",
         "showlegend": false,
         "type": "scatter3d",
         "x": [
          1,
          1,
          1,
          1,
          1,
          1,
          1,
          1,
          1,
          1,
          1,
          1,
          2,
          2,
          2,
          2,
          2,
          2,
          2,
          2,
          2,
          2,
          2,
          2,
          3,
          3,
          3,
          3,
          3,
          3,
          3,
          3,
          3,
          3,
          3,
          3,
          5,
          5,
          5,
          5,
          5,
          5,
          5,
          5,
          5,
          5,
          5,
          5
         ],
         "y": [
          1,
          1,
          1,
          2,
          2,
          2,
          3,
          3,
          3,
          5,
          5,
          5,
          1,
          1,
          1,
          2,
          2,
          2,
          3,
          3,
          3,
          5,
          5,
          5,
          1,
          1,
          1,
          2,
          2,
          2,
          3,
          3,
          3,
          5,
          5,
          5,
          1,
          1,
          1,
          2,
          2,
          2,
          3,
          3,
          3,
          5,
          5,
          5
         ],
         "z": [
          25,
          50,
          75,
          25,
          50,
          75,
          25,
          50,
          75,
          25,
          50,
          75,
          25,
          50,
          75,
          25,
          50,
          75,
          25,
          50,
          75,
          25,
          50,
          75,
          25,
          50,
          75,
          25,
          50,
          75,
          25,
          50,
          75,
          25,
          50,
          75,
          25,
          50,
          75,
          25,
          50,
          75,
          25,
          50,
          75,
          25,
          50,
          75
         ]
        },
        {
         "colorscale": [
          [
           0,
           "green"
          ],
          [
           1,
           "green"
          ]
         ],
         "hoverinfo": "skip",
         "name": "Properly Specified Estimators",
         "opacity": 0.2,
         "showscale": false,
         "type": "surface",
         "x": [
          [
           0,
           0.5555555555555556,
           1.1111111111111112,
           1.6666666666666667,
           2.2222222222222223,
           2.7777777777777777,
           3.3333333333333335,
           3.8888888888888893,
           4.444444444444445,
           5
          ],
          [
           0,
           0.5555555555555556,
           1.1111111111111112,
           1.6666666666666667,
           2.2222222222222223,
           2.7777777777777777,
           3.3333333333333335,
           3.8888888888888893,
           4.444444444444445,
           5
          ],
          [
           0,
           0.5555555555555556,
           1.1111111111111112,
           1.6666666666666667,
           2.2222222222222223,
           2.7777777777777777,
           3.3333333333333335,
           3.8888888888888893,
           4.444444444444445,
           5
          ],
          [
           0,
           0.5555555555555556,
           1.1111111111111112,
           1.6666666666666667,
           2.2222222222222223,
           2.7777777777777777,
           3.3333333333333335,
           3.8888888888888893,
           4.444444444444445,
           5
          ],
          [
           0,
           0.5555555555555556,
           1.1111111111111112,
           1.6666666666666667,
           2.2222222222222223,
           2.7777777777777777,
           3.3333333333333335,
           3.8888888888888893,
           4.444444444444445,
           5
          ],
          [
           0,
           0.5555555555555556,
           1.1111111111111112,
           1.6666666666666667,
           2.2222222222222223,
           2.7777777777777777,
           3.3333333333333335,
           3.8888888888888893,
           4.444444444444445,
           5
          ],
          [
           0,
           0.5555555555555556,
           1.1111111111111112,
           1.6666666666666667,
           2.2222222222222223,
           2.7777777777777777,
           3.3333333333333335,
           3.8888888888888893,
           4.444444444444445,
           5
          ],
          [
           0,
           0.5555555555555556,
           1.1111111111111112,
           1.6666666666666667,
           2.2222222222222223,
           2.7777777777777777,
           3.3333333333333335,
           3.8888888888888893,
           4.444444444444445,
           5
          ],
          [
           0,
           0.5555555555555556,
           1.1111111111111112,
           1.6666666666666667,
           2.2222222222222223,
           2.7777777777777777,
           3.3333333333333335,
           3.8888888888888893,
           4.444444444444445,
           5
          ],
          [
           0,
           0.5555555555555556,
           1.1111111111111112,
           1.6666666666666667,
           2.2222222222222223,
           2.7777777777777777,
           3.3333333333333335,
           3.8888888888888893,
           4.444444444444445,
           5
          ]
         ],
         "y": [
          [
           0,
           0.5555555555555556,
           1.1111111111111112,
           1.6666666666666667,
           2.2222222222222223,
           2.7777777777777777,
           3.3333333333333335,
           3.8888888888888893,
           4.444444444444445,
           5
          ],
          [
           0,
           0.5555555555555556,
           1.1111111111111112,
           1.6666666666666667,
           2.2222222222222223,
           2.7777777777777777,
           3.3333333333333335,
           3.8888888888888893,
           4.444444444444445,
           5
          ],
          [
           0,
           0.5555555555555556,
           1.1111111111111112,
           1.6666666666666667,
           2.2222222222222223,
           2.7777777777777777,
           3.3333333333333335,
           3.8888888888888893,
           4.444444444444445,
           5
          ],
          [
           0,
           0.5555555555555556,
           1.1111111111111112,
           1.6666666666666667,
           2.2222222222222223,
           2.7777777777777777,
           3.3333333333333335,
           3.8888888888888893,
           4.444444444444445,
           5
          ],
          [
           0,
           0.5555555555555556,
           1.1111111111111112,
           1.6666666666666667,
           2.2222222222222223,
           2.7777777777777777,
           3.3333333333333335,
           3.8888888888888893,
           4.444444444444445,
           5
          ],
          [
           0,
           0.5555555555555556,
           1.1111111111111112,
           1.6666666666666667,
           2.2222222222222223,
           2.7777777777777777,
           3.3333333333333335,
           3.8888888888888893,
           4.444444444444445,
           5
          ],
          [
           0,
           0.5555555555555556,
           1.1111111111111112,
           1.6666666666666667,
           2.2222222222222223,
           2.7777777777777777,
           3.3333333333333335,
           3.8888888888888893,
           4.444444444444445,
           5
          ],
          [
           0,
           0.5555555555555556,
           1.1111111111111112,
           1.6666666666666667,
           2.2222222222222223,
           2.7777777777777777,
           3.3333333333333335,
           3.8888888888888893,
           4.444444444444445,
           5
          ],
          [
           0,
           0.5555555555555556,
           1.1111111111111112,
           1.6666666666666667,
           2.2222222222222223,
           2.7777777777777777,
           3.3333333333333335,
           3.8888888888888893,
           4.444444444444445,
           5
          ],
          [
           0,
           0.5555555555555556,
           1.1111111111111112,
           1.6666666666666667,
           2.2222222222222223,
           2.7777777777777777,
           3.3333333333333335,
           3.8888888888888893,
           4.444444444444445,
           5
          ]
         ],
         "z": [
          [
           25,
           25,
           25,
           25,
           25,
           25,
           25,
           25,
           25,
           25
          ],
          [
           30.555555555555557,
           30.555555555555557,
           30.555555555555557,
           30.555555555555557,
           30.555555555555557,
           30.555555555555557,
           30.555555555555557,
           30.555555555555557,
           30.555555555555557,
           30.555555555555557
          ],
          [
           36.111111111111114,
           36.111111111111114,
           36.111111111111114,
           36.111111111111114,
           36.111111111111114,
           36.111111111111114,
           36.111111111111114,
           36.111111111111114,
           36.111111111111114,
           36.111111111111114
          ],
          [
           41.666666666666664,
           41.666666666666664,
           41.666666666666664,
           41.666666666666664,
           41.666666666666664,
           41.666666666666664,
           41.666666666666664,
           41.666666666666664,
           41.666666666666664,
           41.666666666666664
          ],
          [
           47.22222222222222,
           47.22222222222222,
           47.22222222222222,
           47.22222222222222,
           47.22222222222222,
           47.22222222222222,
           47.22222222222222,
           47.22222222222222,
           47.22222222222222,
           47.22222222222222
          ],
          [
           52.77777777777778,
           52.77777777777778,
           52.77777777777778,
           52.77777777777778,
           52.77777777777778,
           52.77777777777778,
           52.77777777777778,
           52.77777777777778,
           52.77777777777778,
           52.77777777777778
          ],
          [
           58.33333333333333,
           58.33333333333333,
           58.33333333333333,
           58.33333333333333,
           58.33333333333333,
           58.33333333333333,
           58.33333333333333,
           58.33333333333333,
           58.33333333333333,
           58.33333333333333
          ],
          [
           63.888888888888886,
           63.888888888888886,
           63.888888888888886,
           63.888888888888886,
           63.888888888888886,
           63.888888888888886,
           63.888888888888886,
           63.888888888888886,
           63.888888888888886,
           63.888888888888886
          ],
          [
           69.44444444444444,
           69.44444444444444,
           69.44444444444444,
           69.44444444444444,
           69.44444444444444,
           69.44444444444444,
           69.44444444444444,
           69.44444444444444,
           69.44444444444444,
           69.44444444444444
          ],
          [
           75,
           75,
           75,
           75,
           75,
           75,
           75,
           75,
           75,
           75
          ]
         ]
        }
       ],
       "layout": {
        "coloraxis": {
         "colorbar": {
          "title": {
           "text": "Median Log(Out of Distribution MSE)"
          }
         },
         "colorscale": [
          [
           0,
           "rgb(0,104,55)"
          ],
          [
           0.1,
           "rgb(26,152,80)"
          ],
          [
           0.2,
           "rgb(102,189,99)"
          ],
          [
           0.3,
           "rgb(166,217,106)"
          ],
          [
           0.4,
           "rgb(217,239,139)"
          ],
          [
           0.5,
           "rgb(255,255,191)"
          ],
          [
           0.6,
           "rgb(254,224,139)"
          ],
          [
           0.7,
           "rgb(253,174,97)"
          ],
          [
           0.8,
           "rgb(244,109,67)"
          ],
          [
           0.9,
           "rgb(215,48,39)"
          ],
          [
           1,
           "rgb(165,0,38)"
          ]
         ]
        },
        "height": 800,
        "legend": {
         "itemsizing": "constant",
         "tracegroupgap": 0
        },
        "scene": {
         "aspectratio": {
          "x": 1,
          "y": 1,
          "z": 1
         },
         "camera": {
          "eye": {
           "x": 3,
           "y": 2,
           "z": 2
          }
         },
         "domain": {
          "x": [
           0,
           1
          ],
          "y": [
           0,
           1
          ]
         },
         "xaxis": {
          "title": {
           "text": "Poly Order"
          }
         },
         "yaxis": {
          "title": {
           "text": "Estimation Order"
          }
         },
         "zaxis": {
          "title": {
           "text": "Sample Size"
          }
         }
        },
        "template": {
         "data": {
          "bar": [
           {
            "error_x": {
             "color": "#2a3f5f"
            },
            "error_y": {
             "color": "#2a3f5f"
            },
            "marker": {
             "line": {
              "color": "#E5ECF6",
              "width": 0.5
             },
             "pattern": {
              "fillmode": "overlay",
              "size": 10,
              "solidity": 0.2
             }
            },
            "type": "bar"
           }
          ],
          "barpolar": [
           {
            "marker": {
             "line": {
              "color": "#E5ECF6",
              "width": 0.5
             },
             "pattern": {
              "fillmode": "overlay",
              "size": 10,
              "solidity": 0.2
             }
            },
            "type": "barpolar"
           }
          ],
          "carpet": [
           {
            "aaxis": {
             "endlinecolor": "#2a3f5f",
             "gridcolor": "white",
             "linecolor": "white",
             "minorgridcolor": "white",
             "startlinecolor": "#2a3f5f"
            },
            "baxis": {
             "endlinecolor": "#2a3f5f",
             "gridcolor": "white",
             "linecolor": "white",
             "minorgridcolor": "white",
             "startlinecolor": "#2a3f5f"
            },
            "type": "carpet"
           }
          ],
          "choropleth": [
           {
            "colorbar": {
             "outlinewidth": 0,
             "ticks": ""
            },
            "type": "choropleth"
           }
          ],
          "contour": [
           {
            "colorbar": {
             "outlinewidth": 0,
             "ticks": ""
            },
            "colorscale": [
             [
              0,
              "#0d0887"
             ],
             [
              0.1111111111111111,
              "#46039f"
             ],
             [
              0.2222222222222222,
              "#7201a8"
             ],
             [
              0.3333333333333333,
              "#9c179e"
             ],
             [
              0.4444444444444444,
              "#bd3786"
             ],
             [
              0.5555555555555556,
              "#d8576b"
             ],
             [
              0.6666666666666666,
              "#ed7953"
             ],
             [
              0.7777777777777778,
              "#fb9f3a"
             ],
             [
              0.8888888888888888,
              "#fdca26"
             ],
             [
              1,
              "#f0f921"
             ]
            ],
            "type": "contour"
           }
          ],
          "contourcarpet": [
           {
            "colorbar": {
             "outlinewidth": 0,
             "ticks": ""
            },
            "type": "contourcarpet"
           }
          ],
          "heatmap": [
           {
            "colorbar": {
             "outlinewidth": 0,
             "ticks": ""
            },
            "colorscale": [
             [
              0,
              "#0d0887"
             ],
             [
              0.1111111111111111,
              "#46039f"
             ],
             [
              0.2222222222222222,
              "#7201a8"
             ],
             [
              0.3333333333333333,
              "#9c179e"
             ],
             [
              0.4444444444444444,
              "#bd3786"
             ],
             [
              0.5555555555555556,
              "#d8576b"
             ],
             [
              0.6666666666666666,
              "#ed7953"
             ],
             [
              0.7777777777777778,
              "#fb9f3a"
             ],
             [
              0.8888888888888888,
              "#fdca26"
             ],
             [
              1,
              "#f0f921"
             ]
            ],
            "type": "heatmap"
           }
          ],
          "heatmapgl": [
           {
            "colorbar": {
             "outlinewidth": 0,
             "ticks": ""
            },
            "colorscale": [
             [
              0,
              "#0d0887"
             ],
             [
              0.1111111111111111,
              "#46039f"
             ],
             [
              0.2222222222222222,
              "#7201a8"
             ],
             [
              0.3333333333333333,
              "#9c179e"
             ],
             [
              0.4444444444444444,
              "#bd3786"
             ],
             [
              0.5555555555555556,
              "#d8576b"
             ],
             [
              0.6666666666666666,
              "#ed7953"
             ],
             [
              0.7777777777777778,
              "#fb9f3a"
             ],
             [
              0.8888888888888888,
              "#fdca26"
             ],
             [
              1,
              "#f0f921"
             ]
            ],
            "type": "heatmapgl"
           }
          ],
          "histogram": [
           {
            "marker": {
             "pattern": {
              "fillmode": "overlay",
              "size": 10,
              "solidity": 0.2
             }
            },
            "type": "histogram"
           }
          ],
          "histogram2d": [
           {
            "colorbar": {
             "outlinewidth": 0,
             "ticks": ""
            },
            "colorscale": [
             [
              0,
              "#0d0887"
             ],
             [
              0.1111111111111111,
              "#46039f"
             ],
             [
              0.2222222222222222,
              "#7201a8"
             ],
             [
              0.3333333333333333,
              "#9c179e"
             ],
             [
              0.4444444444444444,
              "#bd3786"
             ],
             [
              0.5555555555555556,
              "#d8576b"
             ],
             [
              0.6666666666666666,
              "#ed7953"
             ],
             [
              0.7777777777777778,
              "#fb9f3a"
             ],
             [
              0.8888888888888888,
              "#fdca26"
             ],
             [
              1,
              "#f0f921"
             ]
            ],
            "type": "histogram2d"
           }
          ],
          "histogram2dcontour": [
           {
            "colorbar": {
             "outlinewidth": 0,
             "ticks": ""
            },
            "colorscale": [
             [
              0,
              "#0d0887"
             ],
             [
              0.1111111111111111,
              "#46039f"
             ],
             [
              0.2222222222222222,
              "#7201a8"
             ],
             [
              0.3333333333333333,
              "#9c179e"
             ],
             [
              0.4444444444444444,
              "#bd3786"
             ],
             [
              0.5555555555555556,
              "#d8576b"
             ],
             [
              0.6666666666666666,
              "#ed7953"
             ],
             [
              0.7777777777777778,
              "#fb9f3a"
             ],
             [
              0.8888888888888888,
              "#fdca26"
             ],
             [
              1,
              "#f0f921"
             ]
            ],
            "type": "histogram2dcontour"
           }
          ],
          "mesh3d": [
           {
            "colorbar": {
             "outlinewidth": 0,
             "ticks": ""
            },
            "type": "mesh3d"
           }
          ],
          "parcoords": [
           {
            "line": {
             "colorbar": {
              "outlinewidth": 0,
              "ticks": ""
             }
            },
            "type": "parcoords"
           }
          ],
          "pie": [
           {
            "automargin": true,
            "type": "pie"
           }
          ],
          "scatter": [
           {
            "fillpattern": {
             "fillmode": "overlay",
             "size": 10,
             "solidity": 0.2
            },
            "type": "scatter"
           }
          ],
          "scatter3d": [
           {
            "line": {
             "colorbar": {
              "outlinewidth": 0,
              "ticks": ""
             }
            },
            "marker": {
             "colorbar": {
              "outlinewidth": 0,
              "ticks": ""
             }
            },
            "type": "scatter3d"
           }
          ],
          "scattercarpet": [
           {
            "marker": {
             "colorbar": {
              "outlinewidth": 0,
              "ticks": ""
             }
            },
            "type": "scattercarpet"
           }
          ],
          "scattergeo": [
           {
            "marker": {
             "colorbar": {
              "outlinewidth": 0,
              "ticks": ""
             }
            },
            "type": "scattergeo"
           }
          ],
          "scattergl": [
           {
            "marker": {
             "colorbar": {
              "outlinewidth": 0,
              "ticks": ""
             }
            },
            "type": "scattergl"
           }
          ],
          "scattermapbox": [
           {
            "marker": {
             "colorbar": {
              "outlinewidth": 0,
              "ticks": ""
             }
            },
            "type": "scattermapbox"
           }
          ],
          "scatterpolar": [
           {
            "marker": {
             "colorbar": {
              "outlinewidth": 0,
              "ticks": ""
             }
            },
            "type": "scatterpolar"
           }
          ],
          "scatterpolargl": [
           {
            "marker": {
             "colorbar": {
              "outlinewidth": 0,
              "ticks": ""
             }
            },
            "type": "scatterpolargl"
           }
          ],
          "scatterternary": [
           {
            "marker": {
             "colorbar": {
              "outlinewidth": 0,
              "ticks": ""
             }
            },
            "type": "scatterternary"
           }
          ],
          "surface": [
           {
            "colorbar": {
             "outlinewidth": 0,
             "ticks": ""
            },
            "colorscale": [
             [
              0,
              "#0d0887"
             ],
             [
              0.1111111111111111,
              "#46039f"
             ],
             [
              0.2222222222222222,
              "#7201a8"
             ],
             [
              0.3333333333333333,
              "#9c179e"
             ],
             [
              0.4444444444444444,
              "#bd3786"
             ],
             [
              0.5555555555555556,
              "#d8576b"
             ],
             [
              0.6666666666666666,
              "#ed7953"
             ],
             [
              0.7777777777777778,
              "#fb9f3a"
             ],
             [
              0.8888888888888888,
              "#fdca26"
             ],
             [
              1,
              "#f0f921"
             ]
            ],
            "type": "surface"
           }
          ],
          "table": [
           {
            "cells": {
             "fill": {
              "color": "#EBF0F8"
             },
             "line": {
              "color": "white"
             }
            },
            "header": {
             "fill": {
              "color": "#C8D4E3"
             },
             "line": {
              "color": "white"
             }
            },
            "type": "table"
           }
          ]
         },
         "layout": {
          "annotationdefaults": {
           "arrowcolor": "#2a3f5f",
           "arrowhead": 0,
           "arrowwidth": 1
          },
          "autotypenumbers": "strict",
          "coloraxis": {
           "colorbar": {
            "outlinewidth": 0,
            "ticks": ""
           }
          },
          "colorscale": {
           "diverging": [
            [
             0,
             "#8e0152"
            ],
            [
             0.1,
             "#c51b7d"
            ],
            [
             0.2,
             "#de77ae"
            ],
            [
             0.3,
             "#f1b6da"
            ],
            [
             0.4,
             "#fde0ef"
            ],
            [
             0.5,
             "#f7f7f7"
            ],
            [
             0.6,
             "#e6f5d0"
            ],
            [
             0.7,
             "#b8e186"
            ],
            [
             0.8,
             "#7fbc41"
            ],
            [
             0.9,
             "#4d9221"
            ],
            [
             1,
             "#276419"
            ]
           ],
           "sequential": [
            [
             0,
             "#0d0887"
            ],
            [
             0.1111111111111111,
             "#46039f"
            ],
            [
             0.2222222222222222,
             "#7201a8"
            ],
            [
             0.3333333333333333,
             "#9c179e"
            ],
            [
             0.4444444444444444,
             "#bd3786"
            ],
            [
             0.5555555555555556,
             "#d8576b"
            ],
            [
             0.6666666666666666,
             "#ed7953"
            ],
            [
             0.7777777777777778,
             "#fb9f3a"
            ],
            [
             0.8888888888888888,
             "#fdca26"
            ],
            [
             1,
             "#f0f921"
            ]
           ],
           "sequentialminus": [
            [
             0,
             "#0d0887"
            ],
            [
             0.1111111111111111,
             "#46039f"
            ],
            [
             0.2222222222222222,
             "#7201a8"
            ],
            [
             0.3333333333333333,
             "#9c179e"
            ],
            [
             0.4444444444444444,
             "#bd3786"
            ],
            [
             0.5555555555555556,
             "#d8576b"
            ],
            [
             0.6666666666666666,
             "#ed7953"
            ],
            [
             0.7777777777777778,
             "#fb9f3a"
            ],
            [
             0.8888888888888888,
             "#fdca26"
            ],
            [
             1,
             "#f0f921"
            ]
           ]
          },
          "colorway": [
           "#636efa",
           "#EF553B",
           "#00cc96",
           "#ab63fa",
           "#FFA15A",
           "#19d3f3",
           "#FF6692",
           "#B6E880",
           "#FF97FF",
           "#FECB52"
          ],
          "font": {
           "color": "#2a3f5f"
          },
          "geo": {
           "bgcolor": "white",
           "lakecolor": "white",
           "landcolor": "#E5ECF6",
           "showlakes": true,
           "showland": true,
           "subunitcolor": "white"
          },
          "hoverlabel": {
           "align": "left"
          },
          "hovermode": "closest",
          "mapbox": {
           "style": "light"
          },
          "paper_bgcolor": "white",
          "plot_bgcolor": "#E5ECF6",
          "polar": {
           "angularaxis": {
            "gridcolor": "white",
            "linecolor": "white",
            "ticks": ""
           },
           "bgcolor": "#E5ECF6",
           "radialaxis": {
            "gridcolor": "white",
            "linecolor": "white",
            "ticks": ""
           }
          },
          "scene": {
           "xaxis": {
            "backgroundcolor": "#E5ECF6",
            "gridcolor": "white",
            "gridwidth": 2,
            "linecolor": "white",
            "showbackground": true,
            "ticks": "",
            "zerolinecolor": "white"
           },
           "yaxis": {
            "backgroundcolor": "#E5ECF6",
            "gridcolor": "white",
            "gridwidth": 2,
            "linecolor": "white",
            "showbackground": true,
            "ticks": "",
            "zerolinecolor": "white"
           },
           "zaxis": {
            "backgroundcolor": "#E5ECF6",
            "gridcolor": "white",
            "gridwidth": 2,
            "linecolor": "white",
            "showbackground": true,
            "ticks": "",
            "zerolinecolor": "white"
           }
          },
          "shapedefaults": {
           "line": {
            "color": "#2a3f5f"
           }
          },
          "ternary": {
           "aaxis": {
            "gridcolor": "white",
            "linecolor": "white",
            "ticks": ""
           },
           "baxis": {
            "gridcolor": "white",
            "linecolor": "white",
            "ticks": ""
           },
           "bgcolor": "#E5ECF6",
           "caxis": {
            "gridcolor": "white",
            "linecolor": "white",
            "ticks": ""
           }
          },
          "title": {
           "x": 0.05
          },
          "xaxis": {
           "automargin": true,
           "gridcolor": "white",
           "linecolor": "white",
           "ticks": "",
           "title": {
            "standoff": 15
           },
           "zerolinecolor": "white",
           "zerolinewidth": 2
          },
          "yaxis": {
           "automargin": true,
           "gridcolor": "white",
           "linecolor": "white",
           "ticks": "",
           "title": {
            "standoff": 15
           },
           "zerolinecolor": "white",
           "zerolinewidth": 2
          }
         }
        },
        "title": {
         "text": "Factors that impact Out of Distribution Performance (Generalizability)"
        },
        "width": 1100
       }
      },
      "text/html": [
       "<div>                            <div id=\"6013191f-142e-46d0-84c2-77e76b8d1f75\" class=\"plotly-graph-div\" style=\"height:800px; width:1100px;\"></div>            <script type=\"text/javascript\">                require([\"plotly\"], function(Plotly) {                    window.PLOTLYENV=window.PLOTLYENV || {};                                    if (document.getElementById(\"6013191f-142e-46d0-84c2-77e76b8d1f75\")) {                    Plotly.newPlot(                        \"6013191f-142e-46d0-84c2-77e76b8d1f75\",                        [{\"hovertemplate\":\"Poly Order=%{x}\\u003cbr\\u003eEstimation Order=%{y}\\u003cbr\\u003eSample Size=%{z}\\u003cbr\\u003eMedian Log(Out of Distribution MSE)=%{marker.color}\\u003cextra\\u003e\\u003c\\u002fextra\\u003e\",\"legendgroup\":\"\",\"marker\":{\"color\":[2.2361002080347716,2.2154047559304506,2.2006780719510832,2.400842086726659,2.323979642225031,2.281434742483058,2.8827997194346926,2.5965334785740644,2.48197351443943,4.339041764649751,3.846423489965969,3.6612226255156313,3.432207976304025,3.465104592204379,3.466183332273326,2.4589931509432312,2.3193915349548337,2.2769237379893212,2.793805805295951,2.586016538331002,2.5256227112368523,4.297253508330582,3.76936585976489,3.5969911465342777,3.1713266712120034,3.2036272303586646,3.2286876501876476,3.328816707729597,3.3539571751837784,3.406541523398647,2.801902930987778,2.605615618791271,2.451270414752616,4.29916257992112,3.827450733737654,3.717984613400661,3.010914123212474,3.043919833764088,3.0982291460940328,3.2506391856369743,3.2994842691707125,3.3113468608038525,3.344518826185227,3.277323682034216,3.2767950774529324,4.2606126707254175,3.84367703865399,3.5894632664234516],\"coloraxis\":\"coloraxis\",\"size\":[2.2361002080347716,2.2154047559304506,2.2006780719510832,2.400842086726659,2.323979642225031,2.281434742483058,2.8827997194346926,2.5965334785740644,2.48197351443943,4.339041764649751,3.846423489965969,3.6612226255156313,3.432207976304025,3.465104592204379,3.466183332273326,2.4589931509432312,2.3193915349548337,2.2769237379893212,2.793805805295951,2.586016538331002,2.5256227112368523,4.297253508330582,3.76936585976489,3.5969911465342777,3.1713266712120034,3.2036272303586646,3.2286876501876476,3.328816707729597,3.3539571751837784,3.406541523398647,2.801902930987778,2.605615618791271,2.451270414752616,4.29916257992112,3.827450733737654,3.717984613400661,3.010914123212474,3.043919833764088,3.0982291460940328,3.2506391856369743,3.2994842691707125,3.3113468608038525,3.344518826185227,3.277323682034216,3.2767950774529324,4.2606126707254175,3.84367703865399,3.5894632664234516],\"sizemode\":\"area\",\"sizeref\":0.010847604411624379,\"symbol\":\"circle\",\"opacity\":0.8},\"mode\":\"markers\",\"name\":\"\",\"scene\":\"scene\",\"showlegend\":false,\"x\":[1,1,1,1,1,1,1,1,1,1,1,1,2,2,2,2,2,2,2,2,2,2,2,2,3,3,3,3,3,3,3,3,3,3,3,3,5,5,5,5,5,5,5,5,5,5,5,5],\"y\":[1,1,1,2,2,2,3,3,3,5,5,5,1,1,1,2,2,2,3,3,3,5,5,5,1,1,1,2,2,2,3,3,3,5,5,5,1,1,1,2,2,2,3,3,3,5,5,5],\"z\":[25,50,75,25,50,75,25,50,75,25,50,75,25,50,75,25,50,75,25,50,75,25,50,75,25,50,75,25,50,75,25,50,75,25,50,75,25,50,75,25,50,75,25,50,75,25,50,75],\"type\":\"scatter3d\"},{\"colorscale\":[[0,\"green\"],[1,\"green\"]],\"hoverinfo\":\"skip\",\"name\":\"Properly Specified Estimators\",\"opacity\":0.2,\"showscale\":false,\"x\":[[0.0,0.5555555555555556,1.1111111111111112,1.6666666666666667,2.2222222222222223,2.7777777777777777,3.3333333333333335,3.8888888888888893,4.444444444444445,5.0],[0.0,0.5555555555555556,1.1111111111111112,1.6666666666666667,2.2222222222222223,2.7777777777777777,3.3333333333333335,3.8888888888888893,4.444444444444445,5.0],[0.0,0.5555555555555556,1.1111111111111112,1.6666666666666667,2.2222222222222223,2.7777777777777777,3.3333333333333335,3.8888888888888893,4.444444444444445,5.0],[0.0,0.5555555555555556,1.1111111111111112,1.6666666666666667,2.2222222222222223,2.7777777777777777,3.3333333333333335,3.8888888888888893,4.444444444444445,5.0],[0.0,0.5555555555555556,1.1111111111111112,1.6666666666666667,2.2222222222222223,2.7777777777777777,3.3333333333333335,3.8888888888888893,4.444444444444445,5.0],[0.0,0.5555555555555556,1.1111111111111112,1.6666666666666667,2.2222222222222223,2.7777777777777777,3.3333333333333335,3.8888888888888893,4.444444444444445,5.0],[0.0,0.5555555555555556,1.1111111111111112,1.6666666666666667,2.2222222222222223,2.7777777777777777,3.3333333333333335,3.8888888888888893,4.444444444444445,5.0],[0.0,0.5555555555555556,1.1111111111111112,1.6666666666666667,2.2222222222222223,2.7777777777777777,3.3333333333333335,3.8888888888888893,4.444444444444445,5.0],[0.0,0.5555555555555556,1.1111111111111112,1.6666666666666667,2.2222222222222223,2.7777777777777777,3.3333333333333335,3.8888888888888893,4.444444444444445,5.0],[0.0,0.5555555555555556,1.1111111111111112,1.6666666666666667,2.2222222222222223,2.7777777777777777,3.3333333333333335,3.8888888888888893,4.444444444444445,5.0]],\"y\":[[0.0,0.5555555555555556,1.1111111111111112,1.6666666666666667,2.2222222222222223,2.7777777777777777,3.3333333333333335,3.8888888888888893,4.444444444444445,5.0],[0.0,0.5555555555555556,1.1111111111111112,1.6666666666666667,2.2222222222222223,2.7777777777777777,3.3333333333333335,3.8888888888888893,4.444444444444445,5.0],[0.0,0.5555555555555556,1.1111111111111112,1.6666666666666667,2.2222222222222223,2.7777777777777777,3.3333333333333335,3.8888888888888893,4.444444444444445,5.0],[0.0,0.5555555555555556,1.1111111111111112,1.6666666666666667,2.2222222222222223,2.7777777777777777,3.3333333333333335,3.8888888888888893,4.444444444444445,5.0],[0.0,0.5555555555555556,1.1111111111111112,1.6666666666666667,2.2222222222222223,2.7777777777777777,3.3333333333333335,3.8888888888888893,4.444444444444445,5.0],[0.0,0.5555555555555556,1.1111111111111112,1.6666666666666667,2.2222222222222223,2.7777777777777777,3.3333333333333335,3.8888888888888893,4.444444444444445,5.0],[0.0,0.5555555555555556,1.1111111111111112,1.6666666666666667,2.2222222222222223,2.7777777777777777,3.3333333333333335,3.8888888888888893,4.444444444444445,5.0],[0.0,0.5555555555555556,1.1111111111111112,1.6666666666666667,2.2222222222222223,2.7777777777777777,3.3333333333333335,3.8888888888888893,4.444444444444445,5.0],[0.0,0.5555555555555556,1.1111111111111112,1.6666666666666667,2.2222222222222223,2.7777777777777777,3.3333333333333335,3.8888888888888893,4.444444444444445,5.0],[0.0,0.5555555555555556,1.1111111111111112,1.6666666666666667,2.2222222222222223,2.7777777777777777,3.3333333333333335,3.8888888888888893,4.444444444444445,5.0]],\"z\":[[25.0,25.0,25.0,25.0,25.0,25.0,25.0,25.0,25.0,25.0],[30.555555555555557,30.555555555555557,30.555555555555557,30.555555555555557,30.555555555555557,30.555555555555557,30.555555555555557,30.555555555555557,30.555555555555557,30.555555555555557],[36.111111111111114,36.111111111111114,36.111111111111114,36.111111111111114,36.111111111111114,36.111111111111114,36.111111111111114,36.111111111111114,36.111111111111114,36.111111111111114],[41.666666666666664,41.666666666666664,41.666666666666664,41.666666666666664,41.666666666666664,41.666666666666664,41.666666666666664,41.666666666666664,41.666666666666664,41.666666666666664],[47.22222222222222,47.22222222222222,47.22222222222222,47.22222222222222,47.22222222222222,47.22222222222222,47.22222222222222,47.22222222222222,47.22222222222222,47.22222222222222],[52.77777777777778,52.77777777777778,52.77777777777778,52.77777777777778,52.77777777777778,52.77777777777778,52.77777777777778,52.77777777777778,52.77777777777778,52.77777777777778],[58.33333333333333,58.33333333333333,58.33333333333333,58.33333333333333,58.33333333333333,58.33333333333333,58.33333333333333,58.33333333333333,58.33333333333333,58.33333333333333],[63.888888888888886,63.888888888888886,63.888888888888886,63.888888888888886,63.888888888888886,63.888888888888886,63.888888888888886,63.888888888888886,63.888888888888886,63.888888888888886],[69.44444444444444,69.44444444444444,69.44444444444444,69.44444444444444,69.44444444444444,69.44444444444444,69.44444444444444,69.44444444444444,69.44444444444444,69.44444444444444],[75.0,75.0,75.0,75.0,75.0,75.0,75.0,75.0,75.0,75.0]],\"type\":\"surface\"}],                        {\"template\":{\"data\":{\"histogram2dcontour\":[{\"type\":\"histogram2dcontour\",\"colorbar\":{\"outlinewidth\":0,\"ticks\":\"\"},\"colorscale\":[[0.0,\"#0d0887\"],[0.1111111111111111,\"#46039f\"],[0.2222222222222222,\"#7201a8\"],[0.3333333333333333,\"#9c179e\"],[0.4444444444444444,\"#bd3786\"],[0.5555555555555556,\"#d8576b\"],[0.6666666666666666,\"#ed7953\"],[0.7777777777777778,\"#fb9f3a\"],[0.8888888888888888,\"#fdca26\"],[1.0,\"#f0f921\"]]}],\"choropleth\":[{\"type\":\"choropleth\",\"colorbar\":{\"outlinewidth\":0,\"ticks\":\"\"}}],\"histogram2d\":[{\"type\":\"histogram2d\",\"colorbar\":{\"outlinewidth\":0,\"ticks\":\"\"},\"colorscale\":[[0.0,\"#0d0887\"],[0.1111111111111111,\"#46039f\"],[0.2222222222222222,\"#7201a8\"],[0.3333333333333333,\"#9c179e\"],[0.4444444444444444,\"#bd3786\"],[0.5555555555555556,\"#d8576b\"],[0.6666666666666666,\"#ed7953\"],[0.7777777777777778,\"#fb9f3a\"],[0.8888888888888888,\"#fdca26\"],[1.0,\"#f0f921\"]]}],\"heatmap\":[{\"type\":\"heatmap\",\"colorbar\":{\"outlinewidth\":0,\"ticks\":\"\"},\"colorscale\":[[0.0,\"#0d0887\"],[0.1111111111111111,\"#46039f\"],[0.2222222222222222,\"#7201a8\"],[0.3333333333333333,\"#9c179e\"],[0.4444444444444444,\"#bd3786\"],[0.5555555555555556,\"#d8576b\"],[0.6666666666666666,\"#ed7953\"],[0.7777777777777778,\"#fb9f3a\"],[0.8888888888888888,\"#fdca26\"],[1.0,\"#f0f921\"]]}],\"heatmapgl\":[{\"type\":\"heatmapgl\",\"colorbar\":{\"outlinewidth\":0,\"ticks\":\"\"},\"colorscale\":[[0.0,\"#0d0887\"],[0.1111111111111111,\"#46039f\"],[0.2222222222222222,\"#7201a8\"],[0.3333333333333333,\"#9c179e\"],[0.4444444444444444,\"#bd3786\"],[0.5555555555555556,\"#d8576b\"],[0.6666666666666666,\"#ed7953\"],[0.7777777777777778,\"#fb9f3a\"],[0.8888888888888888,\"#fdca26\"],[1.0,\"#f0f921\"]]}],\"contourcarpet\":[{\"type\":\"contourcarpet\",\"colorbar\":{\"outlinewidth\":0,\"ticks\":\"\"}}],\"contour\":[{\"type\":\"contour\",\"colorbar\":{\"outlinewidth\":0,\"ticks\":\"\"},\"colorscale\":[[0.0,\"#0d0887\"],[0.1111111111111111,\"#46039f\"],[0.2222222222222222,\"#7201a8\"],[0.3333333333333333,\"#9c179e\"],[0.4444444444444444,\"#bd3786\"],[0.5555555555555556,\"#d8576b\"],[0.6666666666666666,\"#ed7953\"],[0.7777777777777778,\"#fb9f3a\"],[0.8888888888888888,\"#fdca26\"],[1.0,\"#f0f921\"]]}],\"surface\":[{\"type\":\"surface\",\"colorbar\":{\"outlinewidth\":0,\"ticks\":\"\"},\"colorscale\":[[0.0,\"#0d0887\"],[0.1111111111111111,\"#46039f\"],[0.2222222222222222,\"#7201a8\"],[0.3333333333333333,\"#9c179e\"],[0.4444444444444444,\"#bd3786\"],[0.5555555555555556,\"#d8576b\"],[0.6666666666666666,\"#ed7953\"],[0.7777777777777778,\"#fb9f3a\"],[0.8888888888888888,\"#fdca26\"],[1.0,\"#f0f921\"]]}],\"mesh3d\":[{\"type\":\"mesh3d\",\"colorbar\":{\"outlinewidth\":0,\"ticks\":\"\"}}],\"scatter\":[{\"fillpattern\":{\"fillmode\":\"overlay\",\"size\":10,\"solidity\":0.2},\"type\":\"scatter\"}],\"parcoords\":[{\"type\":\"parcoords\",\"line\":{\"colorbar\":{\"outlinewidth\":0,\"ticks\":\"\"}}}],\"scatterpolargl\":[{\"type\":\"scatterpolargl\",\"marker\":{\"colorbar\":{\"outlinewidth\":0,\"ticks\":\"\"}}}],\"bar\":[{\"error_x\":{\"color\":\"#2a3f5f\"},\"error_y\":{\"color\":\"#2a3f5f\"},\"marker\":{\"line\":{\"color\":\"#E5ECF6\",\"width\":0.5},\"pattern\":{\"fillmode\":\"overlay\",\"size\":10,\"solidity\":0.2}},\"type\":\"bar\"}],\"scattergeo\":[{\"type\":\"scattergeo\",\"marker\":{\"colorbar\":{\"outlinewidth\":0,\"ticks\":\"\"}}}],\"scatterpolar\":[{\"type\":\"scatterpolar\",\"marker\":{\"colorbar\":{\"outlinewidth\":0,\"ticks\":\"\"}}}],\"histogram\":[{\"marker\":{\"pattern\":{\"fillmode\":\"overlay\",\"size\":10,\"solidity\":0.2}},\"type\":\"histogram\"}],\"scattergl\":[{\"type\":\"scattergl\",\"marker\":{\"colorbar\":{\"outlinewidth\":0,\"ticks\":\"\"}}}],\"scatter3d\":[{\"type\":\"scatter3d\",\"line\":{\"colorbar\":{\"outlinewidth\":0,\"ticks\":\"\"}},\"marker\":{\"colorbar\":{\"outlinewidth\":0,\"ticks\":\"\"}}}],\"scattermapbox\":[{\"type\":\"scattermapbox\",\"marker\":{\"colorbar\":{\"outlinewidth\":0,\"ticks\":\"\"}}}],\"scatterternary\":[{\"type\":\"scatterternary\",\"marker\":{\"colorbar\":{\"outlinewidth\":0,\"ticks\":\"\"}}}],\"scattercarpet\":[{\"type\":\"scattercarpet\",\"marker\":{\"colorbar\":{\"outlinewidth\":0,\"ticks\":\"\"}}}],\"carpet\":[{\"aaxis\":{\"endlinecolor\":\"#2a3f5f\",\"gridcolor\":\"white\",\"linecolor\":\"white\",\"minorgridcolor\":\"white\",\"startlinecolor\":\"#2a3f5f\"},\"baxis\":{\"endlinecolor\":\"#2a3f5f\",\"gridcolor\":\"white\",\"linecolor\":\"white\",\"minorgridcolor\":\"white\",\"startlinecolor\":\"#2a3f5f\"},\"type\":\"carpet\"}],\"table\":[{\"cells\":{\"fill\":{\"color\":\"#EBF0F8\"},\"line\":{\"color\":\"white\"}},\"header\":{\"fill\":{\"color\":\"#C8D4E3\"},\"line\":{\"color\":\"white\"}},\"type\":\"table\"}],\"barpolar\":[{\"marker\":{\"line\":{\"color\":\"#E5ECF6\",\"width\":0.5},\"pattern\":{\"fillmode\":\"overlay\",\"size\":10,\"solidity\":0.2}},\"type\":\"barpolar\"}],\"pie\":[{\"automargin\":true,\"type\":\"pie\"}]},\"layout\":{\"autotypenumbers\":\"strict\",\"colorway\":[\"#636efa\",\"#EF553B\",\"#00cc96\",\"#ab63fa\",\"#FFA15A\",\"#19d3f3\",\"#FF6692\",\"#B6E880\",\"#FF97FF\",\"#FECB52\"],\"font\":{\"color\":\"#2a3f5f\"},\"hovermode\":\"closest\",\"hoverlabel\":{\"align\":\"left\"},\"paper_bgcolor\":\"white\",\"plot_bgcolor\":\"#E5ECF6\",\"polar\":{\"bgcolor\":\"#E5ECF6\",\"angularaxis\":{\"gridcolor\":\"white\",\"linecolor\":\"white\",\"ticks\":\"\"},\"radialaxis\":{\"gridcolor\":\"white\",\"linecolor\":\"white\",\"ticks\":\"\"}},\"ternary\":{\"bgcolor\":\"#E5ECF6\",\"aaxis\":{\"gridcolor\":\"white\",\"linecolor\":\"white\",\"ticks\":\"\"},\"baxis\":{\"gridcolor\":\"white\",\"linecolor\":\"white\",\"ticks\":\"\"},\"caxis\":{\"gridcolor\":\"white\",\"linecolor\":\"white\",\"ticks\":\"\"}},\"coloraxis\":{\"colorbar\":{\"outlinewidth\":0,\"ticks\":\"\"}},\"colorscale\":{\"sequential\":[[0.0,\"#0d0887\"],[0.1111111111111111,\"#46039f\"],[0.2222222222222222,\"#7201a8\"],[0.3333333333333333,\"#9c179e\"],[0.4444444444444444,\"#bd3786\"],[0.5555555555555556,\"#d8576b\"],[0.6666666666666666,\"#ed7953\"],[0.7777777777777778,\"#fb9f3a\"],[0.8888888888888888,\"#fdca26\"],[1.0,\"#f0f921\"]],\"sequentialminus\":[[0.0,\"#0d0887\"],[0.1111111111111111,\"#46039f\"],[0.2222222222222222,\"#7201a8\"],[0.3333333333333333,\"#9c179e\"],[0.4444444444444444,\"#bd3786\"],[0.5555555555555556,\"#d8576b\"],[0.6666666666666666,\"#ed7953\"],[0.7777777777777778,\"#fb9f3a\"],[0.8888888888888888,\"#fdca26\"],[1.0,\"#f0f921\"]],\"diverging\":[[0,\"#8e0152\"],[0.1,\"#c51b7d\"],[0.2,\"#de77ae\"],[0.3,\"#f1b6da\"],[0.4,\"#fde0ef\"],[0.5,\"#f7f7f7\"],[0.6,\"#e6f5d0\"],[0.7,\"#b8e186\"],[0.8,\"#7fbc41\"],[0.9,\"#4d9221\"],[1,\"#276419\"]]},\"xaxis\":{\"gridcolor\":\"white\",\"linecolor\":\"white\",\"ticks\":\"\",\"title\":{\"standoff\":15},\"zerolinecolor\":\"white\",\"automargin\":true,\"zerolinewidth\":2},\"yaxis\":{\"gridcolor\":\"white\",\"linecolor\":\"white\",\"ticks\":\"\",\"title\":{\"standoff\":15},\"zerolinecolor\":\"white\",\"automargin\":true,\"zerolinewidth\":2},\"scene\":{\"xaxis\":{\"backgroundcolor\":\"#E5ECF6\",\"gridcolor\":\"white\",\"linecolor\":\"white\",\"showbackground\":true,\"ticks\":\"\",\"zerolinecolor\":\"white\",\"gridwidth\":2},\"yaxis\":{\"backgroundcolor\":\"#E5ECF6\",\"gridcolor\":\"white\",\"linecolor\":\"white\",\"showbackground\":true,\"ticks\":\"\",\"zerolinecolor\":\"white\",\"gridwidth\":2},\"zaxis\":{\"backgroundcolor\":\"#E5ECF6\",\"gridcolor\":\"white\",\"linecolor\":\"white\",\"showbackground\":true,\"ticks\":\"\",\"zerolinecolor\":\"white\",\"gridwidth\":2}},\"shapedefaults\":{\"line\":{\"color\":\"#2a3f5f\"}},\"annotationdefaults\":{\"arrowcolor\":\"#2a3f5f\",\"arrowhead\":0,\"arrowwidth\":1},\"geo\":{\"bgcolor\":\"white\",\"landcolor\":\"#E5ECF6\",\"subunitcolor\":\"white\",\"showland\":true,\"showlakes\":true,\"lakecolor\":\"white\"},\"title\":{\"x\":0.05},\"mapbox\":{\"style\":\"light\"}}},\"scene\":{\"domain\":{\"x\":[0.0,1.0],\"y\":[0.0,1.0]},\"xaxis\":{\"title\":{\"text\":\"Poly Order\"}},\"yaxis\":{\"title\":{\"text\":\"Estimation Order\"}},\"zaxis\":{\"title\":{\"text\":\"Sample Size\"}},\"aspectratio\":{\"x\":1,\"y\":1,\"z\":1},\"camera\":{\"eye\":{\"x\":3,\"y\":2,\"z\":2}}},\"coloraxis\":{\"colorbar\":{\"title\":{\"text\":\"Median Log(Out of Distribution MSE)\"}},\"colorscale\":[[0.0,\"rgb(0,104,55)\"],[0.1,\"rgb(26,152,80)\"],[0.2,\"rgb(102,189,99)\"],[0.3,\"rgb(166,217,106)\"],[0.4,\"rgb(217,239,139)\"],[0.5,\"rgb(255,255,191)\"],[0.6,\"rgb(254,224,139)\"],[0.7,\"rgb(253,174,97)\"],[0.8,\"rgb(244,109,67)\"],[0.9,\"rgb(215,48,39)\"],[1.0,\"rgb(165,0,38)\"]]},\"legend\":{\"tracegroupgap\":0,\"itemsizing\":\"constant\"},\"title\":{\"text\":\"Factors that impact Out of Distribution Performance (Generalizability)\"},\"width\":1100,\"height\":800},                        {\"responsive\": true}                    ).then(function(){\n",
       "                            \n",
       "var gd = document.getElementById('6013191f-142e-46d0-84c2-77e76b8d1f75');\n",
       "var x = new MutationObserver(function (mutations, observer) {{\n",
       "        var display = window.getComputedStyle(gd).display;\n",
       "        if (!display || display === 'none') {{\n",
       "            console.log([gd, 'removed!']);\n",
       "            Plotly.purge(gd);\n",
       "            observer.disconnect();\n",
       "        }}\n",
       "}});\n",
       "\n",
       "// Listen for the removal of the full notebook cells\n",
       "var notebookContainer = gd.closest('#notebook-container');\n",
       "if (notebookContainer) {{\n",
       "    x.observe(notebookContainer, {childList: true});\n",
       "}}\n",
       "\n",
       "// Listen for the clearing of the current output cell\n",
       "var outputEl = gd.closest('.output');\n",
       "if (outputEl) {{\n",
       "    x.observe(outputEl, {childList: true});\n",
       "}}\n",
       "\n",
       "                        })                };                });            </script>        </div>"
      ]
     },
     "metadata": {},
     "output_type": "display_data"
    }
   ],
   "source": [
    "results['log_avg_OOD_MSE'] = np.log10(results['avg_OOD_MSE'])\n",
    "results_temp = results[results['est_order']<10]\n",
    "plot_3d_results(results_temp, 'log_avg_OOD_MSE' , 'Median Log(Out of Distribution MSE)', 'Factors that impact Out of Distribution Performance (Generalizability)', aspect_y=1)"
   ]
  }
 ],
 "metadata": {
  "kernelspec": {
   "display_name": "venv-deploy",
   "language": "python",
   "name": "python3"
  },
  "language_info": {
   "codemirror_mode": {
    "name": "ipython",
    "version": 3
   },
   "file_extension": ".py",
   "mimetype": "text/x-python",
   "name": "python",
   "nbconvert_exporter": "python",
   "pygments_lexer": "ipython3",
   "version": "3.12.3"
  }
 },
 "nbformat": 4,
 "nbformat_minor": 2
}
