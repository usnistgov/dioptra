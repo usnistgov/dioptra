{
 "cells": [
  {
   "cell_type": "markdown",
   "id": "d79b8dfd-49b6-4e34-b945-0176ab9d9212",
   "metadata": {},
   "source": [
    "# Hello World Example\n",
    "\n",
    "This example demonstrates how to use the Dioptra Python client to register the necessary resources in a Dioptra deployment to execute a simple job.\n",
    "\n",
    "It assumes you have an existing Dioptra deployment."
   ]
  },
  {
   "cell_type": "markdown",
   "id": "8235bea8-7f50-4252-bca8-c24000a27fa3",
   "metadata": {},
   "source": [
    "### Configure the Dioptra client and authenticate\n",
    "\n",
    "The first cell below imports the functions we will be using from the Dioptra client, instantiates the client, and authenticates a user.\n",
    "\n",
    "Edit the REST API address and username/password as needed.\n",
    "\n",
    "If successful, you should see a \"Login successful\" status message."
   ]
  },
  {
   "cell_type": "code",
   "execution_count": null,
   "id": "279c855a-4d66-4362-93a1-2c29a76b161c",
   "metadata": {},
   "outputs": [],
   "source": [
    "from dioptra.client import connect_json_dioptra_client, select_files_in_directory\n",
    "\n",
    "DIOPTRA_REST_API_ADDRESS = \"http://localhost:5000\"\n",
    "DIOPTRA_REST_API_USER = \"<USER>\"\n",
    "DIOPTRA_REST_API_PASS = \"<PASSWORD>\"\n",
    "\n",
    "client = connect_json_dioptra_client(DIOPTRA_REST_API_ADDRESS)\n",
    "\n",
    "# if you have not yet registered a user, uncomment the following line and adjust the parameters as desired to register a user first\n",
    "# client.users.create(DIOPTRA_REST_API_USER, email=f\"{DIOPTRA_REST_API_USER}@localhost\", password=DIOPTRA_REST_API_PASS)\n",
    "\n",
    "client.auth.login(DIOPTRA_REST_API_USER, DIOPTRA_REST_API_PASS)"
   ]
  },
  {
   "cell_type": "markdown",
   "id": "9b3f4ca7-b64f-4306-a172-e16d224642a9",
   "metadata": {},
   "source": [
    "### Import Resources\n",
    "\n",
    "We will import the resources (plugins, entrypoints, and plugin parameter types) used in this example.\n",
    "It is possible to import from a git repository or from files on the local filesystem. Choose one of the two options below.\n",
    "\n",
    "If successful, you should see a message listing the imported resources. If you have resouces with a conflicting name, you will receive an error. You can either rename your existing resources or overwrite on import by passing `resolve_name_conflicts_strategy=\"overwrite\"` below."
   ]
  },
  {
   "cell_type": "code",
   "execution_count": null,
   "id": "2ba9dcf5-7030-4711-a336-4a11793f22eb",
   "metadata": {},
   "outputs": [],
   "source": [
    "# import from git\n",
    "response = client.workflows.import_resources(group_id=1,\n",
    "                                             source=\"https://github.com/usnistgov/dioptra.git;extra#dev\",\n",
    "                                             config_path=\"extra/dioptra.toml\",\n",
    "                                             #resolve_name_conflicts_strategy=\"overwrite\",\n",
    "                                            )\n",
    "resources = response[\"resources\"]\n",
    "ENTRYPOINT_ID = resources[\"entrypoints\"][\"Hello World\"]\n",
    "print(resources)"
   ]
  },
  {
   "cell_type": "code",
   "execution_count": null,
   "id": "a92ca17e-3b0f-43e0-bb4c-9cd452ab3e1d",
   "metadata": {},
   "outputs": [],
   "source": [
    "# import from local filesystem\n",
    "response = client.workflows.import_resources(group_id=1,\n",
    "                                             source=select_files_in_directory(\"../extra/\", recursive=True),\n",
    "                                             #resolve_name_conflicts_strategy=\"overwrite\",\n",
    "                                            )\n",
    "resources = response[\"resources\"]\n",
    "ENTRYPOINT_ID = resources[\"entrypoints\"][\"Hello World\"]\n",
    "print(resources)"
   ]
  },
  {
   "cell_type": "markdown",
   "id": "b9d6ae57-e346-4cce-9c98-decc80b705d8",
   "metadata": {},
   "source": [
    "### Configure Experiment and Workers\n",
    "\n",
    "We need to create an experiment to act as a namespace to organize our jobs.\n",
    "\n",
    "We also to create a queue to submit jobs to. The queue name must match the name of a running worker in your deployment. Edit the variable below if necessary.\n",
    "\n",
    "Finally, we associate the experiment with the entrypoint we wish to run and make the entrypoint submissible to our queue."
   ]
  },
  {
   "cell_type": "code",
   "execution_count": null,
   "id": "ef6b71e8-05fd-4d51-a18d-b77b45087df8",
   "metadata": {},
   "outputs": [],
   "source": [
    "EXPERIMENT_NAME = \"Hello World\"\n",
    "QUEUE_NAME = \"Demo Worker\"\n",
    "\n",
    "try:\n",
    "    experiment = client.experiments.create(group_id=1, name=EXPERIMENT_NAME)\n",
    "except:\n",
    "    experiment = client.experiments.get(search=f\"name:'{EXPERIMENT_NAME}'\")[\"data\"][0]\n",
    "\n",
    "try:\n",
    "    queue = client.queues.create(group_id=1, name=QUEUE_NAME)\n",
    "except:\n",
    "    queue = client.queues.get(search=f\"name:'{QUEUE_NAME}'\")[\"data\"][0]\n",
    "\n",
    "client.experiments.entrypoints.create(experiment_id=experiment[\"id\"], entrypoint_ids=[ENTRYPOINT_ID])\n",
    "client.entrypoints.queues.create(entrypoint_id=ENTRYPOINT_ID, queue_ids=[queue[\"id\"]])\n",
    "\n",
    "print(\"Successfully created experiment and queue, and associated resources.\")"
   ]
  },
  {
   "cell_type": "markdown",
   "id": "029943da-1300-4340-b64a-ced52de7309a",
   "metadata": {},
   "source": [
    "### Execute the job\n",
    "\n",
    "Now that everything is registered in Dioptra, we can run a job. Run the following cell to execute the job. You should see messages printed in the logs of the worker. You can also check the status of the job by running the subsequent cell. You should see it move from `queued` to `started` to `finished` over the course of a couple seconds. Try changing the value of the name variable."
   ]
  },
  {
   "cell_type": "code",
   "execution_count": null,
   "id": "1d14bc51-404c-43c8-8ee4-e8809302c781",
   "metadata": {},
   "outputs": [],
   "source": [
    "response = client.experiments.jobs.create(experiment_id=experiment[\"id\"],\n",
    "                                          queue_id=queue[\"id\"],\n",
    "                                          entrypoint_id=resources[\"entrypoints\"][\"Hello World\"],\n",
    "                                          values={\"name\": DIOPTRA_REST_API_USER},\n",
    "                                         )"
   ]
  },
  {
   "cell_type": "code",
   "execution_count": null,
   "id": "7c6912d1-f7ee-4159-ba74-d31a296cb891",
   "metadata": {},
   "outputs": [],
   "source": [
    "client.jobs.get_by_id(job_id=response[\"id\"])"
   ]
  }
 ],
 "metadata": {
  "kernelspec": {
   "display_name": "Python 3 (ipykernel)",
   "language": "python",
   "name": "python3"
  },
  "language_info": {
   "codemirror_mode": {
    "name": "ipython",
    "version": 3
   },
   "file_extension": ".py",
   "mimetype": "text/x-python",
   "name": "python",
   "nbconvert_exporter": "python",
   "pygments_lexer": "ipython3",
   "version": "3.11.11"
  }
 },
 "nbformat": 4,
 "nbformat_minor": 5
}
