{
 "cells": [
  {
   "cell_type": "markdown",
   "metadata": {},
   "source": [
    "# Train / Evaluation Entrypoint\n",
    "\n",
    "### Plugins: \n",
    "1. Load Dataset\n",
    "2. Transform variables/ create features\n",
    "3. Split dataset into train/test\n",
    "4. Fit models\n",
    "5. Evaluate models (on train and test)\n",
    "\n",
    "### Example usage:\n",
    "- Wine quality dataset - quality scores from 3 to 8 (mean is 5.6)\n",
    "- 11 Dependent variables which are all numeric / real valued\n",
    "- Transofomrations implemented: normalized each variable (subtract mean, divide by std dev)\n",
    "- Models trained: linear regression, decision tree regressor, KNN regressor\n",
    "- Evaluation metric considered: Mean Squared Error (MSE)\n",
    "- Conclusion: KNN is best given hyperparameters and transformations"
   ]
  },
  {
   "cell_type": "markdown",
   "metadata": {},
   "source": [
    "### [Set Up] Import modules"
   ]
  },
  {
   "cell_type": "code",
   "execution_count": 54,
   "metadata": {},
   "outputs": [],
   "source": [
    "import sys\n",
    "import os \n",
    "from urllib.request import urlretrieve\n",
    "import numpy as np\n",
    "\n",
    "import predictive_model_plugins.plugins as plugins"
   ]
  },
  {
   "cell_type": "markdown",
   "metadata": {},
   "source": [
    "### [Set Up] Download example data (Wine quality scores)"
   ]
  },
  {
   "cell_type": "code",
   "execution_count": 55,
   "metadata": {},
   "outputs": [],
   "source": [
    "wine_data_url = 'https://archive.ics.uci.edu/ml/machine-learning-databases/wine-quality/winequality-red.csv'\n",
    "save_path = 'wine_data.csv'\n",
    "urlretrieve(wine_data_url, save_path)\n",
    "\n",
    "# Convert semicolons to commas to make CSV\n",
    "with open(save_path, 'r') as file:\n",
    "    data = file.read().replace(';', ',')\n",
    "\n",
    "with open(save_path, 'w') as file:\n",
    "    file.write(data)"
   ]
  },
  {
   "cell_type": "markdown",
   "metadata": {},
   "source": [
    "## Dioptra Entrypoint Example Usage\n",
    "\n",
    "### 1. Set Parameters\n",
    "Anything in all caps is parameter or artifact"
   ]
  },
  {
   "cell_type": "code",
   "execution_count": 45,
   "metadata": {},
   "outputs": [],
   "source": [
    "# Entrypoint parameters\n",
    "\n",
    "DATA_PATH = save_path\n",
    "FILETYPE = 'csv'\n",
    "\n",
    "DEP_VAR = 'quality'\n",
    "INDEP_VARS = ['fixed acidity', \n",
    "              'volatile acidity', \n",
    "              'citric acid', \n",
    "              'residual sugar', \n",
    "              'chlorides', \n",
    "              'free sulfur dioxide', \n",
    "              'total sulfur dioxide',\n",
    "              'density',\n",
    "              'pH', \n",
    "              'sulphates', \n",
    "              'alcohol']\n",
    "\n",
    "TRANSFORMATIONS = [ ('normalize', [INDEP_VARS], {'drop_original':True})] # (function, positional args, kwargs)\n",
    "\n",
    "INDEP_VARS_TRANSFORMED = [var + '_norm' for var in INDEP_VARS]\n",
    "\n",
    "MODEL1_TYPE = 'LinearRegressor'\n",
    "MODEL1_HYPERPARAMETERS = {}\n",
    "\n",
    "MODEL2_TYPE = 'DecisionTreeRegressor'\n",
    "MODEL2_HYPERPARAMETERS = {'criterion':'squared_error',\n",
    "                                   'min_samples_split': 10\n",
    "                                    #,'max_depth' : 2\n",
    "                                    }\n",
    "\n",
    "MODEL3_TYPE = 'KNNRegressor'\n",
    "MODEL3_HYPERPARAMETERS = {'n_neighbors':10, 'weights':'distance'}\n",
    "\n",
    "EVALUATION_METRICS = ['MSE']\n"
   ]
  },
  {
   "cell_type": "markdown",
   "metadata": {},
   "source": [
    "# Run Entrypoint / Task Graph\n",
    "\n",
    "### 1. Load Dataset"
   ]
  },
  {
   "cell_type": "code",
   "execution_count": 53,
   "metadata": {},
   "outputs": [
    {
     "data": {
      "text/plain": [
       "count    1599.000000\n",
       "mean        5.636023\n",
       "std         0.807569\n",
       "min         3.000000\n",
       "25%         5.000000\n",
       "50%         6.000000\n",
       "75%         6.000000\n",
       "max         8.000000\n",
       "Name: quality, dtype: float64"
      ]
     },
     "execution_count": 53,
     "metadata": {},
     "output_type": "execute_result"
    }
   ],
   "source": [
    "DF = plugins.load_dataset(DATA_PATH, FILETYPE)\n",
    "#DF.head()"
   ]
  },
  {
   "cell_type": "markdown",
   "metadata": {},
   "source": [
    "### 2. Transform columns / create features"
   ]
  },
  {
   "cell_type": "code",
   "execution_count": 47,
   "metadata": {},
   "outputs": [],
   "source": [
    "DF = plugins.create_features(DF, TRANSFORMATIONS )\n",
    "#DF.head()"
   ]
  },
  {
   "cell_type": "markdown",
   "metadata": {},
   "source": [
    "### 3. Split dataset into train/test"
   ]
  },
  {
   "cell_type": "code",
   "execution_count": 48,
   "metadata": {},
   "outputs": [],
   "source": [
    "SPLITS = plugins.make_data_splits(DF)\n",
    "DF_TRAIN, DF_TEST = (SPLITS['train']['df'], SPLITS['test']['df'] )\n",
    "#DF_TRAIN.head()"
   ]
  },
  {
   "cell_type": "markdown",
   "metadata": {},
   "source": [
    "### 4. Train predictive models"
   ]
  },
  {
   "cell_type": "code",
   "execution_count": 49,
   "metadata": {},
   "outputs": [],
   "source": [
    "LINEAR_MODEL = plugins.train_predictive_model(MODEL1_TYPE, DF_TRAIN,  DEP_VAR, INDEP_VARS_TRANSFORMED, MODEL1_HYPERPARAMETERS )\n",
    "DT_MODEL = plugins.train_predictive_model(MODEL2_TYPE, DF_TRAIN,  DEP_VAR, INDEP_VARS_TRANSFORMED, MODEL2_HYPERPARAMETERS )\n",
    "KNN_MODEL = plugins.train_predictive_model(MODEL3_TYPE, DF_TRAIN,  DEP_VAR, INDEP_VARS_TRANSFORMED, MODEL3_HYPERPARAMETERS )\n",
    "\n",
    "#DT_MODEL.hyperparameters"
   ]
  },
  {
   "cell_type": "markdown",
   "metadata": {},
   "source": [
    "### 5. Evaluate models (using MSE)"
   ]
  },
  {
   "cell_type": "code",
   "execution_count": 50,
   "metadata": {},
   "outputs": [
    {
     "name": "stdout",
     "output_type": "stream",
     "text": [
      "\n",
      "LinearRegressor:\n",
      "----------------------------------------\n",
      "train MSE: 0.4183\n",
      "test MSE: 0.4174\n",
      "\n",
      "DTRegressor:\n",
      "----------------------------------------\n",
      "train MSE: 0.3922\n",
      "test MSE: 0.4107\n",
      "\n",
      "KNNRegressor:\n",
      "----------------------------------------\n",
      "train MSE: 0.0\n",
      "test MSE: 0.3166\n"
     ]
    }
   ],
   "source": [
    "for model in [LINEAR_MODEL, DT_MODEL, KNN_MODEL]:\n",
    "    print('\\n', type(model).__name__, \":\", '\\n', '-'*40, sep='')\n",
    "    for dataset_name, dataset in {'train':DF_TRAIN, 'test':DF_TEST}.items():\n",
    "        for metric in EVALUATION_METRICS:\n",
    "            out = plugins.evaluate_model(model, dataset, metric, DEP_VAR, INDEP_VARS_TRANSFORMED)[metric]\n",
    "            print(f\"{dataset_name} {metric}: {round(out, 4)}\")"
   ]
  }
 ],
 "metadata": {
  "kernelspec": {
   "display_name": "venv-deploy",
   "language": "python",
   "name": "python3"
  },
  "language_info": {
   "codemirror_mode": {
    "name": "ipython",
    "version": 3
   },
   "file_extension": ".py",
   "mimetype": "text/x-python",
   "name": "python",
   "nbconvert_exporter": "python",
   "pygments_lexer": "ipython3",
   "version": "3.12.3"
  }
 },
 "nbformat": 4,
 "nbformat_minor": 2
}
