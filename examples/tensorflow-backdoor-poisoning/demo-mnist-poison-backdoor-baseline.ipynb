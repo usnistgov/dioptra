{
 "cells": [
  {
   "cell_type": "markdown",
   "metadata": {},
   "source": [
    "# Tensorflow Backdoor Poisoning MNIST Demo "
   ]
  },
  {
   "cell_type": "markdown",
   "metadata": {},
   "source": [
    "This demo will cover a basic backdoor poisoning attack on an MNIST-LeNet model.\n",
    "The following two sections cover experiment setup and is similar across all demos.\n",
    "To access demo results in MlFlow, please follow the general experiment setup steps outlined in `basic-mlflow-demo`."
   ]
  },
  {
   "cell_type": "markdown",
   "metadata": {},
   "source": [
    "## Setup: Experiment Name and MNIST Dataset\n",
    "\n",
    "Here we will import the necessary Python modules and ensure the proper environment variables are set so that all the code blocks will work as expected.\n",
    "\n",
    "**Important: Users will need to verify or update the following parameters:**\n",
    "\n",
    "- Ensure that the `USERNAME` parameter is set to your own name.\n",
    "- Ensure that the `DATASET_DIR` parameter is set to the location of the MNIST dataset directory. Currently set to `/nfs/data/Mnist` as the default location.\n",
    "- (Optional) Set the `EXPERIMENT_NAME` parameter to your own preferred experiment name.\n",
    "\n",
    "Other parameters can be modified to alter the RESTful API and MLFlow tracking addresses. "
   ]
  },
  {
   "cell_type": "code",
   "execution_count": 1,
   "metadata": {},
   "outputs": [],
   "source": [
    "# Import packages from the Python standard library\n",
    "import os\n",
    "import pprint\n",
    "import time\n",
    "import warnings\n",
    "from pathlib import Path\n",
    "from typing import Tuple\n",
    "\n",
    "# Filter out warning messages\n",
    "warnings.filterwarnings(\"ignore\")\n",
    "\n",
    "# Please enter custom username here.\n",
    "USERNAME = \"howard\"\n",
    "\n",
    "# Ensure that the dataset location is properly set here.\n",
    "DATASET_DIR = \"/nfs/data/Mnist\"\n",
    "\n",
    "# Experiment name (note the username_ prefix convention)\n",
    "EXPERIMENT_NAME = f\"{USERNAME}_mnist_backdoor_poison\"\n",
    "\n",
    "# Address for connecting the docker container to exposed ports on the host device\n",
    "HOST_DOCKER_INTERNAL = \"host.docker.internal\"\n",
    "# HOST_DOCKER_INTERNAL = \"172.17.0.1\"\n",
    "\n",
    "# Testbed API ports\n",
    "RESTAPI_PORT = \"30080\"\n",
    "MLFLOW_TRACKING_PORT = \"35000\"\n",
    "\n",
    "# Default address for accessing the RESTful API service\n",
    "RESTAPI_ADDRESS = (\n",
    "    f\"http://{HOST_DOCKER_INTERNAL}:{RESTAPI_PORT}\"\n",
    "    if os.getenv(\"IS_JUPYTER_SERVICE\")\n",
    "    else f\"http://localhost:{RESTAPI_PORT}\"\n",
    ")\n",
    "\n",
    "# Override the AI_RESTAPI_URI variable, used to connect to RESTful API service\n",
    "os.environ[\"AI_RESTAPI_URI\"] = RESTAPI_ADDRESS\n",
    "\n",
    "# Default address for accessing the MLFlow Tracking server\n",
    "MLFLOW_TRACKING_URI = (\n",
    "    f\"http://{HOST_DOCKER_INTERNAL}:{MLFLOW_TRACKING_PORT}\"\n",
    "    if os.getenv(\"IS_JUPYTER_SERVICE\")\n",
    "    else f\"http://localhost:{MLFLOW_TRACKING_PORT}\"\n",
    ")\n",
    "\n",
    "# Path to custom task plugins archives\n",
    "CUSTOM_PLUGINS_EVALUATION_TAR_GZ = Path(\"custom-plugins-evaluation.tar.gz\")\n",
    "\n",
    "# Override the MLFLOW_TRACKING_URI variable, used to connect to MLFlow Tracking service\n",
    "os.environ[\"MLFLOW_TRACKING_URI\"] = MLFLOW_TRACKING_URI\n",
    "\n",
    "# Base API address\n",
    "RESTAPI_API_BASE = f\"{RESTAPI_ADDRESS}/api\"\n",
    "\n",
    "# Path to workflows archive\n",
    "WORKFLOWS_TAR_GZ = Path(\"workflows.tar.gz\")\n",
    "\n",
    "# Import third-party Python packages\n",
    "import numpy as np\n",
    "import requests\n",
    "from mlflow.tracking import MlflowClient\n",
    "\n",
    "# Import utils.py file\n",
    "import utils\n",
    "\n",
    "# Create random number generator\n",
    "rng = np.random.default_rng(54399264723942495723666216079516778448)"
   ]
  },
  {
   "cell_type": "markdown",
   "metadata": {},
   "source": [
    "## Submit and run jobs"
   ]
  },
  {
   "cell_type": "markdown",
   "metadata": {},
   "source": [
    "The entrypoints that we will be running in this example are implemented in the Python source files under `src/` and the `MLproject` file.\n",
    "To run these entrypoints within the testbed architecture, we need to package those files up into an archive and submit it to the Testbed RESTful API to create a new job.\n",
    "For convenience, the `Makefile` provides a rule for creating the archive file for this example, just run `make workflows`,"
   ]
  },
  {
   "cell_type": "code",
   "execution_count": 2,
   "metadata": {},
   "outputs": [
    {
     "name": "stdout",
     "output_type": "stream",
     "text": [
      "tar  -czf workflows.tar.gz src/gaussian_augmentation.py src/infer.py src/train_with_madry_pgd_defense.py src/tasks.py src/deploy_poison_data.py src/gen_poison_data.py src/train.py src/import_keras.py src/spatial_smoothing.py src/jpeg_compression.py src/init_model.py src/gen_poison_clean_data.py src/gen_poison_model.py MLproject\n",
      "chmod 644 workflows.tar.gz\n"
     ]
    },
    {
     "name": "stderr",
     "output_type": "stream",
     "text": [
      "/home/hhuang/.conda/envs/tensorflow-mnist-classifier/lib/python3.7/site-packages/ipykernel/ipkernel.py:287: DeprecationWarning: `should_run_async` will not call `transform_cell` automatically in the future. Please pass the result to `transformed_cell` argument and any exception that happen during thetransform in `preprocessing_exc_tuple` in IPython 7.17 and above.\n",
      "  and should_run_async(code)\n"
     ]
    }
   ],
   "source": [
    "%%bash\n",
    "\n",
    "# Create the workflows.tar.gz file\n",
    "make workflows"
   ]
  },
  {
   "cell_type": "markdown",
   "metadata": {},
   "source": [
    "To connect with the endpoint, we will use a client class defined in the `utils.py` file that is able to connect with the Testbed RESTful API using the HTTP protocol.\n",
    "We connect using the client below, which uses the environment variable `AI_RESTAPI_URI` to figure out how to connect to the Testbed RESTful API,"
   ]
  },
  {
   "cell_type": "code",
   "execution_count": 3,
   "metadata": {},
   "outputs": [
    {
     "name": "stderr",
     "output_type": "stream",
     "text": [
      "/home/hhuang/.conda/envs/tensorflow-mnist-classifier/lib/python3.7/site-packages/ipykernel/ipkernel.py:287: DeprecationWarning: `should_run_async` will not call `transform_cell` automatically in the future. Please pass the result to `transformed_cell` argument and any exception that happen during thetransform in `preprocessing_exc_tuple` in IPython 7.17 and above.\n",
      "  and should_run_async(code)\n"
     ]
    }
   ],
   "source": [
    "restapi_client = utils.SecuringAIClient()"
   ]
  },
  {
   "cell_type": "markdown",
   "metadata": {},
   "source": [
    "We need to register an experiment under which to collect our job runs.\n",
    "The code below checks if the relevant experiment exists.\n",
    "If it does, then it just returns info about the experiment, if it doesn't, it then registers the new experiment."
   ]
  },
  {
   "cell_type": "code",
   "execution_count": 4,
   "metadata": {},
   "outputs": [
    {
     "data": {
      "text/plain": [
       "{'experimentId': 24,\n",
       " 'createdOn': '2021-02-11T09:13:02.448572',\n",
       " 'lastModified': '2021-02-11T09:13:02.448572',\n",
       " 'name': 'howard_mnist_backdoor_poison'}"
      ]
     },
     "execution_count": 4,
     "metadata": {},
     "output_type": "execute_result"
    }
   ],
   "source": [
    "response_experiment = restapi_client.get_experiment_by_name(name=EXPERIMENT_NAME)\n",
    "\n",
    "if response_experiment is None or \"Not Found\" in response_experiment.get(\"message\", []):\n",
    "    response_experiment = restapi_client.register_experiment(name=EXPERIMENT_NAME)\n",
    "\n",
    "response_experiment"
   ]
  },
  {
   "cell_type": "markdown",
   "metadata": {},
   "source": [
    "We should also check which queues are available for running our jobs to make sure that the resources that we need are available.\n",
    "The code below queries the Testbed API and returns a list of active queues."
   ]
  },
  {
   "cell_type": "code",
   "execution_count": 5,
   "metadata": {},
   "outputs": [
    {
     "data": {
      "text/plain": [
       "[{'name': 'tensorflow_cpu',\n",
       "  'createdOn': '2020-11-20T17:46:06.756687',\n",
       "  'lastModified': '2020-11-20T17:46:06.756687',\n",
       "  'queueId': 1},\n",
       " {'name': 'tensorflow_gpu',\n",
       "  'createdOn': '2020-11-20T18:00:40.876888',\n",
       "  'lastModified': '2020-11-20T18:00:40.876888',\n",
       "  'queueId': 2},\n",
       " {'name': 'pytorch_cpu',\n",
       "  'createdOn': '2020-11-20T19:52:36.079781',\n",
       "  'lastModified': '2020-11-20T19:52:36.079781',\n",
       "  'queueId': 5},\n",
       " {'name': 'pytorch_gpu',\n",
       "  'createdOn': '2020-11-20T19:52:43.348460',\n",
       "  'lastModified': '2020-11-20T19:52:43.348460',\n",
       "  'queueId': 7}]"
      ]
     },
     "execution_count": 5,
     "metadata": {},
     "output_type": "execute_result"
    }
   ],
   "source": [
    "restapi_client.list_queues()"
   ]
  },
  {
   "cell_type": "markdown",
   "metadata": {},
   "source": [
    "This example also makes use of the `custom_fgm_patch_poisoning_plugins` custom task plugin package stored locally under the `task-plugins/securingai_custom/custom_fgm_patch_poisoning_plugins` directory.\n",
    "To register these custom task plugins, we first need to package them up into an archive.\n",
    "For convenience, the `Makefile` provides a rule for creating the custom task plugins archive file, just run `make custom-plugins`,"
   ]
  },
  {
   "cell_type": "code",
   "execution_count": 6,
   "metadata": {},
   "outputs": [
    {
     "name": "stdout",
     "output_type": "stream",
     "text": [
      "tar -C task-plugins/securingai_custom -czf custom-plugins-evaluation.tar.gz custom_fgm_patch_poisoning_plugins/defenses_image_preprocessing.py custom_fgm_patch_poisoning_plugins/attacks_poison.py custom_fgm_patch_poisoning_plugins/tracking_mlflow_updated.py custom_fgm_patch_poisoning_plugins/tensorflow.py custom_fgm_patch_poisoning_plugins/import_keras.py custom_fgm_patch_poisoning_plugins/defenses_training.py custom_fgm_patch_poisoning_plugins/__init__.py custom_fgm_patch_poisoning_plugins/registry_art.py custom_fgm_patch_poisoning_plugins/estimators_keras_classifiers.py custom_fgm_patch_poisoning_plugins/data_tensorflow.py\n",
      "chmod 644 custom-plugins-evaluation.tar.gz\n"
     ]
    }
   ],
   "source": [
    "%%bash\n",
    "\n",
    "# Create the workflows.tar.gz file\n",
    "make custom-plugins"
   ]
  },
  {
   "cell_type": "markdown",
   "metadata": {},
   "source": [
    "Now that the custom task plugin package is packaged into an archive file, next we register it by uploading the file to the REST API.\n",
    "Note that we need to provide the name to use for custom task plugin package, this name must be unique under the custom task plugins namespace.\n",
    "For a full list of the custom task plugins, use `restapi_client.restapi_client.list_custom_task_plugins()`."
   ]
  },
  {
   "cell_type": "code",
   "execution_count": 7,
   "metadata": {},
   "outputs": [
    {
     "name": "stderr",
     "output_type": "stream",
     "text": [
      "/home/hhuang/.conda/envs/tensorflow-mnist-classifier/lib/python3.7/site-packages/ipykernel/ipkernel.py:287: DeprecationWarning: `should_run_async` will not call `transform_cell` automatically in the future. Please pass the result to `transformed_cell` argument and any exception that happen during thetransform in `preprocessing_exc_tuple` in IPython 7.17 and above.\n",
      "  and should_run_async(code)\n"
     ]
    },
    {
     "data": {
      "text/plain": [
       "{'modules': ['data_tensorflow.py',\n",
       "  'tensorflow.py',\n",
       "  'tracking_mlflow_updated.py',\n",
       "  'registry_art.py',\n",
       "  'defenses_training.py',\n",
       "  'attacks_poison.py',\n",
       "  '__init__.py',\n",
       "  'estimators_keras_classifiers.py',\n",
       "  'import_keras.py',\n",
       "  'defenses_image_preprocessing.py'],\n",
       " 'taskPluginName': 'custom_fgm_patch_poisoning_plugins',\n",
       " 'collection': 'securingai_custom'}"
      ]
     },
     "execution_count": 7,
     "metadata": {},
     "output_type": "execute_result"
    }
   ],
   "source": [
    "restapi_client.delete_custom_task_plugin(name=\"custom_fgm_patch_poisoning_plugins\")\n",
    "response_custom_plugins = restapi_client.get_custom_task_plugin(name=\"custom_fgm_patch_poisoning_plugins\")\n",
    "\n",
    "if response_custom_plugins is None or \"Not Found\" in response_custom_plugins.get(\"message\", []):\n",
    "    response_custom_plugins = restapi_client.upload_custom_plugin_package(\n",
    "        custom_plugin_name=\"custom_fgm_patch_poisoning_plugins\",\n",
    "        custom_plugin_file=CUSTOM_PLUGINS_EVALUATION_TAR_GZ,\n",
    "    )\n",
    "\n",
    "response_custom_plugins"
   ]
  },
  {
   "cell_type": "markdown",
   "metadata": {},
   "source": [
    "If at any point you need to update one or more files within the `evaluation` plugin package, you will need to unregister/delete the custom task plugin first using the REST API.\n",
    "This can be done as follows,"
   ]
  },
  {
   "cell_type": "markdown",
   "metadata": {},
   "source": [
    "```python\n",
    "# Delete the 'evaluation' custom task plugin package\n",
    "restapi_client.delete_custom_task_plugin(name=\"custom_fgm_patch_poisoning_plugins\")\n",
    "```"
   ]
  },
  {
   "cell_type": "markdown",
   "metadata": {},
   "source": [
    "The following helper functions will recheck the job responses until the job is completed or a run ID is available. \n",
    "The run ID is needed to link dependencies between jobs."
   ]
  },
  {
   "cell_type": "code",
   "execution_count": 8,
   "metadata": {},
   "outputs": [],
   "source": [
    "def mlflow_run_id_is_not_known(job_response):\n",
    "    return job_response[\"mlflowRunId\"] is None and job_response[\"status\"] not in [\n",
    "        \"failed\",\n",
    "        \"finished\",\n",
    "    ]\n",
    "\n",
    "\n",
    "def get_run_id(job_response):\n",
    "    while mlflow_run_id_is_not_known(job_response):\n",
    "        time.sleep(1)\n",
    "        job_response = restapi_client.get_job_by_id(job_response[\"jobId\"])\n",
    "        \n",
    "    return job_response\n",
    "\n",
    "\n",
    "def wait_until_finished(job_response):\n",
    "    # First make sure job has started.\n",
    "    job_response = get_run_id(job_response)\n",
    "    \n",
    "    # Next re-check job until it has stopped running.\n",
    "    while (job_response[\"status\"] not in [\"failed\", \"finished\"]):\n",
    "        time.sleep(1)\n",
    "        job_response = restapi_client.get_job_by_id(job_response[\"jobId\"])\n",
    "    \n",
    "    return job_response\n",
    "\n",
    "\n",
    "# Helper function for viewing MLflow results.\n",
    "def get_mlflow_results(job_response):\n",
    "    mlflow_client = MlflowClient()\n",
    "    job_response = wait_until_finished(job_response)\n",
    "    \n",
    "    if(job_response['status']==\"failed\"):\n",
    "        return {}\n",
    "    \n",
    "    run = mlflow_client.get_run(job_response[\"mlflowRunId\"])  \n",
    "    \n",
    "    while(len(run.data.metrics) == 0):\n",
    "        time.sleep(1)\n",
    "        run = mlflow_client.get_run(job_response[\"mlflowRunId\"])\n",
    "        \n",
    "    return run\n",
    "\n",
    "\n",
    "def print_mlflow_results(response):\n",
    "    results = get_mlflow_results(response)\n",
    "    pprint.pprint(results.data.metrics)"
   ]
  },
  {
   "cell_type": "markdown",
   "metadata": {},
   "source": [
    "## MNIST Training: Baseline Model"
   ]
  },
  {
   "cell_type": "markdown",
   "metadata": {},
   "source": [
    "Next, we need to train our baseline model that will serve as a reference point for the effectiveness of our attacks.\n",
    "We will be submitting our job to the `\"tensorflow_gpu\"` queue."
   ]
  },
  {
   "cell_type": "code",
   "execution_count": 9,
   "metadata": {},
   "outputs": [
    {
     "name": "stdout",
     "output_type": "stream",
     "text": [
      "Training job for LeNet-5 neural network submitted\n",
      "\n",
      "{'createdOn': '2021-07-15T06:51:17.324628',\n",
      " 'dependsOn': None,\n",
      " 'entryPoint': 'train',\n",
      " 'entryPointKwargs': '-P batch_size=256 -P '\n",
      "                     'register_model_name=howard_mnist_backdoor_poison_le_net '\n",
      "                     '-P model_architecture=le_net -P epochs=30 -P '\n",
      "                     'data_dir_training=/nfs/data/Mnist/training -P '\n",
      "                     'data_dir_testing=/nfs/data/Mnist/testing',\n",
      " 'experimentId': 24,\n",
      " 'jobId': '53c2cf79-5dcb-46d5-8fa1-e06a22f993a6',\n",
      " 'lastModified': '2021-07-15T06:51:17.324628',\n",
      " 'mlflowRunId': None,\n",
      " 'queueId': 2,\n",
      " 'status': 'queued',\n",
      " 'timeout': '1h',\n",
      " 'workflowUri': 's3://workflow/01705f698773451fbc4c0c8f037eb61a/workflows.tar.gz'}\n",
      "{'accuracy': 0.9770227670669556,\n",
      " 'auc': 0.9988901019096375,\n",
      " 'loss': 0.0778634323800676,\n",
      " 'precision': 0.9807555079460144,\n",
      " 'recall': 0.9735230207443237,\n",
      " 'restored_epoch': 2.0,\n",
      " 'stopped_epoch': 7.0,\n",
      " 'training_time_in_minutes': 5.387063266666667,\n",
      " 'val_accuracy': 0.9859119653701782,\n",
      " 'val_auc': 0.999152660369873,\n",
      " 'val_loss': 0.0466019456730561,\n",
      " 'val_precision': 0.9876987338066101,\n",
      " 'val_recall': 0.9839112758636475}\n"
     ]
    }
   ],
   "source": [
    "response_le_net_train = restapi_client.submit_job(\n",
    "    workflows_file=WORKFLOWS_TAR_GZ,\n",
    "    experiment_name=EXPERIMENT_NAME,\n",
    "    entry_point=\"train\",\n",
    "    entry_point_kwargs=\" \".join([\n",
    "        \"-P batch_size=256\",\n",
    "        f\"-P register_model_name={EXPERIMENT_NAME}_le_net\",\n",
    "        \"-P model_architecture=le_net\",\n",
    "        \"-P epochs=30\",\n",
    "        f\"-P data_dir_training={DATASET_DIR}/training\",\n",
    "        f\"-P data_dir_testing={DATASET_DIR}/testing\",\n",
    "    ]),\n",
    "    queue=\"tensorflow_gpu\",\n",
    "    timeout=\"1h\",    \n",
    ")\n",
    "\n",
    "print(\"Training job for LeNet-5 neural network submitted\")\n",
    "print(\"\")\n",
    "pprint.pprint(response_le_net_train)\n",
    "\n",
    "response_le_net_train = get_run_id(response_le_net_train)\n",
    "print_mlflow_results(response_le_net_train)"
   ]
  },
  {
   "cell_type": "markdown",
   "metadata": {},
   "source": [
    "### Generating Poisoned Images"
   ]
  },
  {
   "cell_type": "markdown",
   "metadata": {},
   "source": [
    "Now we will create our set of poisoned images.\n",
    "Start by submitting the poison generation job below."
   ]
  },
  {
   "cell_type": "code",
   "execution_count": 10,
   "metadata": {},
   "outputs": [
    {
     "name": "stdout",
     "output_type": "stream",
     "text": [
      "make: Nothing to be done for 'workflows'.\n"
     ]
    }
   ],
   "source": [
    "%%bash\n",
    "\n",
    "# Create the workflows.tar.gz file\n",
    "make workflows"
   ]
  },
  {
   "cell_type": "code",
   "execution_count": 11,
   "metadata": {},
   "outputs": [
    {
     "name": "stdout",
     "output_type": "stream",
     "text": [
      "Backdoor poison attack (LeNet-5 architecture) job submitted\n",
      "\n",
      "{'createdOn': '2021-07-15T06:57:06.598260',\n",
      " 'dependsOn': '53c2cf79-5dcb-46d5-8fa1-e06a22f993a6',\n",
      " 'entryPoint': 'gen_poison_data',\n",
      " 'entryPointKwargs': '-P data_dir=/nfs/data/Mnist/testing -P batch_size=100 -P '\n",
      "                     'target_class=1 -P poison_fraction=1 -P label_type=test',\n",
      " 'experimentId': 24,\n",
      " 'jobId': 'ff122ba8-728e-4a4d-b077-342334101e1b',\n",
      " 'lastModified': '2021-07-15T06:57:06.598260',\n",
      " 'mlflowRunId': None,\n",
      " 'queueId': 2,\n",
      " 'status': 'queued',\n",
      " 'timeout': '24h',\n",
      " 'workflowUri': 's3://workflow/8156fb630fe64977bbab94992d6963c0/workflows.tar.gz'}\n",
      "\n"
     ]
    },
    {
     "name": "stderr",
     "output_type": "stream",
     "text": [
      "/home/hhuang/.conda/envs/tensorflow-mnist-classifier/lib/python3.7/site-packages/ipykernel/ipkernel.py:287: DeprecationWarning: `should_run_async` will not call `transform_cell` automatically in the future. Please pass the result to `transformed_cell` argument and any exception that happen during thetransform in `preprocessing_exc_tuple` in IPython 7.17 and above.\n",
      "  and should_run_async(code)\n"
     ]
    }
   ],
   "source": [
    "## Create poisoned test images.\n",
    "response_gen_poison_le_net_test = restapi_client.submit_job(\n",
    "    workflows_file=WORKFLOWS_TAR_GZ,\n",
    "    experiment_name=EXPERIMENT_NAME,\n",
    "    entry_point=\"gen_poison_data\",\n",
    "    entry_point_kwargs=\" \".join(\n",
    "        [\n",
    "            f\"-P data_dir={DATASET_DIR}/testing\",\n",
    "            \"-P batch_size=100\",\n",
    "            \"-P target_class=1\",\n",
    "            \"-P poison_fraction=1\",\n",
    "            \"-P label_type=test\"\n",
    "        ]\n",
    "    ),\n",
    "    queue=\"tensorflow_gpu\",\n",
    "    depends_on=response_le_net_train[\"jobId\"],\n",
    ")\n",
    "\n",
    "print(\"Backdoor poison attack (LeNet-5 architecture) job submitted\")\n",
    "print(\"\")\n",
    "pprint.pprint(response_gen_poison_le_net_test)\n",
    "print(\"\")\n",
    "\n",
    "response_gen_poison_le_net_test = get_run_id(response_gen_poison_le_net_test)"
   ]
  },
  {
   "cell_type": "code",
   "execution_count": 12,
   "metadata": {},
   "outputs": [
    {
     "name": "stdout",
     "output_type": "stream",
     "text": [
      "Backdoor poison attack (LeNet-5 architecture) job submitted\n",
      "\n",
      "{'createdOn': '2021-07-15T06:57:13.745067',\n",
      " 'dependsOn': '53c2cf79-5dcb-46d5-8fa1-e06a22f993a6',\n",
      " 'entryPoint': 'gen_poison_data',\n",
      " 'entryPointKwargs': '-P data_dir=/nfs/data/Mnist/training -P batch_size=100 '\n",
      "                     '-P target_class=1 -P poison_fraction=0.1 -P '\n",
      "                     'label_type=train',\n",
      " 'experimentId': 24,\n",
      " 'jobId': 'a7d74f7f-2b6a-44fc-a92b-5f7059f2c6ef',\n",
      " 'lastModified': '2021-07-15T06:57:13.745067',\n",
      " 'mlflowRunId': None,\n",
      " 'queueId': 2,\n",
      " 'status': 'queued',\n",
      " 'timeout': '24h',\n",
      " 'workflowUri': 's3://workflow/c6587710f2284204806388c1914e70b5/workflows.tar.gz'}\n",
      "\n"
     ]
    }
   ],
   "source": [
    "## Create poisoned training images.\n",
    "response_gen_poison_le_net_train = restapi_client.submit_job(\n",
    "    workflows_file=WORKFLOWS_TAR_GZ,\n",
    "    experiment_name=EXPERIMENT_NAME,\n",
    "    entry_point=\"gen_poison_data\",\n",
    "    entry_point_kwargs=\" \".join(\n",
    "        [\n",
    "            f\"-P data_dir={DATASET_DIR}/training\",\n",
    "            \"-P batch_size=100\",\n",
    "            \"-P target_class=1\",\n",
    "            \"-P poison_fraction=0.1\",\n",
    "            \"-P label_type=train\"\n",
    "            \n",
    "        ]\n",
    "    ),\n",
    "    queue=\"tensorflow_gpu\",\n",
    "    depends_on=response_le_net_train[\"jobId\"],\n",
    ")\n",
    "\n",
    "print(\"Backdoor poison attack (LeNet-5 architecture) job submitted\")\n",
    "print(\"\")\n",
    "pprint.pprint(response_gen_poison_le_net_train)\n",
    "print(\"\")\n",
    "\n",
    "response_gen_poison_le_net_train = get_run_id(response_gen_poison_le_net_train)"
   ]
  },
  {
   "cell_type": "code",
   "execution_count": 13,
   "metadata": {},
   "outputs": [
    {
     "name": "stdout",
     "output_type": "stream",
     "text": [
      "Training job for LeNet-5 neural network submitted\n",
      "\n",
      "{'createdOn': '2021-07-15T06:57:20.896888',\n",
      " 'dependsOn': 'a7d74f7f-2b6a-44fc-a92b-5f7059f2c6ef',\n",
      " 'entryPoint': 'train',\n",
      " 'entryPointKwargs': '-P batch_size=256 -P '\n",
      "                     'register_model_name=howard_mnist_backdoor_poison_data_poison_le_net '\n",
      "                     '-P model_architecture=le_net -P epochs=30 -P '\n",
      "                     'data_dir_training=/nfs/data/Mnist/training -P '\n",
      "                     'data_dir_testing=/nfs/data/Mnist/testing -P '\n",
      "                     'load_dataset_from_mlruns=true -P '\n",
      "                     'dataset_run_id_training=599f6c80f57f48e28e2bbc82138a21c9 '\n",
      "                     '-P adv_tar_name=adversarial_poison.tar.gz -P '\n",
      "                     'adv_data_dir=adv_poison_data',\n",
      " 'experimentId': 24,\n",
      " 'jobId': 'c15601a5-3965-4c39-a10a-4a759994e26b',\n",
      " 'lastModified': '2021-07-15T06:57:20.896888',\n",
      " 'mlflowRunId': None,\n",
      " 'queueId': 2,\n",
      " 'status': 'queued',\n",
      " 'timeout': '1h',\n",
      " 'workflowUri': 's3://workflow/c1132a15b45c4481bad5138788efce75/workflows.tar.gz'}\n"
     ]
    }
   ],
   "source": [
    "# Train new model on poisoned training images\n",
    "response_le_net_poison_model = restapi_client.submit_job(\n",
    "    workflows_file=WORKFLOWS_TAR_GZ,\n",
    "    experiment_name=EXPERIMENT_NAME,\n",
    "    entry_point=\"train\",\n",
    "    entry_point_kwargs=\" \".join([\n",
    "        \"-P batch_size=256\",\n",
    "        f\"-P register_model_name={EXPERIMENT_NAME}_data_poison_le_net\",\n",
    "        \"-P model_architecture=le_net\",\n",
    "        \"-P epochs=30\",\n",
    "        f\"-P data_dir_training={DATASET_DIR}/training\",\n",
    "        f\"-P data_dir_testing={DATASET_DIR}/testing\",\n",
    "        \"-P load_dataset_from_mlruns=true\",\n",
    "        f\"-P dataset_run_id_training={response_gen_poison_le_net_train['mlflowRunId']}\",\n",
    "        \"-P adv_tar_name=adversarial_poison.tar.gz\",\n",
    "        \"-P adv_data_dir=adv_poison_data\"\n",
    "    ]),\n",
    "    queue=\"tensorflow_gpu\",\n",
    "    depends_on=response_gen_poison_le_net_train [\"jobId\"],\n",
    "    timeout=\"1h\",\n",
    "    \n",
    ")\n",
    "\n",
    "print(\"Training job for LeNet-5 neural network submitted\")\n",
    "print(\"\")\n",
    "pprint.pprint(response_le_net_poison_model)\n",
    "\n",
    "response_le_net_poison_model = get_run_id(response_le_net_poison_model)    "
   ]
  },
  {
   "cell_type": "code",
   "execution_count": 14,
   "metadata": {},
   "outputs": [
    {
     "name": "stdout",
     "output_type": "stream",
     "text": [
      "Inference job for LeNet-5 neural network submitted\n",
      "\n",
      "{'createdOn': '2021-07-15T06:59:03.401582',\n",
      " 'dependsOn': 'a7d74f7f-2b6a-44fc-a92b-5f7059f2c6ef',\n",
      " 'entryPoint': 'infer',\n",
      " 'entryPointKwargs': '-P run_id=42575f76522241b9a25c69f044aff12c -P '\n",
      "                     'model_name=howard_mnist_backdoor_poison_le_net -P '\n",
      "                     'model_version=none -P batch_size=512 -P '\n",
      "                     'adv_tar_name=adversarial_poison.tar.gz -P '\n",
      "                     'adv_data_dir=adv_poison_data',\n",
      " 'experimentId': 24,\n",
      " 'jobId': '09c90906-b29f-4f7f-b1e8-8be25750e5a5',\n",
      " 'lastModified': '2021-07-15T06:59:03.401582',\n",
      " 'mlflowRunId': None,\n",
      " 'queueId': 2,\n",
      " 'status': 'queued',\n",
      " 'timeout': '24h',\n",
      " 'workflowUri': 's3://workflow/6ab1441c32f549f0bc575404105054ac/workflows.tar.gz'}\n",
      "{'accuracy': 0.9871000051498413,\n",
      " 'auc': 0.9994533061981201,\n",
      " 'loss': 0.03823211146518588,\n",
      " 'precision': 0.9886603355407715,\n",
      " 'recall': 0.9851999878883362}\n"
     ]
    }
   ],
   "source": [
    "# Inference: Regular model on poisoned test images.\n",
    "response_infer_reg_model = restapi_client.submit_job(\n",
    "    workflows_file=WORKFLOWS_TAR_GZ,\n",
    "    experiment_name=EXPERIMENT_NAME,\n",
    "    entry_point=\"infer\",\n",
    "    entry_point_kwargs=\" \".join(\n",
    "        [            \n",
    "            f\"-P run_id={response_gen_poison_le_net_test['mlflowRunId']}\",\n",
    "            f\"-P model_name={EXPERIMENT_NAME}_le_net\",\n",
    "            f\"-P model_version=none\",\n",
    "            \"-P batch_size=512\",\n",
    "            \"-P adv_tar_name=adversarial_poison.tar.gz\",\n",
    "            \"-P adv_data_dir=adv_poison_data\",\n",
    "        ]\n",
    "    ),\n",
    "    queue=\"tensorflow_gpu\",\n",
    "    depends_on=response_gen_poison_le_net_train[\"jobId\"],\n",
    ")\n",
    "\n",
    "print(\"Inference job for LeNet-5 neural network submitted\")\n",
    "print(\"\")\n",
    "pprint.pprint(response_infer_reg_model)\n",
    "\n",
    "print_mlflow_results(response_infer_reg_model)"
   ]
  },
  {
   "cell_type": "code",
   "execution_count": 15,
   "metadata": {},
   "outputs": [
    {
     "name": "stdout",
     "output_type": "stream",
     "text": [
      "Inference job for LeNet-5 neural network submitted\n",
      "\n",
      "{'createdOn': '2021-07-15T06:59:25.884461',\n",
      " 'dependsOn': 'c15601a5-3965-4c39-a10a-4a759994e26b',\n",
      " 'entryPoint': 'infer',\n",
      " 'entryPointKwargs': '-P run_id=42575f76522241b9a25c69f044aff12c -P '\n",
      "                     'model_name=howard_mnist_backdoor_poison_data_poison_le_net '\n",
      "                     '-P model_version=none -P batch_size=512 -P '\n",
      "                     'adv_tar_name=adversarial_poison.tar.gz -P '\n",
      "                     'adv_data_dir=adv_poison_data',\n",
      " 'experimentId': 24,\n",
      " 'jobId': 'c046a0df-0a9d-4f8c-b10f-a82a0983fa40',\n",
      " 'lastModified': '2021-07-15T06:59:25.884461',\n",
      " 'mlflowRunId': None,\n",
      " 'queueId': 2,\n",
      " 'status': 'queued',\n",
      " 'timeout': '24h',\n",
      " 'workflowUri': 's3://workflow/e5ff45268bce48b8a0a1a227af6bbf50/workflows.tar.gz'}\n",
      "{'accuracy': 0.11349999904632568,\n",
      " 'auc': 0.5077235698699951,\n",
      " 'loss': 17.12834053039551,\n",
      " 'precision': 0.11349999904632568,\n",
      " 'recall': 0.11349999904632568}\n"
     ]
    }
   ],
   "source": [
    "# Inference: Poisoned model on poisoned test images.\n",
    "response_infer_pos_model = restapi_client.submit_job(\n",
    "    workflows_file=WORKFLOWS_TAR_GZ,\n",
    "    experiment_name=EXPERIMENT_NAME,\n",
    "    entry_point=\"infer\",\n",
    "    entry_point_kwargs=\" \".join(\n",
    "        [            \n",
    "            f\"-P run_id={response_gen_poison_le_net_test['mlflowRunId']}\",\n",
    "            f\"-P model_name={EXPERIMENT_NAME}_data_poison_le_net\",\n",
    "            f\"-P model_version=none\",\n",
    "            \"-P batch_size=512\",\n",
    "            \"-P adv_tar_name=adversarial_poison.tar.gz\",\n",
    "            \"-P adv_data_dir=adv_poison_data\",\n",
    "        ]\n",
    "    ),\n",
    "    queue=\"tensorflow_gpu\",\n",
    "    depends_on=response_le_net_poison_model[\"jobId\"],\n",
    ")\n",
    "\n",
    "print(\"Inference job for LeNet-5 neural network submitted\")\n",
    "print(\"\")\n",
    "pprint.pprint(response_infer_pos_model)\n",
    "\n",
    "print_mlflow_results(response_infer_pos_model)"
   ]
  },
  {
   "cell_type": "markdown",
   "metadata": {},
   "source": [
    "## Defending against the adversarial backdoor poisoning attack"
   ]
  },
  {
   "cell_type": "markdown",
   "metadata": {},
   "source": [
    "Now we will explore available defenses on the adversarial backdoor poisoning attack.\n",
    "The following three jobs will run a selected defense (spatial smoothing, gaussian augmentation, or jpeg compression) and evaluate the defense on the baseline and backdoor trained models.\n",
    "\n",
    "- The first job uses the selected defense entrypoint to apply a preprocessing defense over the poisoned test images.\n",
    "- The second job runs the defended images against the poisoned backdoor model.\n",
    "- The final job runs the defended images against the baseline model.\n",
    "\n",
    "Ideally the defense will not impact the baseline model accuracy, while improving the backdoor model accuracy scores."
   ]
  },
  {
   "cell_type": "code",
   "execution_count": 16,
   "metadata": {},
   "outputs": [
    {
     "name": "stdout",
     "output_type": "stream",
     "text": [
      "spatial_smoothing defense (LeNet architecture) job submitted\n",
      "\n",
      "{'createdOn': '2021-07-15T07:01:49.926120',\n",
      " 'dependsOn': 'ff122ba8-728e-4a4d-b077-342334101e1b',\n",
      " 'entryPoint': 'spatial_smoothing',\n",
      " 'entryPointKwargs': '-P data_dir=/nfs/data/Mnist/testing -P batch_size=20 -P '\n",
      "                     'load_dataset_from_mlruns=true -P '\n",
      "                     'dataset_run_id=42575f76522241b9a25c69f044aff12c -P '\n",
      "                     'dataset_tar_name=adversarial_poison.tar.gz -P '\n",
      "                     'dataset_name=adv_poison_data',\n",
      " 'experimentId': 24,\n",
      " 'jobId': '7f478581-907b-4939-9120-cde1c3549945',\n",
      " 'lastModified': '2021-07-15T07:01:49.926120',\n",
      " 'mlflowRunId': None,\n",
      " 'queueId': 2,\n",
      " 'status': 'queued',\n",
      " 'timeout': '24h',\n",
      " 'workflowUri': 's3://workflow/64d5792ca48b47d2baada33e7ff3fdc4/workflows.tar.gz'}\n",
      "\n"
     ]
    }
   ],
   "source": [
    "defenses = [\"gaussian_augmentation\", \"spatial_smoothing\", \"jpeg_compression\"]\n",
    "defense = defenses[1]\n",
    "\n",
    "response_poison_def = restapi_client.submit_job(\n",
    "    workflows_file=WORKFLOWS_TAR_GZ,\n",
    "    experiment_name=EXPERIMENT_NAME,\n",
    "    entry_point=defense,\n",
    "    entry_point_kwargs=\" \".join(\n",
    "        [\n",
    "            f\"-P data_dir={DATASET_DIR}/testing\",\n",
    "            \"-P batch_size=20\",\n",
    "            \"-P load_dataset_from_mlruns=true\",\n",
    "            f\"-P dataset_run_id={response_gen_poison_le_net_test['mlflowRunId']}\",\n",
    "            \"-P dataset_tar_name=adversarial_poison.tar.gz\",\n",
    "            \"-P dataset_name=adv_poison_data\",\n",
    "            \n",
    "        ]\n",
    "    ),\n",
    "    queue=\"tensorflow_gpu\",\n",
    "    depends_on=response_gen_poison_le_net_test[\"jobId\"],\n",
    ")\n",
    "\n",
    "\n",
    "print(f\"{defense} defense (LeNet architecture) job submitted\")\n",
    "print(\"\")\n",
    "pprint.pprint(response_poison_def)\n",
    "print(\"\")\n",
    "\n",
    "response_poison_def = get_run_id(response_poison_def)"
   ]
  },
  {
   "cell_type": "code",
   "execution_count": 17,
   "metadata": {},
   "outputs": [
    {
     "name": "stdout",
     "output_type": "stream",
     "text": [
      "Inference job for LeNet-5 neural network submitted\n",
      "\n",
      "{'createdOn': '2021-07-15T07:01:57.090425',\n",
      " 'dependsOn': '7f478581-907b-4939-9120-cde1c3549945',\n",
      " 'entryPoint': 'infer',\n",
      " 'entryPointKwargs': '-P run_id=e29165c09ae54e1f846d7d0982afc32e -P '\n",
      "                     'model_name=howard_mnist_backdoor_poison_data_poison_le_net '\n",
      "                     '-P model_version=none -P batch_size=512 -P '\n",
      "                     'adv_tar_name=spatial_smoothing_dataset.tar.gz -P '\n",
      "                     'adv_data_dir=adv_testing',\n",
      " 'experimentId': 24,\n",
      " 'jobId': '3895e56f-77e6-48e9-add8-71691fc98e73',\n",
      " 'lastModified': '2021-07-15T07:01:57.090425',\n",
      " 'mlflowRunId': None,\n",
      " 'queueId': 2,\n",
      " 'status': 'queued',\n",
      " 'timeout': '24h',\n",
      " 'workflowUri': 's3://workflow/9e25b680e0b44b7184f3add611cb413f/workflows.tar.gz'}\n",
      "{'accuracy': 0.9815999865531921,\n",
      " 'auc': 0.999536395072937,\n",
      " 'loss': 0.05960434582084417,\n",
      " 'precision': 0.9850055575370789,\n",
      " 'recall': 0.9787999987602234}\n"
     ]
    }
   ],
   "source": [
    "# Inference: Poisoned model on poisoned test images.\n",
    "response_infer_pos_model = restapi_client.submit_job(\n",
    "    workflows_file=WORKFLOWS_TAR_GZ,\n",
    "    experiment_name=EXPERIMENT_NAME,\n",
    "    entry_point=\"infer\",\n",
    "    entry_point_kwargs=\" \".join(\n",
    "        [\n",
    "            f\"-P run_id={response_poison_def['mlflowRunId']}\",\n",
    "            f\"-P model_name={EXPERIMENT_NAME}_data_poison_le_net\",\n",
    "            f\"-P model_version=none\",\n",
    "            \"-P batch_size=512\",\n",
    "            f\"-P adv_tar_name={defense}_dataset.tar.gz\",\n",
    "            \"-P adv_data_dir=adv_testing\",\n",
    "        ]\n",
    "    ),\n",
    "    queue=\"tensorflow_gpu\",\n",
    "    depends_on=response_poison_def[\"jobId\"],\n",
    ")\n",
    "\n",
    "print(\"Inference job for LeNet-5 neural network submitted\")\n",
    "print(\"\")\n",
    "pprint.pprint(response_infer_pos_model)\n",
    "print_mlflow_results(response_infer_pos_model)"
   ]
  },
  {
   "cell_type": "code",
   "execution_count": 18,
   "metadata": {},
   "outputs": [
    {
     "name": "stdout",
     "output_type": "stream",
     "text": [
      "Inference job for LeNet-5 neural network submitted\n",
      "\n",
      "{'createdOn': '2021-07-15T07:02:41.806242',\n",
      " 'dependsOn': '7f478581-907b-4939-9120-cde1c3549945',\n",
      " 'entryPoint': 'infer',\n",
      " 'entryPointKwargs': '-P run_id=e29165c09ae54e1f846d7d0982afc32e -P '\n",
      "                     'model_name=howard_mnist_backdoor_poison_le_net -P '\n",
      "                     'model_version=none -P batch_size=512 -P '\n",
      "                     'adv_tar_name=spatial_smoothing_dataset.tar.gz -P '\n",
      "                     'adv_data_dir=adv_testing',\n",
      " 'experimentId': 24,\n",
      " 'jobId': 'bce976e9-7d1a-458c-a6bd-b420e83565a1',\n",
      " 'lastModified': '2021-07-15T07:02:41.806242',\n",
      " 'mlflowRunId': None,\n",
      " 'queueId': 2,\n",
      " 'status': 'queued',\n",
      " 'timeout': '24h',\n",
      " 'workflowUri': 's3://workflow/a67dc72654d54e51b9b939e1b316d610/workflows.tar.gz'}\n",
      "{'accuracy': 0.982200026512146,\n",
      " 'auc': 0.9995614886283875,\n",
      " 'loss': 0.05481360368430614,\n",
      " 'precision': 0.9854109883308411,\n",
      " 'recall': 0.9793999791145325}\n"
     ]
    }
   ],
   "source": [
    "# Inference: Regular model on poisoned test images.\n",
    "response_infer_reg_model = restapi_client.submit_job(\n",
    "    workflows_file=WORKFLOWS_TAR_GZ,\n",
    "    experiment_name=EXPERIMENT_NAME,\n",
    "    entry_point=\"infer\",\n",
    "    entry_point_kwargs=\" \".join(\n",
    "        [\n",
    "            f\"-P run_id={response_poison_def['mlflowRunId']}\",\n",
    "            f\"-P model_name={EXPERIMENT_NAME}_le_net\",\n",
    "            f\"-P model_version=none\",\n",
    "            \"-P batch_size=512\",\n",
    "            f\"-P adv_tar_name={defense}_dataset.tar.gz\",\n",
    "            \"-P adv_data_dir=adv_testing\",\n",
    "        ]\n",
    "    ),\n",
    "    queue=\"tensorflow_gpu\",\n",
    "    depends_on=response_poison_def[\"jobId\"],\n",
    ")\n",
    "\n",
    "print(\"Inference job for LeNet-5 neural network submitted\")\n",
    "print(\"\")\n",
    "pprint.pprint(response_infer_reg_model)\n",
    "print_mlflow_results(response_infer_reg_model)\n"
   ]
  },
  {
   "cell_type": "markdown",
   "metadata": {},
   "source": [
    "<a id='querying_cell'></a>\n",
    "## Querying the MLFlow Tracking Service"
   ]
  },
  {
   "cell_type": "markdown",
   "metadata": {},
   "source": [
    "Currently the lab API can only be used to register experiments and start jobs, so if users wish to extract their results programmatically, they can use the `MlflowClient()` class from the `mlflow` Python package to connect and query their results.\n",
    "Since we captured the run ids generated by MLFlow, we can easily retrieve the data logged about one of our jobs and inspect the results.\n",
    "To start the client, we simply need to run,"
   ]
  },
  {
   "cell_type": "code",
   "execution_count": 19,
   "metadata": {},
   "outputs": [],
   "source": [
    "mlflow_client = MlflowClient()"
   ]
  },
  {
   "cell_type": "markdown",
   "metadata": {},
   "source": [
    "The client uses the environment variable `MLFLOW_TRACKING_URI` to figure out how to connect to the MLFlow Tracking Service, which we configured near the top of this notebook.\n",
    "To query the results of one of our runs, we just need to pass the run id to the client's `get_run()` method.\n",
    "As an example, let's query the run results for the patch attack applied to the LeNet-5 architecture,"
   ]
  },
  {
   "cell_type": "code",
   "execution_count": 20,
   "metadata": {},
   "outputs": [],
   "source": [
    "run_le_net = mlflow_client.get_run(response_le_net_train[\"mlflowRunId\"])"
   ]
  },
  {
   "cell_type": "markdown",
   "metadata": {},
   "source": [
    "If the request completed successfully, we should now be able to query data collected during the run.\n",
    "For example, to review the collected metrics, we just use,"
   ]
  },
  {
   "cell_type": "code",
   "execution_count": 21,
   "metadata": {},
   "outputs": [
    {
     "name": "stdout",
     "output_type": "stream",
     "text": [
      "{'accuracy': 0.9770227670669556,\n",
      " 'auc': 0.9988901019096375,\n",
      " 'loss': 0.0778634323800676,\n",
      " 'precision': 0.9807555079460144,\n",
      " 'recall': 0.9735230207443237,\n",
      " 'restored_epoch': 2.0,\n",
      " 'stopped_epoch': 7.0,\n",
      " 'training_time_in_minutes': 5.387063266666667,\n",
      " 'val_accuracy': 0.9859119653701782,\n",
      " 'val_auc': 0.999152660369873,\n",
      " 'val_loss': 0.0466019456730561,\n",
      " 'val_precision': 0.9876987338066101,\n",
      " 'val_recall': 0.9839112758636475}\n"
     ]
    }
   ],
   "source": [
    "pprint.pprint(run_le_net.data.metrics)"
   ]
  },
  {
   "cell_type": "markdown",
   "metadata": {},
   "source": [
    "To review the run's parameters, we use,"
   ]
  },
  {
   "cell_type": "code",
   "execution_count": 22,
   "metadata": {},
   "outputs": [
    {
     "name": "stdout",
     "output_type": "stream",
     "text": [
      "{'adv_data_dir': 'adv_patch_dataset',\n",
      " 'adv_tar_name': 'adversarial_patch_dataset.tar.gz',\n",
      " 'baseline': 'None',\n",
      " 'batch_size': '256',\n",
      " 'data_dir_testing': '/nfs/data/Mnist/testing',\n",
      " 'data_dir_training': '/nfs/data/Mnist/training',\n",
      " 'dataset_run_id_testing': \"''\",\n",
      " 'dataset_run_id_training': \"''\",\n",
      " 'dataset_seed': '2132508671',\n",
      " 'entry_point_seed': '22674781371105050124662270946325565622',\n",
      " 'epochs': '30',\n",
      " 'image_size': '28,28,1',\n",
      " 'imagenet_preprocessing': 'false',\n",
      " 'learning_rate': '0.001',\n",
      " 'load_dataset_from_mlruns': 'False',\n",
      " 'min_delta': '-0.01',\n",
      " 'model_architecture': 'le_net',\n",
      " 'monitor': 'val_loss',\n",
      " 'opt_amsgrad': 'False',\n",
      " 'opt_beta_1': '0.9',\n",
      " 'opt_beta_2': '0.999',\n",
      " 'opt_decay': '0.0',\n",
      " 'opt_epsilon': '1e-07',\n",
      " 'opt_learning_rate': '0.001',\n",
      " 'opt_name': 'Adam',\n",
      " 'optimizer': 'Adam',\n",
      " 'patience': '5',\n",
      " 'register_model_name': 'howard_mnist_backdoor_poison_le_net',\n",
      " 'restore_best_weights': 'True',\n",
      " 'seed': '-1',\n",
      " 'tensorflow_global_seed': '452972086',\n",
      " 'validation_split': '0.2'}\n"
     ]
    }
   ],
   "source": [
    "pprint.pprint(run_le_net.data.params)"
   ]
  },
  {
   "cell_type": "markdown",
   "metadata": {},
   "source": [
    "To review the run's tags, we use,"
   ]
  },
  {
   "cell_type": "code",
   "execution_count": 23,
   "metadata": {},
   "outputs": [
    {
     "name": "stdout",
     "output_type": "stream",
     "text": [
      "{'mlflow.log-model.history': '[{\"run_id\": \"84566053ed52470498a16c7154886702\", '\n",
      "                             '\"artifact_path\": \"model\", \"utc_time_created\": '\n",
      "                             '\"2021-07-15 06:56:56.603735\", \"flavors\": '\n",
      "                             '{\"keras\": {\"keras_module\": '\n",
      "                             '\"tensorflow_core.keras\", \"keras_version\": '\n",
      "                             '\"2.2.4-tf\", \"data\": \"data\"}, \"python_function\": '\n",
      "                             '{\"loader_module\": \"mlflow.keras\", '\n",
      "                             '\"python_version\": \"3.7.10\", \"data\": \"data\", '\n",
      "                             '\"env\": \"conda.yaml\"}}}]',\n",
      " 'mlflow.project.backend': 'securingai',\n",
      " 'mlflow.project.entryPoint': 'train',\n",
      " 'mlflow.source.name': '/work/tmpcel4yx7x',\n",
      " 'mlflow.source.type': 'PROJECT',\n",
      " 'mlflow.user': 'securingai',\n",
      " 'securingai.dependsOn': 'None',\n",
      " 'securingai.jobId': '53c2cf79-5dcb-46d5-8fa1-e06a22f993a6',\n",
      " 'securingai.queue': 'tensorflow_gpu'}\n"
     ]
    }
   ],
   "source": [
    "pprint.pprint(run_le_net.data.tags)"
   ]
  },
  {
   "cell_type": "markdown",
   "metadata": {},
   "source": [
    "There are many things you can query using the MLFlow client.\n",
    "[The MLFlow documentation gives a full overview of the methods that are available](https://www.mlflow.org/docs/latest/python_api/mlflow.tracking.html#mlflow.tracking.MlflowClient)."
   ]
  }
 ],
 "metadata": {
  "interpreter": {
   "hash": "edee40310913f16e2ca02c1d37887bcb7f07f00399ca119bb7e27de7d632ea99"
  },
  "kernelspec": {
   "display_name": "Python 3",
   "language": "python",
   "name": "python3"
  },
  "language_info": {
   "codemirror_mode": {
    "name": "ipython",
    "version": 3
   },
   "file_extension": ".py",
   "mimetype": "text/x-python",
   "name": "python",
   "nbconvert_exporter": "python",
   "pygments_lexer": "ipython3",
   "version": "3.7.10"
  }
 },
 "nbformat": 4,
 "nbformat_minor": 4
}
