{
 "cells": [
  {
   "cell_type": "markdown",
   "metadata": {},
   "source": [
    "# Tensorflow MNIST-LeNet Patch Demo"
   ]
  },
  {
   "cell_type": "markdown",
   "metadata": {},
   "source": [
    "This notebook demonstrates the adversarial patch attack applied on the LeNet model, as well as preprocessing and adversarial training defenses.\n",
    "\n",
    "The following two sections cover experiment setup and is similar across all demos."
   ]
  },
  {
   "cell_type": "markdown",
   "metadata": {},
   "source": [
    "## Setup: Experiment Name and MNIST Dataset"
   ]
  },
  {
   "cell_type": "markdown",
   "metadata": {},
   "source": [
    "Here we will import the necessary Python modules and ensure the proper environment variables are set so that all the code blocks will work as expected.\n",
    "\n",
    "**Important: Users will need to verify or update the following parameters:**\n",
    "\n",
    "- Ensure that the `USERNAME` parameter is set to your own name.\n",
    "- Ensure that the `DATASET_DIR` parameter is set to the location of the MNIST dataset directory. Currently set to `/nfs/data/Mnist` as the default location.\n",
    "- (Optional) Set the `EXPERIMENT_NAME` parameter to your own preferred experiment name.\n",
    "\n",
    "Other parameters can be modified to alter the RESTful API and MLFlow tracking addresses. "
   ]
  },
  {
   "cell_type": "code",
   "execution_count": 1,
   "metadata": {},
   "outputs": [],
   "source": [
    "# Import packages from the Python standard library\n",
    "import os\n",
    "import pprint\n",
    "import time\n",
    "import warnings\n",
    "from pathlib import Path\n",
    "from typing import Tuple\n",
    "\n",
    "# Filter out warning messages\n",
    "warnings.filterwarnings(\"ignore\")\n",
    "\n",
    "# Please enter custom username here.\n",
    "USERNAME = \"howard\"\n",
    "\n",
    "# Ensure that the dataset location is properly set here.\n",
    "DATASET_DIR = \"/nfs/data/Mnist\"\n",
    "\n",
    "# Experiment name (note the username_ prefix convention)\n",
    "EXPERIMENT_NAME = f\"{USERNAME}_mnist_adversarial_patches\"\n",
    "\n",
    "# Address for connecting the docker container to exposed ports on the host device\n",
    "HOST_DOCKER_INTERNAL = \"host.docker.internal\"\n",
    "# HOST_DOCKER_INTERNAL = \"172.17.0.1\"\n",
    "\n",
    "# Testbed API ports\n",
    "RESTAPI_PORT = \"30080\"\n",
    "MLFLOW_TRACKING_PORT = \"35000\"\n",
    "\n",
    "# Default address for accessing the RESTful API service\n",
    "RESTAPI_ADDRESS = (\n",
    "    f\"http://{HOST_DOCKER_INTERNAL}:{RESTAPI_PORT}\"\n",
    "    if os.getenv(\"IS_JUPYTER_SERVICE\")\n",
    "    else f\"http://localhost:{RESTAPI_PORT}\"\n",
    ")\n",
    "\n",
    "# Override the AI_RESTAPI_URI variable, used to connect to RESTful API service\n",
    "os.environ[\"AI_RESTAPI_URI\"] = RESTAPI_ADDRESS\n",
    "\n",
    "# Default address for accessing the MLFlow Tracking server\n",
    "MLFLOW_TRACKING_URI = (\n",
    "    f\"http://{HOST_DOCKER_INTERNAL}:{MLFLOW_TRACKING_PORT}\"\n",
    "    if os.getenv(\"IS_JUPYTER_SERVICE\")\n",
    "    else f\"http://localhost:{MLFLOW_TRACKING_PORT}\"\n",
    ")\n",
    "\n",
    "# Path to custom task plugins archives\n",
    "CUSTOM_PLUGINS_EVALUATION_TAR_GZ = Path(\"custom-plugins-evaluation.tar.gz\")\n",
    "\n",
    "# Override the MLFLOW_TRACKING_URI variable, used to connect to MLFlow Tracking service\n",
    "os.environ[\"MLFLOW_TRACKING_URI\"] = MLFLOW_TRACKING_URI\n",
    "\n",
    "# Base API address\n",
    "RESTAPI_API_BASE = f\"{RESTAPI_ADDRESS}/api\"\n",
    "\n",
    "# Path to workflows archive\n",
    "WORKFLOWS_TAR_GZ = Path(\"workflows.tar.gz\")\n",
    "\n",
    "# Import third-party Python packages\n",
    "import numpy as np\n",
    "import requests\n",
    "from mlflow.tracking import MlflowClient\n",
    "\n",
    "# Import utils.py file\n",
    "import utils\n",
    "\n",
    "# Create random number generator\n",
    "rng = np.random.default_rng(54399264723942495723666216079516778448)"
   ]
  },
  {
   "cell_type": "markdown",
   "metadata": {},
   "source": [
    "## Dataset"
   ]
  },
  {
   "cell_type": "markdown",
   "metadata": {},
   "source": [
    "The training and testing images in this directory are saved as PNG files and are organized into the following folder structure,"
   ]
  },
  {
   "cell_type": "markdown",
   "metadata": {},
   "source": [
    "    Mnist\n",
    "    ├── testing\n",
    "    │   ├── 0\n",
    "    │   ├── 1\n",
    "    │   ├── 2\n",
    "    │   ├── 3\n",
    "    │   ├── 4\n",
    "    │   ├── 5\n",
    "    │   ├── 6\n",
    "    │   ├── 7\n",
    "    │   ├── 8\n",
    "    │   └── 9\n",
    "    └── training\n",
    "        ├── 0\n",
    "        ├── 1\n",
    "        ├── 2\n",
    "        ├── 3\n",
    "        ├── 4\n",
    "        ├── 5\n",
    "        ├── 6\n",
    "        ├── 7\n",
    "        ├── 8\n",
    "        └── 9"
   ]
  },
  {
   "cell_type": "markdown",
   "metadata": {},
   "source": [
    "The subfolders under `Mnist/training/` and `Mnist/testing/` are the classification labels for the images in the dataset.\n",
    "This folder structure is a standardized way to encode the label information and many libraries can make use of it, including the Tensorflow library that we are using for this particular demo."
   ]
  },
  {
   "cell_type": "markdown",
   "metadata": {},
   "source": [
    "## Submit and run jobs"
   ]
  },
  {
   "cell_type": "markdown",
   "metadata": {},
   "source": [
    "The entrypoints that we will be running in this example are implemented in the Python source files under `src/` and the `MLproject` file.\n",
    "To run these entrypoints within the testbed architecture, we need to package those files up into an archive and submit it to the Testbed RESTful API to create a new job.\n",
    "For convenience, the `Makefile` provides a rule for creating the archive file for this example, just run `make workflows`,"
   ]
  },
  {
   "cell_type": "code",
   "execution_count": 2,
   "metadata": {},
   "outputs": [
    {
     "name": "stdout",
     "output_type": "stream",
     "text": [
      "make: Nothing to be done for 'workflows'.\n"
     ]
    },
    {
     "name": "stderr",
     "output_type": "stream",
     "text": [
      "/home/hhuang/.conda/envs/tensorflow-mnist-classifier/lib/python3.7/site-packages/ipykernel/ipkernel.py:287: DeprecationWarning: `should_run_async` will not call `transform_cell` automatically in the future. Please pass the result to `transformed_cell` argument and any exception that happen during thetransform in `preprocessing_exc_tuple` in IPython 7.17 and above.\n",
      "  and should_run_async(code)\n"
     ]
    }
   ],
   "source": [
    "%%bash\n",
    "\n",
    "# Create the workflows.tar.gz file\n",
    "make workflows"
   ]
  },
  {
   "cell_type": "markdown",
   "metadata": {},
   "source": [
    "To connect with the endpoint, we will use a client class defined in the `utils.py` file that is able to connect with the Testbed RESTful API using the HTTP protocol.\n",
    "We connect using the client below, which uses the environment variable `AI_RESTAPI_URI` to figure out how to connect to the Testbed RESTful API,"
   ]
  },
  {
   "cell_type": "code",
   "execution_count": 3,
   "metadata": {},
   "outputs": [
    {
     "name": "stderr",
     "output_type": "stream",
     "text": [
      "/home/hhuang/.conda/envs/tensorflow-mnist-classifier/lib/python3.7/site-packages/ipykernel/ipkernel.py:287: DeprecationWarning: `should_run_async` will not call `transform_cell` automatically in the future. Please pass the result to `transformed_cell` argument and any exception that happen during thetransform in `preprocessing_exc_tuple` in IPython 7.17 and above.\n",
      "  and should_run_async(code)\n"
     ]
    }
   ],
   "source": [
    "restapi_client = utils.SecuringAIClient()"
   ]
  },
  {
   "cell_type": "markdown",
   "metadata": {},
   "source": [
    "We need to register an experiment under which to collect our job runs.\n",
    "The code below checks if the relevant experiment exists.\n",
    "If it does, then it just returns info about the experiment, if it doesn't, it then registers the new experiment."
   ]
  },
  {
   "cell_type": "code",
   "execution_count": 4,
   "metadata": {},
   "outputs": [
    {
     "data": {
      "text/plain": [
       "{'experimentId': 10,\n",
       " 'createdOn': '2020-11-05T08:45:14.946823',\n",
       " 'lastModified': '2020-11-05T08:45:14.946823',\n",
       " 'name': 'howard_mnist_adversarial_patches'}"
      ]
     },
     "execution_count": 4,
     "metadata": {},
     "output_type": "execute_result"
    }
   ],
   "source": [
    "response_experiment = restapi_client.get_experiment_by_name(name=EXPERIMENT_NAME)\n",
    "\n",
    "if response_experiment is None or \"Not Found\" in response_experiment.get(\"message\", []):\n",
    "    response_experiment = restapi_client.register_experiment(name=EXPERIMENT_NAME)\n",
    "\n",
    "response_experiment"
   ]
  },
  {
   "cell_type": "markdown",
   "metadata": {},
   "source": [
    "We should also check which queues are available for running our jobs to make sure that the resources that we need are available.\n",
    "The code below queries the Testbed API and returns a list of active queues."
   ]
  },
  {
   "cell_type": "code",
   "execution_count": 5,
   "metadata": {},
   "outputs": [
    {
     "data": {
      "text/plain": [
       "[{'name': 'tensorflow_cpu',\n",
       "  'createdOn': '2020-11-20T17:46:06.756687',\n",
       "  'lastModified': '2020-11-20T17:46:06.756687',\n",
       "  'queueId': 1},\n",
       " {'name': 'tensorflow_gpu',\n",
       "  'createdOn': '2020-11-20T18:00:40.876888',\n",
       "  'lastModified': '2020-11-20T18:00:40.876888',\n",
       "  'queueId': 2},\n",
       " {'name': 'pytorch_cpu',\n",
       "  'createdOn': '2020-11-20T19:52:36.079781',\n",
       "  'lastModified': '2020-11-20T19:52:36.079781',\n",
       "  'queueId': 5},\n",
       " {'name': 'pytorch_gpu',\n",
       "  'createdOn': '2020-11-20T19:52:43.348460',\n",
       "  'lastModified': '2020-11-20T19:52:43.348460',\n",
       "  'queueId': 7}]"
      ]
     },
     "execution_count": 5,
     "metadata": {},
     "output_type": "execute_result"
    }
   ],
   "source": [
    "restapi_client.list_queues()"
   ]
  },
  {
   "cell_type": "markdown",
   "metadata": {},
   "source": [
    "This example also makes use of the `custom_fgm_patch_poisoning_plugins` custom task plugin package stored locally under the `task-plugins/securingai_custom/custom_fgm_patch_poisoning_plugins` directory.\n",
    "To register these custom task plugins, we first need to package them up into an archive.\n",
    "For convenience, the `Makefile` provides a rule for creating the custom task plugins archive file, just run `make custom-plugins`,"
   ]
  },
  {
   "cell_type": "code",
   "execution_count": 6,
   "metadata": {},
   "outputs": [
    {
     "name": "stdout",
     "output_type": "stream",
     "text": [
      "make: Nothing to be done for 'custom-plugins'.\n"
     ]
    }
   ],
   "source": [
    "%%bash\n",
    "\n",
    "# Create the workflows.tar.gz file\n",
    "make custom-plugins"
   ]
  },
  {
   "cell_type": "markdown",
   "metadata": {},
   "source": [
    "Now that the custom task plugin package is packaged into an archive file, next we register it by uploading the file to the REST API.\n",
    "Note that we need to provide the name to use for custom task plugin package, this name must be unique under the custom task plugins namespace.\n",
    "For a full list of the custom task plugins, use `restapi_client.restapi_client.list_custom_task_plugins()`."
   ]
  },
  {
   "cell_type": "code",
   "execution_count": 7,
   "metadata": {},
   "outputs": [
    {
     "name": "stderr",
     "output_type": "stream",
     "text": [
      "/home/hhuang/.conda/envs/tensorflow-mnist-classifier/lib/python3.7/site-packages/ipykernel/ipkernel.py:287: DeprecationWarning: `should_run_async` will not call `transform_cell` automatically in the future. Please pass the result to `transformed_cell` argument and any exception that happen during thetransform in `preprocessing_exc_tuple` in IPython 7.17 and above.\n",
      "  and should_run_async(code)\n"
     ]
    },
    {
     "data": {
      "text/plain": [
       "{'modules': ['data_tensorflow.py',\n",
       "  'tensorflow.py',\n",
       "  'attacks_patch.py',\n",
       "  'registry_art.py',\n",
       "  '__init__.py',\n",
       "  'estimators_keras_classifiers.py',\n",
       "  'import_keras.py',\n",
       "  'defenses_image_preprocessing.py'],\n",
       " 'taskPluginName': 'custom_fgm_patch_poisoning_plugins',\n",
       " 'collection': 'securingai_custom'}"
      ]
     },
     "execution_count": 7,
     "metadata": {},
     "output_type": "execute_result"
    }
   ],
   "source": [
    "restapi_client.delete_custom_task_plugin(name=\"custom_fgm_patch_poisoning_plugins\")\n",
    "response_custom_plugins = restapi_client.get_custom_task_plugin(name=\"custom_fgm_patch_poisoning_plugins\")\n",
    "\n",
    "if response_custom_plugins is None or \"Not Found\" in response_custom_plugins.get(\"message\", []):\n",
    "    response_custom_plugins = restapi_client.upload_custom_plugin_package(\n",
    "        custom_plugin_name=\"custom_fgm_patch_poisoning_plugins\",\n",
    "        custom_plugin_file=CUSTOM_PLUGINS_EVALUATION_TAR_GZ,\n",
    "    )\n",
    "\n",
    "response_custom_plugins"
   ]
  },
  {
   "cell_type": "markdown",
   "metadata": {},
   "source": [
    "If at any point you need to update one or more files within the `evaluation` plugin package, you will need to unregister/delete the custom task plugin first using the REST API.\n",
    "This can be done as follows,"
   ]
  },
  {
   "cell_type": "markdown",
   "metadata": {},
   "source": [
    "```python\n",
    "# Delete the 'evaluation' custom task plugin package\n",
    "restapi_client.delete_custom_task_plugin(name=\"custom_fgm_patch_poisoning_plugins\")\n",
    "```"
   ]
  },
  {
   "cell_type": "markdown",
   "metadata": {},
   "source": [
    "## Adversarial Patches: Baseline MNIST Training"
   ]
  },
  {
   "cell_type": "markdown",
   "metadata": {},
   "source": [
    "Now, we will train our baseline LeNet-5 model on the MNIST dataset. \n",
    "We will be submitting our jobs to the `\"tensorflow_gpu\"` queue.\n",
    "Once the experiment is finished, we will examine the accuracy results of our model."
   ]
  },
  {
   "cell_type": "code",
   "execution_count": 8,
   "metadata": {},
   "outputs": [
    {
     "name": "stdout",
     "output_type": "stream",
     "text": [
      "Training job for LeNet-5 neural network submitted\n",
      "\n",
      "{'createdOn': '2021-07-15T04:21:39.258552',\n",
      " 'dependsOn': None,\n",
      " 'entryPoint': 'train',\n",
      " 'entryPointKwargs': '-P batch_size=256 -P '\n",
      "                     'register_model_name=howard_mnist_adversarial_patches_le_net '\n",
      "                     '-P model_architecture=le_net -P epochs=30 -P '\n",
      "                     'data_dir_training=/nfs/data/Mnist/training -P '\n",
      "                     'data_dir_testing=/nfs/data/Mnist/testing',\n",
      " 'experimentId': 10,\n",
      " 'jobId': '41b854f6-5e5e-4f76-acc9-a9de2c3b3cdc',\n",
      " 'lastModified': '2021-07-15T04:21:39.258552',\n",
      " 'mlflowRunId': None,\n",
      " 'queueId': 2,\n",
      " 'status': 'queued',\n",
      " 'timeout': '1h',\n",
      " 'workflowUri': 's3://workflow/e1383e75b2034881b3ca5d7dce00a7b9/workflows.tar.gz'}\n"
     ]
    }
   ],
   "source": [
    "# Create and submit training job.\n",
    "response_le_net_train = restapi_client.submit_job(\n",
    "    workflows_file=WORKFLOWS_TAR_GZ,\n",
    "    experiment_name=EXPERIMENT_NAME,\n",
    "    entry_point=\"train\",\n",
    "    entry_point_kwargs=\" \".join([\n",
    "        \"-P batch_size=256\",\n",
    "        f\"-P register_model_name={EXPERIMENT_NAME}_le_net\",\n",
    "        \"-P model_architecture=le_net\",\n",
    "        \"-P epochs=30\",\n",
    "        f\"-P data_dir_training={DATASET_DIR}/training\",\n",
    "        f\"-P data_dir_testing={DATASET_DIR}/testing\",\n",
    "    ]),\n",
    "    queue=\"tensorflow_gpu\",\n",
    "    timeout=\"1h\",\n",
    ")\n",
    "\n",
    "print(\"Training job for LeNet-5 neural network submitted\")\n",
    "print(\"\")\n",
    "pprint.pprint(response_le_net_train)"
   ]
  },
  {
   "cell_type": "markdown",
   "metadata": {},
   "source": [
    "The following helper functions will recheck the job responses until the job is completed or a run ID is available. \n",
    "The run ID is needed to link dependencies between jobs."
   ]
  },
  {
   "cell_type": "code",
   "execution_count": 9,
   "metadata": {},
   "outputs": [],
   "source": [
    "def mlflow_run_id_is_not_known(job_response):\n",
    "    return job_response[\"mlflowRunId\"] is None and job_response[\"status\"] not in [\n",
    "        \"failed\",\n",
    "        \"finished\",\n",
    "    ]\n",
    "\n",
    "\n",
    "def get_run_id(job_response):\n",
    "    while mlflow_run_id_is_not_known(job_response):\n",
    "        time.sleep(1)\n",
    "        job_response = restapi_client.get_job_by_id(job_response[\"jobId\"])\n",
    "        \n",
    "    return job_response\n",
    "\n",
    "\n",
    "def wait_until_finished(job_response):\n",
    "    # First make sure job has started.\n",
    "    job_response = get_run_id(job_response)\n",
    "    \n",
    "    # Next re-check job until it has stopped running.\n",
    "    while (job_response[\"status\"] not in [\"failed\", \"finished\"]):\n",
    "        time.sleep(1)\n",
    "        job_response = restapi_client.get_job_by_id(job_response[\"jobId\"])\n",
    "    \n",
    "    return job_response"
   ]
  },
  {
   "cell_type": "markdown",
   "metadata": {},
   "source": [
    "Now wait for the job to complete before proceeding to next steps."
   ]
  },
  {
   "cell_type": "code",
   "execution_count": 10,
   "metadata": {},
   "outputs": [
    {
     "name": "stdout",
     "output_type": "stream",
     "text": [
      "Training job for LeNet-5 neural network\n",
      "{'createdOn': '2021-07-15T04:21:39.258552',\n",
      " 'dependsOn': None,\n",
      " 'entryPoint': 'train',\n",
      " 'entryPointKwargs': '-P batch_size=256 -P '\n",
      "                     'register_model_name=howard_mnist_adversarial_patches_le_net '\n",
      "                     '-P model_architecture=le_net -P epochs=30 -P '\n",
      "                     'data_dir_training=/nfs/data/Mnist/training -P '\n",
      "                     'data_dir_testing=/nfs/data/Mnist/testing',\n",
      " 'experimentId': 10,\n",
      " 'jobId': '41b854f6-5e5e-4f76-acc9-a9de2c3b3cdc',\n",
      " 'lastModified': '2021-07-15T04:30:45.822947',\n",
      " 'mlflowRunId': '27d21d3cdec44f8486140a5fc58ea16e',\n",
      " 'queueId': 2,\n",
      " 'status': 'finished',\n",
      " 'timeout': '1h',\n",
      " 'workflowUri': 's3://workflow/e1383e75b2034881b3ca5d7dce00a7b9/workflows.tar.gz'}\n"
     ]
    }
   ],
   "source": [
    "response_le_net_train = wait_until_finished(response_le_net_train)\n",
    "print(\"Training job for LeNet-5 neural network\")\n",
    "pprint.pprint(response_le_net_train)"
   ]
  },
  {
   "cell_type": "markdown",
   "metadata": {},
   "source": [
    "### Checking baseline MNIST job accuracy"
   ]
  },
  {
   "cell_type": "markdown",
   "metadata": {},
   "source": [
    "Once the job has finished running we can view the results either through the MLflow URI or by accessing the job via MLflow client.\n",
    "Here we will show the baseline accuracy results from the previous training job.\n",
    "Please see [Querying the MLFlow Tracking Service](#Querying-the-MLFlow-Tracking-Service) section for more details."
   ]
  },
  {
   "cell_type": "code",
   "execution_count": 11,
   "metadata": {},
   "outputs": [
    {
     "name": "stdout",
     "output_type": "stream",
     "text": [
      "{'accuracy': 0.9878135323524475,\n",
      " 'auc': 0.9996731877326965,\n",
      " 'loss': 0.0376531641774203,\n",
      " 'precision': 0.9893254637718201,\n",
      " 'recall': 0.9865844249725342,\n",
      " 'restored_epoch': 7.0,\n",
      " 'stopped_epoch': 12.0,\n",
      " 'training_time_in_minutes': 8.662142633333334,\n",
      " 'val_accuracy': 0.9888296127319336,\n",
      " 'val_auc': 0.9992280006408691,\n",
      " 'val_loss': 0.039811342924912556,\n",
      " 'val_precision': 0.9895659685134888,\n",
      " 'val_recall': 0.9882460832595825}\n"
     ]
    }
   ],
   "source": [
    "# Helper function for viewing MLflow results.\n",
    "def get_mlflow_results(job_response):\n",
    "    mlflow_client = MlflowClient()\n",
    "    job_response = wait_until_finished(job_response)\n",
    "    if(job_response['status']==\"failed\"):\n",
    "        return {}\n",
    "    \n",
    "    run = mlflow_client.get_run(job_response[\"mlflowRunId\"])  \n",
    "    while(len(run.data.metrics) == 0):\n",
    "        time.sleep(1)\n",
    "        run = mlflow_client.get_run(job_response[\"mlflowRunId\"])\n",
    "        \n",
    "    return run\n",
    "\n",
    "\n",
    "results = get_mlflow_results(response_le_net_train)\n",
    "pprint.pprint(results.data.metrics)"
   ]
  },
  {
   "cell_type": "markdown",
   "metadata": {},
   "source": [
    "With the baseline training settings, it appears that the LeNet model has been properly trained on MNIST dataset."
   ]
  },
  {
   "cell_type": "markdown",
   "metadata": {},
   "source": [
    "### Deploying and Testing Adversarial Patches"
   ]
  },
  {
   "cell_type": "markdown",
   "metadata": {},
   "source": [
    "Now we will create and apply the adversarial patches over our test set and evaluate the performance of the baseline model on the adversarial patches.\n",
    "We will also apply the patches over the training set for the adversarial training defense evaluation."
   ]
  },
  {
   "cell_type": "markdown",
   "metadata": {},
   "source": [
    "#### Patch Generation\n",
    "\n",
    "The following job will generate the adversarial patches. \n",
    "Feel free to adjust the input parameters to see how they impact the effectiveness of the patch attack."
   ]
  },
  {
   "cell_type": "code",
   "execution_count": 12,
   "metadata": {},
   "outputs": [
    {
     "name": "stdout",
     "output_type": "stream",
     "text": [
      "Patch attack (LeNet-5 architecture) job submitted\n",
      "\n",
      "{'createdOn': '2021-07-15T04:30:46.181874',\n",
      " 'dependsOn': '41b854f6-5e5e-4f76-acc9-a9de2c3b3cdc',\n",
      " 'entryPoint': 'gen_patch',\n",
      " 'entryPointKwargs': '-P model_name=howard_mnist_adversarial_patches_le_net -P '\n",
      "                     'model_version=none -P data_dir=/nfs/data/Mnist/training '\n",
      "                     '-P num_patch_gen_samples=40 -P num_patch=3 -P '\n",
      "                     'patch_target=5',\n",
      " 'experimentId': 10,\n",
      " 'jobId': '102d9bda-854a-4fd4-91e0-236f1ca3007d',\n",
      " 'lastModified': '2021-07-15T04:30:46.181874',\n",
      " 'mlflowRunId': None,\n",
      " 'queueId': 2,\n",
      " 'status': 'queued',\n",
      " 'timeout': '24h',\n",
      " 'workflowUri': 's3://workflow/bd6caa905e9247efb1acf2f4784208d4/workflows.tar.gz'}\n",
      "\n"
     ]
    }
   ],
   "source": [
    "# Create Patches\n",
    "response_le_net_patches = restapi_client.submit_job(\n",
    "    workflows_file=WORKFLOWS_TAR_GZ,\n",
    "    experiment_name=EXPERIMENT_NAME,\n",
    "    entry_point=\"gen_patch\",\n",
    "    entry_point_kwargs=\" \".join(\n",
    "        [\n",
    "            f\"-P model_name={EXPERIMENT_NAME}_le_net\",\n",
    "            f\"-P model_version=none\",\n",
    "            f\"-P data_dir={DATASET_DIR}/training\",\n",
    "            \"-P num_patch_gen_samples=40\",\n",
    "            \"-P num_patch=3\",\n",
    "            \"-P patch_target=5\",\n",
    "        ]\n",
    "    ),\n",
    "    queue=\"tensorflow_gpu\",\n",
    "    depends_on=response_le_net_train[\"jobId\"],\n",
    ")\n",
    "\n",
    "\n",
    "print(\"Patch attack (LeNet-5 architecture) job submitted\")\n",
    "print(\"\")\n",
    "pprint.pprint(response_le_net_patches)\n",
    "print(\"\")\n",
    "\n",
    "# Wait for Patch attack to finish.\n",
    "response_le_net_patches = wait_until_finished(response_le_net_patches)"
   ]
  },
  {
   "cell_type": "markdown",
   "metadata": {},
   "source": [
    "#### Patch Deployment\n",
    "\n",
    "The following jobs will deploy the patches over the training and test sets."
   ]
  },
  {
   "cell_type": "code",
   "execution_count": 13,
   "metadata": {},
   "outputs": [
    {
     "name": "stdout",
     "output_type": "stream",
     "text": [
      "Patch deployment (LeNet-5 architecture) job submitted\n",
      "\n",
      "{'createdOn': '2021-07-15T04:33:07.313261',\n",
      " 'dependsOn': '102d9bda-854a-4fd4-91e0-236f1ca3007d',\n",
      " 'entryPoint': 'deploy_patch',\n",
      " 'entryPointKwargs': '-P run_id=4a033f7b70214f088213e142a1ac8cc4 -P '\n",
      "                     'model_name=howard_mnist_adversarial_patches_le_net -P '\n",
      "                     'model_version=none -P data_dir=/nfs/data/Mnist/training',\n",
      " 'experimentId': 10,\n",
      " 'jobId': '15be3b3c-13e4-4768-bd22-b34fd5efc7d0',\n",
      " 'lastModified': '2021-07-15T04:33:07.313261',\n",
      " 'mlflowRunId': None,\n",
      " 'queueId': 2,\n",
      " 'status': 'queued',\n",
      " 'timeout': '24h',\n",
      " 'workflowUri': 's3://workflow/1f48f6c8b4e74e9ea0ac9087339db330/workflows.tar.gz'}\n",
      "\n"
     ]
    }
   ],
   "source": [
    "# Deploy Patch attack on training set.\n",
    "\n",
    "response_deploy_le_net_patches_mnist_training = restapi_client.submit_job(\n",
    "    workflows_file=WORKFLOWS_TAR_GZ,\n",
    "    experiment_name=EXPERIMENT_NAME,\n",
    "    entry_point=\"deploy_patch\",\n",
    "    entry_point_kwargs=\" \".join(\n",
    "        [\n",
    "            f\"-P run_id={response_le_net_patches['mlflowRunId']}\",\n",
    "            f\"-P model_name={EXPERIMENT_NAME}_le_net\",\n",
    "            f\"-P model_version=none\",\n",
    "            f\"-P data_dir={DATASET_DIR}/training\",\n",
    "        ]\n",
    "    ),\n",
    "    queue=\"tensorflow_gpu\",\n",
    "    depends_on=response_le_net_patches[\"jobId\"],\n",
    ")\n",
    "\n",
    "print(\"Patch deployment (LeNet-5 architecture) job submitted\")\n",
    "print(\"\")\n",
    "pprint.pprint(response_deploy_le_net_patches_mnist_training)\n",
    "print(\"\")\n",
    "\n",
    "# Get the run ID of the test set.\n",
    "response_deploy_le_net_patches_mnist_training = get_run_id(response_deploy_le_net_patches_mnist_training)"
   ]
  },
  {
   "cell_type": "code",
   "execution_count": 14,
   "metadata": {},
   "outputs": [
    {
     "name": "stdout",
     "output_type": "stream",
     "text": [
      "Patch deployment (LeNet-5 architecture) job submitted\n",
      "\n",
      "{'createdOn': '2021-07-15T04:33:14.471561',\n",
      " 'dependsOn': '102d9bda-854a-4fd4-91e0-236f1ca3007d',\n",
      " 'entryPoint': 'deploy_patch',\n",
      " 'entryPointKwargs': '-P run_id=4a033f7b70214f088213e142a1ac8cc4 -P '\n",
      "                     'model_name=howard_mnist_adversarial_patches_le_net -P '\n",
      "                     'model_version=none -P data_dir=/nfs/data/Mnist/testing '\n",
      "                     '-P patch_deployment_method=corrupt',\n",
      " 'experimentId': 10,\n",
      " 'jobId': 'd4df45d1-eef7-474d-81a5-cf9a66fe30f4',\n",
      " 'lastModified': '2021-07-15T04:33:14.471561',\n",
      " 'mlflowRunId': None,\n",
      " 'queueId': 2,\n",
      " 'status': 'queued',\n",
      " 'timeout': '24h',\n",
      " 'workflowUri': 's3://workflow/5b05a68de85a44579d7b86120eec2281/workflows.tar.gz'}\n",
      "\n"
     ]
    }
   ],
   "source": [
    "# Deploy Patch attack on test set.\n",
    "response_deploy_le_net_patches_mnist_testing = restapi_client.submit_job(\n",
    "    workflows_file=WORKFLOWS_TAR_GZ,\n",
    "    experiment_name=EXPERIMENT_NAME,\n",
    "    entry_point=\"deploy_patch\",\n",
    "    entry_point_kwargs=\" \".join(\n",
    "        [\n",
    "            f\"-P run_id={response_le_net_patches['mlflowRunId']}\",\n",
    "            f\"-P model_name={EXPERIMENT_NAME}_le_net\",\n",
    "            f\"-P model_version=none\",\n",
    "            f\"-P data_dir={DATASET_DIR}/testing\",\n",
    "            \"-P patch_deployment_method=corrupt\"\n",
    "        ]\n",
    "    ),\n",
    "    queue=\"tensorflow_gpu\",\n",
    "    depends_on=response_le_net_patches[\"jobId\"],\n",
    ")\n",
    "\n",
    "print(\"Patch deployment (LeNet-5 architecture) job submitted\")\n",
    "print(\"\")\n",
    "pprint.pprint(response_deploy_le_net_patches_mnist_testing)\n",
    "print(\"\")\n",
    "\n",
    "# Get the run ID of the training set.\n",
    "response_deploy_le_net_patches_mnist_testing = get_run_id(response_deploy_le_net_patches_mnist_testing)"
   ]
  },
  {
   "cell_type": "markdown",
   "metadata": {},
   "source": [
    "### Patch Attack Evaluation: Baseline MNIST Model"
   ]
  },
  {
   "cell_type": "markdown",
   "metadata": {},
   "source": [
    "Now we will run an inference step to check the patch-attacked dataset with our MNIST-trained model."
   ]
  },
  {
   "cell_type": "code",
   "execution_count": 15,
   "metadata": {},
   "outputs": [
    {
     "name": "stdout",
     "output_type": "stream",
     "text": [
      "Patch evaluation (LeNet-5 architecture) job submitted\n",
      "\n",
      "{'createdOn': '2021-07-15T04:33:14.471561',\n",
      " 'dependsOn': '102d9bda-854a-4fd4-91e0-236f1ca3007d',\n",
      " 'entryPoint': 'deploy_patch',\n",
      " 'entryPointKwargs': '-P run_id=4a033f7b70214f088213e142a1ac8cc4 -P '\n",
      "                     'model_name=howard_mnist_adversarial_patches_le_net -P '\n",
      "                     'model_version=none -P data_dir=/nfs/data/Mnist/testing '\n",
      "                     '-P patch_deployment_method=corrupt',\n",
      " 'experimentId': 10,\n",
      " 'jobId': 'd4df45d1-eef7-474d-81a5-cf9a66fe30f4',\n",
      " 'lastModified': '2021-07-15T04:33:21.508028',\n",
      " 'mlflowRunId': 'b0ae793429bb4cfebb1d4f1b2c85855a',\n",
      " 'queueId': 2,\n",
      " 'status': 'started',\n",
      " 'timeout': '24h',\n",
      " 'workflowUri': 's3://workflow/5b05a68de85a44579d7b86120eec2281/workflows.tar.gz'}\n",
      "\n"
     ]
    }
   ],
   "source": [
    "# Check patched dataset results   \n",
    "response_le_net_infer_le_net_patch = restapi_client.submit_job(\n",
    "    workflows_file=WORKFLOWS_TAR_GZ,\n",
    "    experiment_name=EXPERIMENT_NAME,\n",
    "    entry_point=\"infer\",\n",
    "    entry_point_kwargs=\" \".join(\n",
    "        [\n",
    "            f\"-P run_id={response_deploy_le_net_patches_mnist_testing['mlflowRunId']}\",\n",
    "            f\"-P model_name={EXPERIMENT_NAME}_le_net\",\n",
    "            f\"-P model_version=none\",\n",
    "            \"-P batch_size=512\",\n",
    "            \"-P adv_tar_name=adversarial_patch_dataset.tar.gz\",\n",
    "            \"-P adv_data_dir=adv_patch_dataset\",\n",
    "        ]\n",
    "    ),\n",
    "    queue=\"tensorflow_gpu\",\n",
    "    depends_on=response_deploy_le_net_patches_mnist_testing[\"jobId\"],\n",
    ")\n",
    "        \n",
    "print(\"Patch evaluation (LeNet-5 architecture) job submitted\")\n",
    "print(\"\")\n",
    "pprint.pprint(response_deploy_le_net_patches_mnist_testing)\n",
    "print(\"\")"
   ]
  },
  {
   "cell_type": "code",
   "execution_count": 16,
   "metadata": {},
   "outputs": [
    {
     "name": "stdout",
     "output_type": "stream",
     "text": [
      "Baseline model results on adversarially patched dataset: \n",
      "{'accuracy': 0.3811097741127014,\n",
      " 'auc': 0.7639568448066711,\n",
      " 'loss': 2.143265891075134,\n",
      " 'precision': 0.5967143774032593,\n",
      " 'recall': 0.3383413553237915}\n"
     ]
    }
   ],
   "source": [
    "# Wait for the job to finish\n",
    "response_le_net_infer_le_net_patch = wait_until_finished(response_le_net_infer_le_net_patch)\n",
    "\n",
    "# Check on the patch evaluation results\n",
    "results = get_mlflow_results(response_le_net_infer_le_net_patch)\n",
    "print(\"Baseline model results on adversarially patched dataset: \")\n",
    "pprint.pprint(results.data.metrics)"
   ]
  },
  {
   "cell_type": "markdown",
   "metadata": {},
   "source": [
    "\n",
    "We can see that the adversarial patch attack causes a noticeable decrease in the model's accuracy scores.\n",
    "\n",
    "We will now test various defenses against the patch attacked images."
   ]
  },
  {
   "cell_type": "markdown",
   "metadata": {},
   "source": [
    "## Defenses: Image Preprocessing and Adversarial Training"
   ]
  },
  {
   "cell_type": "markdown",
   "metadata": {},
   "source": [
    "The next part of the adversarial patch demo focuses on investigating effective defenses against the attack."
   ]
  },
  {
   "cell_type": "markdown",
   "metadata": {},
   "source": [
    "### Preprocessing Defenses: Spatial Smoothing, JPEG Compression, Gaussian Augmentation"
   ]
  },
  {
   "cell_type": "markdown",
   "metadata": {},
   "source": [
    "Here we will investigate three preprocessing defenses that can be applied over the images before inference."
   ]
  },
  {
   "cell_type": "markdown",
   "metadata": {},
   "source": [
    "#### Spatial Smoothing Defense:\n",
    "\n",
    "Here, we can adjust the `spatial_smoothing_window_size` parameter to increase or decrease the sliding window of the smoothing defense.\n",
    "Larger values will create more noticeable distortions but can also help mask any adversarial perturbations."
   ]
  },
  {
   "cell_type": "code",
   "execution_count": 17,
   "metadata": {},
   "outputs": [
    {
     "name": "stdout",
     "output_type": "stream",
     "text": [
      "Spatial smoothing defense job submitted\n",
      "\n",
      "{'createdOn': '2021-07-15T04:34:24.527512',\n",
      " 'dependsOn': 'd4df45d1-eef7-474d-81a5-cf9a66fe30f4',\n",
      " 'entryPoint': 'spatial_smoothing',\n",
      " 'entryPointKwargs': '-P data_dir=/nfs/data/Mnist/training -P batch_size=20 -P '\n",
      "                     'load_dataset_from_mlruns=true -P '\n",
      "                     'spatial_smoothing_window_size=2 -P '\n",
      "                     'dataset_run_id=b0ae793429bb4cfebb1d4f1b2c85855a -P '\n",
      "                     'dataset_tar_name=adversarial_patch_dataset.tar.gz -P '\n",
      "                     'dataset_name=adv_patch_dataset',\n",
      " 'experimentId': 10,\n",
      " 'jobId': '063a9c8b-a62e-4693-b7e4-1f97243b4f93',\n",
      " 'lastModified': '2021-07-15T04:34:24.527512',\n",
      " 'mlflowRunId': None,\n",
      " 'queueId': 2,\n",
      " 'status': 'queued',\n",
      " 'timeout': '24h',\n",
      " 'workflowUri': 's3://workflow/d6328f4927ad4e1893600c25b53e3170/workflows.tar.gz'}\n",
      "\n"
     ]
    }
   ],
   "source": [
    "response_le_net_spatial_smoothing_test_set = restapi_client.submit_job(\n",
    "    workflows_file=WORKFLOWS_TAR_GZ,\n",
    "    experiment_name=EXPERIMENT_NAME,\n",
    "    entry_point=\"spatial_smoothing\",\n",
    "    entry_point_kwargs=\" \".join(\n",
    "        [\n",
    "            f\"-P data_dir={DATASET_DIR}/training\",\n",
    "            \"-P batch_size=20\",\n",
    "            \"-P load_dataset_from_mlruns=true\",\n",
    "            \"-P spatial_smoothing_window_size=2\",\n",
    "            f\"-P dataset_run_id={response_deploy_le_net_patches_mnist_testing['mlflowRunId']}\",\n",
    "            \"-P dataset_tar_name=adversarial_patch_dataset.tar.gz\",\n",
    "            \"-P dataset_name=adv_patch_dataset\",\n",
    "            \n",
    "        ]\n",
    "    ),\n",
    "    queue=\"tensorflow_gpu\",\n",
    "    depends_on=response_deploy_le_net_patches_mnist_testing[\"jobId\"],\n",
    ")\n",
    "\n",
    "print(\"Spatial smoothing defense job submitted\")\n",
    "print(\"\")\n",
    "pprint.pprint(response_le_net_spatial_smoothing_test_set)\n",
    "print(\"\")\n",
    "\n",
    "response_le_net_spatial_smoothing_test_set = get_run_id(response_le_net_spatial_smoothing_test_set)"
   ]
  },
  {
   "cell_type": "code",
   "execution_count": 18,
   "metadata": {},
   "outputs": [
    {
     "name": "stdout",
     "output_type": "stream",
     "text": [
      "Inference job submitted\n",
      "\n",
      "{'createdOn': '2021-07-15T04:34:31.677290',\n",
      " 'dependsOn': '063a9c8b-a62e-4693-b7e4-1f97243b4f93',\n",
      " 'entryPoint': 'infer',\n",
      " 'entryPointKwargs': '-P run_id=445a8f132d7f4696886e7cebe6b27f7e -P '\n",
      "                     'model_name=howard_mnist_adversarial_patches_le_net -P '\n",
      "                     'model_version=none -P batch_size=20 -P '\n",
      "                     'adv_tar_name=spatial_smoothing_dataset.tar.gz -P '\n",
      "                     'adv_data_dir=adv_testing',\n",
      " 'experimentId': 10,\n",
      " 'jobId': 'b83be73e-3d96-4afd-b375-12a64472b8bf',\n",
      " 'lastModified': '2021-07-15T04:34:31.677290',\n",
      " 'mlflowRunId': None,\n",
      " 'queueId': 2,\n",
      " 'status': 'queued',\n",
      " 'timeout': '24h',\n",
      " 'workflowUri': 's3://workflow/72b5864ab3d74c34a3eb3e9fde12d546/workflows.tar.gz'}\n",
      "\n",
      "Adversarial Patches with Spatial Smoothing Results: \n",
      "\n",
      "{'accuracy': 0.3817635178565979,\n",
      " 'auc': 0.7677673697471619,\n",
      " 'loss': 2.0752232175074026,\n",
      " 'precision': 0.6377308368682861,\n",
      " 'recall': 0.3356713354587555}\n"
     ]
    }
   ],
   "source": [
    "# Wait for defense to complete, then check baseline model on defended test set with adversarial patches.\n",
    "\n",
    "response_evaluate_spatial_smoothing_images = restapi_client.submit_job(\n",
    "    workflows_file=WORKFLOWS_TAR_GZ,\n",
    "    experiment_name=EXPERIMENT_NAME,\n",
    "    entry_point=\"infer\",\n",
    "    entry_point_kwargs=\" \".join(\n",
    "        [\n",
    "            f\"-P run_id={response_le_net_spatial_smoothing_test_set['mlflowRunId']}\",\n",
    "            f\"-P model_name={EXPERIMENT_NAME}_le_net\",\n",
    "            f\"-P model_version=none\",\n",
    "            \"-P batch_size=20\",\n",
    "            \"-P adv_tar_name=spatial_smoothing_dataset.tar.gz\",\n",
    "            \"-P adv_data_dir=adv_testing\",\n",
    "        ]\n",
    "    ),\n",
    "    queue=\"tensorflow_gpu\",\n",
    "    depends_on=response_le_net_spatial_smoothing_test_set[\"jobId\"],\n",
    ")\n",
    "\n",
    "print(\"Inference job submitted\")\n",
    "print(\"\")\n",
    "pprint.pprint(response_evaluate_spatial_smoothing_images)\n",
    "print(\"\")\n",
    "\n",
    "response_evaluate_spatial_smoothing_images = wait_until_finished(response_evaluate_spatial_smoothing_images)\n",
    "results = get_mlflow_results(response_evaluate_spatial_smoothing_images)\n",
    "print(\"Adversarial Patches with Spatial Smoothing Results: \\n\")\n",
    "pprint.pprint(results.data.metrics)"
   ]
  },
  {
   "cell_type": "markdown",
   "metadata": {},
   "source": [
    "It appears that spatial smoothing does not protect well against adversarial patches."
   ]
  },
  {
   "cell_type": "markdown",
   "metadata": {},
   "source": [
    "#### JPEG Compression Defense:\n",
    "\n",
    "We can adjust the image compression quality by modifying the `jpeg_compression_quality` field. \n",
    "Enter any value between 1 (worst) to 95 (best)."
   ]
  },
  {
   "cell_type": "code",
   "execution_count": 19,
   "metadata": {},
   "outputs": [
    {
     "name": "stdout",
     "output_type": "stream",
     "text": [
      "JPEG compression defense job submitted\n",
      "\n",
      "{'createdOn': '2021-07-15T04:35:18.424644',\n",
      " 'dependsOn': 'd4df45d1-eef7-474d-81a5-cf9a66fe30f4',\n",
      " 'entryPoint': 'jpeg_compression',\n",
      " 'entryPointKwargs': '-P data_dir=//nfs/data/Mnist/training -P batch_size=20 '\n",
      "                     '-P load_dataset_from_mlruns=true -P '\n",
      "                     'dataset_run_id=b0ae793429bb4cfebb1d4f1b2c85855a -P '\n",
      "                     'jpeg_compression_quality=30 -P '\n",
      "                     'dataset_tar_name=adversarial_patch_dataset.tar.gz -P '\n",
      "                     'dataset_name=adv_patch_dataset',\n",
      " 'experimentId': 10,\n",
      " 'jobId': 'd31f5212-2991-4430-9dff-a10b476e2c06',\n",
      " 'lastModified': '2021-07-15T04:35:18.424644',\n",
      " 'mlflowRunId': None,\n",
      " 'queueId': 2,\n",
      " 'status': 'queued',\n",
      " 'timeout': '24h',\n",
      " 'workflowUri': 's3://workflow/6efe6aadc83b40259f782300eb7af5e1/workflows.tar.gz'}\n",
      "\n"
     ]
    }
   ],
   "source": [
    "response_le_net_jpeg_compression_test_set = restapi_client.submit_job(\n",
    "    workflows_file=WORKFLOWS_TAR_GZ,\n",
    "    experiment_name=EXPERIMENT_NAME,\n",
    "    entry_point=\"jpeg_compression\",\n",
    "    entry_point_kwargs=\" \".join(\n",
    "        [\n",
    "            f\"-P data_dir=/{DATASET_DIR}/training\",\n",
    "            \"-P batch_size=20\",\n",
    "            \"-P load_dataset_from_mlruns=true\",\n",
    "            f\"-P dataset_run_id={response_deploy_le_net_patches_mnist_testing['mlflowRunId']}\",\n",
    "            \"-P jpeg_compression_quality=30\",\n",
    "            \"-P dataset_tar_name=adversarial_patch_dataset.tar.gz\",\n",
    "            \"-P dataset_name=adv_patch_dataset\",\n",
    "            \n",
    "        ]\n",
    "    ),\n",
    "    queue=\"tensorflow_gpu\",\n",
    "    depends_on=response_deploy_le_net_patches_mnist_testing[\"jobId\"],\n",
    ")\n",
    "\n",
    "print(\"JPEG compression defense job submitted\")\n",
    "print(\"\")\n",
    "pprint.pprint(response_le_net_jpeg_compression_test_set)\n",
    "print(\"\")\n",
    "\n",
    "response_le_net_jpeg_compression_test_set = get_run_id(response_le_net_jpeg_compression_test_set)"
   ]
  },
  {
   "cell_type": "code",
   "execution_count": 20,
   "metadata": {},
   "outputs": [
    {
     "name": "stdout",
     "output_type": "stream",
     "text": [
      "Inference job submitted\n",
      "\n",
      "{'createdOn': '2021-07-15T04:35:25.587581',\n",
      " 'dependsOn': 'd31f5212-2991-4430-9dff-a10b476e2c06',\n",
      " 'entryPoint': 'infer',\n",
      " 'entryPointKwargs': '-P run_id=a7a318320df14eadb7190ad077b72506 -P '\n",
      "                     'model_name=howard_mnist_adversarial_patches_le_net -P '\n",
      "                     'model_version=none -P batch_size=20 -P '\n",
      "                     'adv_tar_name=jpeg_compression_dataset.tar.gz -P '\n",
      "                     'adv_data_dir=adv_testing',\n",
      " 'experimentId': 10,\n",
      " 'jobId': '2fdd8b6b-3371-4f5f-8fd1-e264f93c0881',\n",
      " 'lastModified': '2021-07-15T04:35:25.587581',\n",
      " 'mlflowRunId': None,\n",
      " 'queueId': 2,\n",
      " 'status': 'queued',\n",
      " 'timeout': '24h',\n",
      " 'workflowUri': 's3://workflow/0fc742910c8c4b8faff9c6d4aac95ba2/workflows.tar.gz'}\n",
      "\n",
      "Adversarial Patches with JPEG Compression Results: \n",
      "\n",
      "{'accuracy': 0.3777555227279663,\n",
      " 'auc': 0.7604093551635742,\n",
      " 'loss': 2.2031787777233696,\n",
      " 'precision': 0.5737260580062866,\n",
      " 'recall': 0.33957916498184204}\n"
     ]
    }
   ],
   "source": [
    "# Wait for defense to complete, then check baseline model on defended test set with adversarial patches.\n",
    "\n",
    "response_evaluate_jpeg_compression_images = restapi_client.submit_job(\n",
    "    workflows_file=WORKFLOWS_TAR_GZ,\n",
    "    experiment_name=EXPERIMENT_NAME,\n",
    "    entry_point=\"infer\",\n",
    "    entry_point_kwargs=\" \".join(\n",
    "        [\n",
    "            f\"-P run_id={response_le_net_jpeg_compression_test_set['mlflowRunId']}\",\n",
    "            f\"-P model_name={EXPERIMENT_NAME}_le_net\",\n",
    "            f\"-P model_version=none\",\n",
    "            \"-P batch_size=20\",\n",
    "            \"-P adv_tar_name=jpeg_compression_dataset.tar.gz\",\n",
    "            \"-P adv_data_dir=adv_testing\",\n",
    "        ]\n",
    "    ),\n",
    "    queue=\"tensorflow_gpu\",\n",
    "    depends_on=response_le_net_jpeg_compression_test_set[\"jobId\"],\n",
    ")\n",
    "\n",
    "print(\"Inference job submitted\")\n",
    "print(\"\")\n",
    "pprint.pprint(response_evaluate_jpeg_compression_images)\n",
    "print(\"\")\n",
    "\n",
    "response_evaluate_jpeg_compression_images = wait_until_finished(response_evaluate_jpeg_compression_images)\n",
    "results = get_mlflow_results(response_evaluate_jpeg_compression_images)\n",
    "print(\"Adversarial Patches with JPEG Compression Results: \\n\")\n",
    "pprint.pprint(results.data.metrics)\n"
   ]
  },
  {
   "cell_type": "markdown",
   "metadata": {},
   "source": [
    "#### Gaussian Augmentation Defense:\n",
    "\n",
    "We can adjust the amount of noise created by the defense by adjusting the `gaussian_augmentation_sigma` parameter. \n",
    "Please enter any positive value for sigma."
   ]
  },
  {
   "cell_type": "code",
   "execution_count": 21,
   "metadata": {},
   "outputs": [
    {
     "name": "stdout",
     "output_type": "stream",
     "text": [
      "Gaussian Augmentation defense job submitted\n",
      "\n",
      "{'createdOn': '2021-07-15T04:36:15.409701',\n",
      " 'dependsOn': 'd4df45d1-eef7-474d-81a5-cf9a66fe30f4',\n",
      " 'entryPoint': 'gaussian_augmentation',\n",
      " 'entryPointKwargs': '-P data_dir=//nfs/data/Mnist/training -P batch_size=20 '\n",
      "                     '-P load_dataset_from_mlruns=true -P '\n",
      "                     'dataset_run_id=b0ae793429bb4cfebb1d4f1b2c85855a -P '\n",
      "                     'dataset_tar_name=adversarial_patch_dataset.tar.gz -P '\n",
      "                     'dataset_name=adv_patch_dataset -P '\n",
      "                     'gaussian_augmentation_sigma=0.3',\n",
      " 'experimentId': 10,\n",
      " 'jobId': '6e9fe0a3-fb48-4f9b-a742-fab5cea982c8',\n",
      " 'lastModified': '2021-07-15T04:36:15.409701',\n",
      " 'mlflowRunId': None,\n",
      " 'queueId': 2,\n",
      " 'status': 'queued',\n",
      " 'timeout': '24h',\n",
      " 'workflowUri': 's3://workflow/7a694e852f4041c0a4e3d6c7875e61bc/workflows.tar.gz'}\n",
      "\n"
     ]
    }
   ],
   "source": [
    "response_le_net_gaussian_augmentation_test_set = restapi_client.submit_job(\n",
    "    workflows_file=WORKFLOWS_TAR_GZ,\n",
    "    experiment_name=EXPERIMENT_NAME,\n",
    "    entry_point=\"gaussian_augmentation\",\n",
    "    entry_point_kwargs=\" \".join(\n",
    "        [\n",
    "            f\"-P data_dir=/{DATASET_DIR}/training\",\n",
    "            \"-P batch_size=20\",\n",
    "            \"-P load_dataset_from_mlruns=true\",\n",
    "            f\"-P dataset_run_id={response_deploy_le_net_patches_mnist_testing['mlflowRunId']}\",\n",
    "            \"-P dataset_tar_name=adversarial_patch_dataset.tar.gz\",\n",
    "            \"-P dataset_name=adv_patch_dataset\",\n",
    "            \"-P gaussian_augmentation_sigma=0.3\"\n",
    "            \n",
    "        ]\n",
    "    ),\n",
    "    queue=\"tensorflow_gpu\",\n",
    "    depends_on=response_deploy_le_net_patches_mnist_testing[\"jobId\"],\n",
    ")\n",
    "\n",
    "\n",
    "print(\"Gaussian Augmentation defense job submitted\")\n",
    "print(\"\")\n",
    "pprint.pprint(response_le_net_gaussian_augmentation_test_set)\n",
    "print(\"\")\n",
    "\n",
    "response_le_net_gaussian_augmentation_test_set = get_run_id(response_le_net_gaussian_augmentation_test_set)"
   ]
  },
  {
   "cell_type": "code",
   "execution_count": 22,
   "metadata": {},
   "outputs": [
    {
     "name": "stdout",
     "output_type": "stream",
     "text": [
      "Inference job submitted\n",
      "\n",
      "{'createdOn': '2021-07-15T04:36:22.588135',\n",
      " 'dependsOn': '6e9fe0a3-fb48-4f9b-a742-fab5cea982c8',\n",
      " 'entryPoint': 'infer',\n",
      " 'entryPointKwargs': '-P run_id=ec124f8bcebf48adb31be921e515ebc5 -P '\n",
      "                     'model_name=howard_mnist_adversarial_patches_le_net -P '\n",
      "                     'model_version=none -P batch_size=20 -P '\n",
      "                     'adv_tar_name=gaussian_augmentation_dataset.tar.gz -P '\n",
      "                     'adv_data_dir=adv_testing',\n",
      " 'experimentId': 10,\n",
      " 'jobId': '2566cf3f-9669-4025-b947-032bdbe8d362',\n",
      " 'lastModified': '2021-07-15T04:36:22.588135',\n",
      " 'mlflowRunId': None,\n",
      " 'queueId': 2,\n",
      " 'status': 'queued',\n",
      " 'timeout': '24h',\n",
      " 'workflowUri': 's3://workflow/e2ad4738f8a64dbfb2b325b8a4a5c015/workflows.tar.gz'}\n",
      "\n",
      "Adversarial Patches with Gaussian Augmentation Results: \n",
      "\n",
      "{'accuracy': 0.3198396861553192,\n",
      " 'auc': 0.6677901744842529,\n",
      " 'loss': 3.9620551592362427,\n",
      " 'precision': 0.32769396901130676,\n",
      " 'recall': 0.30470940470695496}\n"
     ]
    }
   ],
   "source": [
    "# Wait for defense to complete, then check baseline model on defended test set with adversarial patches.\n",
    "\n",
    "response_evaluate_gaussian_augmentation_images = restapi_client.submit_job(\n",
    "    workflows_file=WORKFLOWS_TAR_GZ,\n",
    "    experiment_name=EXPERIMENT_NAME,\n",
    "    entry_point=\"infer\",\n",
    "    entry_point_kwargs=\" \".join(\n",
    "        [\n",
    "            f\"-P run_id={response_le_net_gaussian_augmentation_test_set['mlflowRunId']}\",\n",
    "            f\"-P model_name={EXPERIMENT_NAME}_le_net\",\n",
    "            f\"-P model_version=none\",\n",
    "            \"-P batch_size=20\",\n",
    "            \"-P adv_tar_name=gaussian_augmentation_dataset.tar.gz\",\n",
    "            \"-P adv_data_dir=adv_testing\",\n",
    "        ]\n",
    "    ),\n",
    "    queue=\"tensorflow_gpu\",\n",
    "    depends_on=response_le_net_gaussian_augmentation_test_set[\"jobId\"],\n",
    ")\n",
    "\n",
    "print(\"Inference job submitted\")\n",
    "print(\"\")\n",
    "pprint.pprint(response_evaluate_gaussian_augmentation_images)\n",
    "print(\"\")\n",
    "\n",
    "response_evaluate_gaussian_augmentation_images = wait_until_finished(response_evaluate_gaussian_augmentation_images)\n",
    "results = get_mlflow_results(response_evaluate_gaussian_augmentation_images)\n",
    "print(\"Adversarial Patches with Gaussian Augmentation Results: \\n\")\n",
    "pprint.pprint(results.data.metrics)\n"
   ]
  },
  {
   "cell_type": "markdown",
   "metadata": {},
   "source": [
    "It appears that of the three preprocessing defenses, gaussian augmentation might actually improve patch attach effectiveness.\n",
    "\n",
    "Since preprocessing defenses appear to be ineffective at stopping adversarial patches, let's try another approach."
   ]
  },
  {
   "cell_type": "code",
   "execution_count": 23,
   "metadata": {},
   "outputs": [
    {
     "name": "stdout",
     "output_type": "stream",
     "text": [
      "make: Nothing to be done for 'workflows'.\n"
     ]
    }
   ],
   "source": [
    "%%bash\n",
    "\n",
    "# Create the workflows.tar.gz file\n",
    "make workflows"
   ]
  },
  {
   "cell_type": "markdown",
   "metadata": {},
   "source": [
    "## Adversarial Training Defense:"
   ]
  },
  {
   "cell_type": "markdown",
   "metadata": {},
   "source": [
    "Finally, we will train a new copy of the LeNet model on training set that contains adversarial patches.\n",
    "In doing so, the model learns to ignore the adversarial patches."
   ]
  },
  {
   "cell_type": "code",
   "execution_count": 24,
   "metadata": {},
   "outputs": [
    {
     "name": "stdout",
     "output_type": "stream",
     "text": [
      "Patch adversarial training (LeNet-5 architecture) job submitted\n",
      "\n",
      "{'createdOn': '2021-07-15T04:37:10.490542',\n",
      " 'dependsOn': '15be3b3c-13e4-4768-bd22-b34fd5efc7d0',\n",
      " 'entryPoint': 'train',\n",
      " 'entryPointKwargs': '-P '\n",
      "                     'dataset_run_id_testing=b0ae793429bb4cfebb1d4f1b2c85855a '\n",
      "                     '-P '\n",
      "                     'dataset_run_id_training=6b28926c502a45dbba0c38821258d481 '\n",
      "                     '-P batch_size=256 -P model_architecture=le_net -P '\n",
      "                     'register_model_name=howard_mnist_adversarial_patches_adversarial_patch_le_net '\n",
      "                     '-P epochs=30 -P '\n",
      "                     'data_dir_training=/nfs/data/Mnist/training -P '\n",
      "                     'data_dir_testing=/nfs/data/Mnist/testing -P '\n",
      "                     'load_dataset_from_mlruns=True',\n",
      " 'experimentId': 10,\n",
      " 'jobId': 'd26aadaa-e018-4260-a758-e1d2added6aa',\n",
      " 'lastModified': '2021-07-15T04:37:10.490542',\n",
      " 'mlflowRunId': None,\n",
      " 'queueId': 2,\n",
      " 'status': 'queued',\n",
      " 'timeout': '24h',\n",
      " 'workflowUri': 's3://workflow/7d0815fd488d4018a56fcdc3a9a1dcdb/workflows.tar.gz'}\n",
      "\n"
     ]
    },
    {
     "name": "stderr",
     "output_type": "stream",
     "text": [
      "/home/hhuang/.conda/envs/tensorflow-mnist-classifier/lib/python3.7/site-packages/ipykernel/ipkernel.py:287: DeprecationWarning: `should_run_async` will not call `transform_cell` automatically in the future. Please pass the result to `transformed_cell` argument and any exception that happen during thetransform in `preprocessing_exc_tuple` in IPython 7.17 and above.\n",
      "  and should_run_async(code)\n"
     ]
    }
   ],
   "source": [
    "# Finally, train and retest patched dataset.\n",
    "\n",
    "response_deploy_le_net_patches_mnist_adv_training = restapi_client.submit_job(\n",
    "    workflows_file=WORKFLOWS_TAR_GZ,\n",
    "    experiment_name=EXPERIMENT_NAME,\n",
    "    entry_point=\"train\",\n",
    "    entry_point_kwargs=\" \".join(\n",
    "        [\n",
    "            f\"-P dataset_run_id_testing={response_deploy_le_net_patches_mnist_testing['mlflowRunId']}\",\n",
    "            f\"-P dataset_run_id_training={response_deploy_le_net_patches_mnist_training['mlflowRunId']}\",\n",
    "            \"-P batch_size=256\",\n",
    "            \"-P model_architecture=le_net\",\n",
    "            f\"-P register_model_name={EXPERIMENT_NAME}_adversarial_patch_le_net\",\n",
    "            \"-P epochs=30\",\n",
    "            f\"-P data_dir_training={DATASET_DIR}/training\",\n",
    "            f\"-P data_dir_testing={DATASET_DIR}/testing\",\n",
    "            \"-P load_dataset_from_mlruns=True\",\n",
    "        ]\n",
    "    ),\n",
    "    queue=\"tensorflow_gpu\",\n",
    "    depends_on=response_deploy_le_net_patches_mnist_training[\"jobId\"],\n",
    ")\n",
    "\n",
    "print(\"Patch adversarial training (LeNet-5 architecture) job submitted\")\n",
    "print(\"\")\n",
    "pprint.pprint(response_deploy_le_net_patches_mnist_adv_training)\n",
    "print(\"\")\n",
    "\n",
    "response_deploy_le_net_patches_mnist_adv_training = get_run_id(response_deploy_le_net_patches_mnist_adv_training)"
   ]
  },
  {
   "cell_type": "code",
   "execution_count": 25,
   "metadata": {},
   "outputs": [
    {
     "name": "stdout",
     "output_type": "stream",
     "text": [
      "Patch evaluation job submitted\n",
      "\n",
      "{'createdOn': '2021-07-15T04:38:08.447943',\n",
      " 'dependsOn': 'd26aadaa-e018-4260-a758-e1d2added6aa',\n",
      " 'entryPoint': 'infer',\n",
      " 'entryPointKwargs': '-P run_id=b0ae793429bb4cfebb1d4f1b2c85855a -P '\n",
      "                     'model_name=howard_mnist_adversarial_patches_adversarial_patch_le_net '\n",
      "                     '-P model_version=none -P batch_size=20 -P '\n",
      "                     'adv_tar_name=adversarial_patch_dataset.tar.gz -P '\n",
      "                     'adv_data_dir=adv_patch_dataset',\n",
      " 'experimentId': 10,\n",
      " 'jobId': 'cfd6af74-de32-4313-99c2-5f7d6e543054',\n",
      " 'lastModified': '2021-07-15T04:38:08.447943',\n",
      " 'mlflowRunId': None,\n",
      " 'queueId': 2,\n",
      " 'status': 'queued',\n",
      " 'timeout': '24h',\n",
      " 'workflowUri': 's3://workflow/c5b98a72761749b99dc25ccbb7f70fd7/workflows.tar.gz'}\n",
      "\n",
      "Adversarial Training Results:\n"
     ]
    }
   ],
   "source": [
    "response_evaluate_adv_training = restapi_client.submit_job(\n",
    "    workflows_file=WORKFLOWS_TAR_GZ,\n",
    "    experiment_name=EXPERIMENT_NAME,\n",
    "    entry_point=\"infer\",\n",
    "    entry_point_kwargs=\" \".join(\n",
    "        [\n",
    "            f\"-P run_id={response_deploy_le_net_patches_mnist_testing['mlflowRunId']}\",\n",
    "            f\"-P model_name={EXPERIMENT_NAME}_adversarial_patch_le_net\",\n",
    "            f\"-P model_version=none\",\n",
    "            \"-P batch_size=20\",\n",
    "            \"-P adv_tar_name=adversarial_patch_dataset.tar.gz\",\n",
    "            \"-P adv_data_dir=adv_patch_dataset\",\n",
    "        ]\n",
    "    ),\n",
    "    queue=\"tensorflow_gpu\",\n",
    "    depends_on=response_deploy_le_net_patches_mnist_adv_training[\"jobId\"],\n",
    ")\n",
    "\n",
    "print(\"Patch evaluation job submitted\")\n",
    "print(\"\")\n",
    "pprint.pprint(response_evaluate_adv_training)\n",
    "print(\"\")\n",
    "\n",
    "response_evaluate_adv_training = wait_until_finished(response_evaluate_adv_training)\n",
    "results = get_mlflow_results(response_evaluate_adv_training)\n",
    "print(\"Adversarial Training Results:\")"
   ]
  },
  {
   "cell_type": "markdown",
   "metadata": {},
   "source": [
    "**We can see that for adversarial patches, adversarial training appears to be a good option.**"
   ]
  },
  {
   "cell_type": "markdown",
   "metadata": {},
   "source": [
    "**Some other interesting approaches that users may want to investigate by modfifying this demo are:**\n",
    "\n",
    "-   Generating a separate set of patches for training and test data. \n",
    "    -   To do so, add a secondary patch generation job and link the run_id of this new job to one of the existing test/training patch deployment jobs.\n",
    "-   Experimenting with alternate adversarially trained models. \n",
    "    -   If both the MNIST patch demo and MNIST FGM demos are run together, then users can swap the `model={EXPERIMENT_NAME}_adversarial_patch_le_net/None` with the model name of the FGM experiment.\n",
    "    -   Doing so can let users quickly check which adversarial training offers robust protection against multiple types of attacks. \n",
    "     \n",
    "**Please consult the README documentation for more information regarding available entrypoints and attack/defense parameters.**"
   ]
  },
  {
   "cell_type": "markdown",
   "metadata": {},
   "source": [
    "<a id='querying_cell'></a>\n",
    "## Querying the MLFlow Tracking Service"
   ]
  },
  {
   "cell_type": "markdown",
   "metadata": {},
   "source": [
    "Currently the lab API can only be used to register experiments and start jobs, so if users wish to extract their results programmatically, they can use the `MlflowClient()` class from the `mlflow` Python package to connect and query their results.\n",
    "Since we captured the run ids generated by MLFlow, we can easily retrieve the data logged about one of our jobs and inspect the results.\n",
    "To start the client, we simply need to run,"
   ]
  },
  {
   "cell_type": "code",
   "execution_count": 26,
   "metadata": {},
   "outputs": [],
   "source": [
    "mlflow_client = MlflowClient()"
   ]
  },
  {
   "cell_type": "markdown",
   "metadata": {},
   "source": [
    "The client uses the environment variable `MLFLOW_TRACKING_URI` to figure out how to connect to the MLFlow Tracking Service, which we configured near the top of this notebook.\n",
    "To query the results of one of our runs, we just need to pass the run id to the client's `get_run()` method.\n",
    "As an example, let's query the run results for the patch attack applied to the LeNet-5 architecture,"
   ]
  },
  {
   "cell_type": "code",
   "execution_count": 27,
   "metadata": {},
   "outputs": [],
   "source": [
    "run_le_net = mlflow_client.get_run(response_le_net_patches[\"mlflowRunId\"])"
   ]
  },
  {
   "cell_type": "markdown",
   "metadata": {},
   "source": [
    "If the request completed successfully, we should now be able to query data collected during the run.\n",
    "For example, to review the collected metrics, we just use,"
   ]
  },
  {
   "cell_type": "code",
   "execution_count": 28,
   "metadata": {},
   "outputs": [
    {
     "name": "stdout",
     "output_type": "stream",
     "text": [
      "{}\n"
     ]
    }
   ],
   "source": [
    "pprint.pprint(run_le_net.data.metrics)"
   ]
  },
  {
   "cell_type": "markdown",
   "metadata": {},
   "source": [
    "To review the run's parameters, we use,"
   ]
  },
  {
   "cell_type": "code",
   "execution_count": 29,
   "metadata": {},
   "outputs": [
    {
     "name": "stdout",
     "output_type": "stream",
     "text": [
      "{'adv_data_dir': 'adv_patches',\n",
      " 'adv_tar_name': 'adversarial_patch.tar.gz',\n",
      " 'data_dir': '/nfs/data/Mnist/training',\n",
      " 'dataset_seed': '10521841',\n",
      " 'entry_point_seed': '800215300745350056911867886950235430',\n",
      " 'image_size': '28,28,1',\n",
      " 'imagenet_preprocessing': 'false',\n",
      " 'learning_rate': '5.0',\n",
      " 'max_iter': '500',\n",
      " 'model_name': 'howard_mnist_adversarial_patches_le_net',\n",
      " 'model_version': 'none',\n",
      " 'num_patch': '3',\n",
      " 'num_patch_gen_samples': '40',\n",
      " 'patch_target': '5',\n",
      " 'rotation_max': '22.5',\n",
      " 'scale_max': '1.0',\n",
      " 'scale_min': '0.1',\n",
      " 'seed': '-1',\n",
      " 'tensorflow_global_seed': '1486210277'}\n"
     ]
    }
   ],
   "source": [
    "pprint.pprint(run_le_net.data.params)"
   ]
  },
  {
   "cell_type": "markdown",
   "metadata": {},
   "source": [
    "To review the run's tags, we use,"
   ]
  },
  {
   "cell_type": "code",
   "execution_count": 30,
   "metadata": {},
   "outputs": [
    {
     "name": "stdout",
     "output_type": "stream",
     "text": [
      "{'mlflow.project.backend': 'securingai',\n",
      " 'mlflow.project.entryPoint': 'gen_patch',\n",
      " 'mlflow.source.name': '/work/tmpvnqbejqj',\n",
      " 'mlflow.source.type': 'PROJECT',\n",
      " 'mlflow.user': 'securingai',\n",
      " 'securingai.dependsOn': '41b854f6-5e5e-4f76-acc9-a9de2c3b3cdc',\n",
      " 'securingai.jobId': '102d9bda-854a-4fd4-91e0-236f1ca3007d',\n",
      " 'securingai.queue': 'tensorflow_gpu'}\n"
     ]
    }
   ],
   "source": [
    "pprint.pprint(run_le_net.data.tags)"
   ]
  },
  {
   "cell_type": "markdown",
   "metadata": {},
   "source": [
    "There are many things you can query using the MLFlow client.\n",
    "[The MLFlow documentation gives a full overview of the methods that are available](https://www.mlflow.org/docs/latest/python_api/mlflow.tracking.html#mlflow.tracking.MlflowClient)."
   ]
  }
 ],
 "metadata": {
  "interpreter": {
   "hash": "edee40310913f16e2ca02c1d37887bcb7f07f00399ca119bb7e27de7d632ea99"
  },
  "kernelspec": {
   "display_name": "Python 3",
   "language": "python",
   "name": "python3"
  },
  "language_info": {
   "codemirror_mode": {
    "name": "ipython",
    "version": 3
   },
   "file_extension": ".py",
   "mimetype": "text/x-python",
   "name": "python",
   "nbconvert_exporter": "python",
   "pygments_lexer": "ipython3",
   "version": "3.7.10"
  }
 },
 "nbformat": 4,
 "nbformat_minor": 4
}
